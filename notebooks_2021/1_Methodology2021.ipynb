{
 "cells": [
  {
   "cell_type": "markdown",
   "id": "7a84ea3d-410d-4f85-a502-0da10a17eae4",
   "metadata": {},
   "source": [
    "# Methodology"
   ]
  },
  {
   "cell_type": "markdown",
   "id": "fc469230-e8bb-4cdb-aa13-66d442272a77",
   "metadata": {},
   "source": [
    "This notebook shows the methodology for the paper \"Measuring OpenStreetMap building footprint completeness using human settlement layers\".\n",
    "\n",
    "The methodology has four main parts\n",
    "1. Download relevant data\n",
    "2. Get intersection of HRSL pixels and OSM buildings\n",
    "3. Aggregate mapped/unmapped pixels to admin boundaries\n",
    "4. Calculate percent completeness on admin boundaries"
   ]
  },
  {
   "cell_type": "markdown",
   "id": "908daf11-c368-46ae-a076-645bd6c7b966",
   "metadata": {},
   "source": [
    "## Setup"
   ]
  },
  {
   "cell_type": "markdown",
   "id": "97061d7a-6edd-41ee-b782-63c8a0d6fff7",
   "metadata": {},
   "source": [
    "We import all of the relevant packages as well as download the datasets.\n",
    "\n",
    "For reference, here are the original download links for the datasets:\n",
    "1. *High Resolution Settlement Layer* (HRSL) ([Philippines](https://data.humdata.org/dataset/philippines-high-resolution-population-density-maps-demographic-estimates)) ([Madagascar](https://data.humdata.org/dataset/highresolutionpopulationdensitymaps-mdg))\n",
    "2. *Administrative Boundaries* ([Philippines](https://data.humdata.org/dataset/philippines-administrative-levels-0-to-3)) ([Madagascar](https://data.humdata.org/dataset/madagascar-administrative-level-0-4-boundaries))\n",
    "- To search for other countries, you may find latest HRSL / Admin Boundaries datasets can be found in the Humanitarian Data Exchange [website](https://data.humdata.org/)\n",
    "3. *OpenStreetMap (OSM)* ([Philippines](https://download.geofabrik.de/asia/philippines.html)) ([Madagascar](https://download.geofabrik.de/africa/madagascar.html))\n",
    "\n",
    "The notebook will use Madagascar/Philippines data for the download links. You may change this for your own use case!"
   ]
  },
  {
   "cell_type": "code",
   "execution_count": 1,
   "id": "3b0be01b-3f42-42c6-acc6-322fabb7aac3",
   "metadata": {},
   "outputs": [],
   "source": [
    "import numpy as np\n",
    "import pandas as pd\n",
    "import matplotlib.pyplot as plt\n",
    "\n",
    "import shapely\n",
    "import geopandas as gpd\n",
    "import rasterio\n",
    "import rasterio.features\n",
    "\n",
    "import wget\n",
    "\n",
    "import os\n",
    "import glob\n",
    "from zipfile import ZipFile\n",
    "\n",
    "from datetime import datetime"
   ]
  },
  {
   "cell_type": "markdown",
   "id": "ea3d2e96-5fb0-42be-af2b-90ba97bb7d65",
   "metadata": {},
   "source": [
    "Create two folders in your working directory: `download_data` which will contains all raw downloaded data, and `data` which will contain all processed data."
   ]
  },
  {
   "cell_type": "code",
   "execution_count": 3,
   "id": "0a9e890a-f08a-4a80-93d9-bb12bf530862",
   "metadata": {},
   "outputs": [],
   "source": [
    "try:\n",
    "    os.mkdir(\"../download_data\")\n",
    "except Exception:\n",
    "    pass\n",
    "\n",
    "try:\n",
    "    os.mkdir(\"../data\")\n",
    "except Exception:\n",
    "    pass"
   ]
  },
  {
   "cell_type": "markdown",
   "id": "3def3eb3-8960-4b2e-b360-c2538988b407",
   "metadata": {},
   "source": [
    "### Filename set-up"
   ]
  },
  {
   "cell_type": "markdown",
   "id": "24b620a8-7b10-4127-bec0-0683c7a9d287",
   "metadata": {},
   "source": [
    "In the following cell, define filename labels for the country, admin level, month, and year. This will be reflected in the output files."
   ]
  },
  {
   "cell_type": "code",
   "execution_count": 129,
   "id": "0dd4fb85-0cf5-4eaa-bc93-857e32b67445",
   "metadata": {},
   "outputs": [],
   "source": [
    "# Change these to your desired filename labels\n",
    "country_code = \"mdg\"\n",
    "adm_code = \"adm3\"\n",
    "\n",
    "# Time labels\n",
    "# Add leading zero as needed\n",
    "month = \"november\"\n",
    "month_num = \"11\" #Two digits expected\n",
    "year = \"2021\" \n",
    "day = \"23\" # Two digits expected"
   ]
  },
  {
   "cell_type": "markdown",
   "id": "d0201394-7668-4c7d-b73e-094d1cee1701",
   "metadata": {},
   "source": [
    "### HRSL download"
   ]
  },
  {
   "cell_type": "markdown",
   "id": "6ca59c07-1566-4a84-8ebb-4d30c9d029de",
   "metadata": {},
   "source": [
    "For the HRSL layer, we get distribution of the whole population of Madagascar for 2018. Change this to the relevant HRSL layer for your target country.\n",
    "\n",
    "Uncomment the cells below if you have not yet downloaded the HRSL datasets."
   ]
  },
  {
   "cell_type": "code",
   "execution_count": 8,
   "id": "e30459d8-1ad0-4561-9f0f-ca674165a140",
   "metadata": {},
   "outputs": [],
   "source": [
    "# Change this url for your own country\n",
    "# hrsl_url = \"https://data.humdata.org/dataset/9e7ff424-7b9c-42cc-b869-5756fcad0956/resource/1fafdd04-8e0b-4c2a-b4dc-8f3ff39e3015/download/population_mdg_2018-10-01.zip\"\n",
    "\n",
    "# Update for November 23, 2021\n",
    "hrsl_url = \"https://data.humdata.org/dataset/9e7ff424-7b9c-42cc-b869-5756fcad0956/resource/1fafdd04-8e0b-4c2a-b4dc-8f3ff39e3015/download/mdg_general_2020_geotiff.zip\""
   ]
  },
  {
   "cell_type": "code",
   "execution_count": 9,
   "id": "96bd5efb-6b44-4623-9d7b-b4d6351e3d2d",
   "metadata": {},
   "outputs": [
    {
     "data": {
      "text/plain": [
       "'../download_data/hrsl_mdg_november_2021.zip'"
      ]
     },
     "execution_count": 9,
     "metadata": {},
     "output_type": "execute_result"
    }
   ],
   "source": [
    "'../download_data/hrsl_{}_{}_{}.zip'.format(country_code,month,year)"
   ]
  },
  {
   "cell_type": "code",
   "execution_count": 10,
   "id": "86b329c4-96a5-4e69-b0a1-054bda55672d",
   "metadata": {},
   "outputs": [
    {
     "data": {
      "text/plain": [
       "'../download_data/hrsl_mdg_november_2021.zip'"
      ]
     },
     "execution_count": 10,
     "metadata": {},
     "output_type": "execute_result"
    }
   ],
   "source": [
    "# Download and save to ../download_data\n",
    "wget.download(hrsl_url, '../download_data/hrsl_{}_{}_{}.zip'.format(country_code,month,year))"
   ]
  },
  {
   "cell_type": "markdown",
   "id": "eea2e918-d873-47b5-bc74-e0f3e27ca974",
   "metadata": {},
   "source": [
    "### Admin boundary download"
   ]
  },
  {
   "cell_type": "markdown",
   "id": "84b0da7b-ca8f-4d5f-9cc8-5a0a1f912492",
   "metadata": {},
   "source": [
    "Uncomment the cells below if you have not yet downloaded the admin boundary datasets."
   ]
  },
  {
   "cell_type": "code",
   "execution_count": 11,
   "id": "1be8507a-3999-426a-849f-8707ffbfaf98",
   "metadata": {},
   "outputs": [],
   "source": [
    "# Change this url for your own country\n",
    "adm_url = \"https://data.humdata.org/dataset/26fa506b-0727-4d9d-a590-d2abee21ee22/resource/ed94d52e-349e-41be-80cb-62dc0435bd34/download/mdg_adm_bngrc_ocha_20181031_shp.zip\""
   ]
  },
  {
   "cell_type": "code",
   "execution_count": 12,
   "id": "e9638ee2-865d-4926-9806-4338f55ff494",
   "metadata": {
    "tags": []
   },
   "outputs": [
    {
     "data": {
      "text/plain": [
       "'../download_data/mdg_adm_all.zip'"
      ]
     },
     "execution_count": 12,
     "metadata": {},
     "output_type": "execute_result"
    }
   ],
   "source": [
    "# Download and save to ../download_data\n",
    "wget.download(adm_url, '../download_data/{}_adm_all.zip'.format(country_code))"
   ]
  },
  {
   "cell_type": "markdown",
   "id": "7ab24a9d-4eeb-4614-a5c0-ad439f95799a",
   "metadata": {},
   "source": [
    "### OSM download"
   ]
  },
  {
   "cell_type": "markdown",
   "id": "3100a7a9-b98e-4a6d-b6a9-f1bee25a28e4",
   "metadata": {},
   "source": [
    "Uncomment the cells below if you have not yet downloaded the OSM datasets."
   ]
  },
  {
   "cell_type": "code",
   "execution_count": 13,
   "id": "272a6e8f-3041-4d42-8dac-27fb347f8813",
   "metadata": {},
   "outputs": [],
   "source": [
    "# Change this url for your own country\n",
    "osm_url = \"https://download.geofabrik.de/africa/madagascar-latest-free.shp.zip\""
   ]
  },
  {
   "cell_type": "code",
   "execution_count": 14,
   "id": "ca2141d3-bb48-453a-b39c-81a618b3ce74",
   "metadata": {},
   "outputs": [
    {
     "data": {
      "text/plain": [
       "'../download_data/mdg-latest-free.shp.zip'"
      ]
     },
     "execution_count": 14,
     "metadata": {},
     "output_type": "execute_result"
    }
   ],
   "source": [
    "# Download and save to ../download_data\n",
    "wget.download(osm_url, '../download_data/{}-latest-free.shp.zip'.format(country_code))"
   ]
  },
  {
   "cell_type": "code",
   "execution_count": 11,
   "id": "4bc72fd3-c4aa-40c4-906b-2945714e2505",
   "metadata": {},
   "outputs": [
    {
     "data": {
      "text/plain": [
       "'../download_data/mdg-210701-free.shp.zip'"
      ]
     },
     "execution_count": 11,
     "metadata": {},
     "output_type": "execute_result"
    }
   ],
   "source": [
    "## 210701 update, for sense-checking\n",
    "# Change this url for your own country\n",
    "osm_url = \"https://download.geofabrik.de/africa/madagascar-210101-free.shp.zip\"\n",
    "\n",
    "# Download and save to ../download_data\n",
    "wget.download(osm_url, '../download_data/{}-210701-free.shp.zip'.format(country_code))"
   ]
  },
  {
   "cell_type": "markdown",
   "id": "15e36bd5-84c4-4db6-b2e0-bc1f4335c29c",
   "metadata": {},
   "source": [
    "### Unzip all datasets"
   ]
  },
  {
   "cell_type": "code",
   "execution_count": 12,
   "id": "78b2a613-c1e1-4ea6-9e18-f627089f99d6",
   "metadata": {},
   "outputs": [],
   "source": [
    "for i in glob.glob(\"../download_data/*.zip\"):\n",
    "    if os.path.isdir(os.path.splitext(i)[0]):\n",
    "        pass\n",
    "    else:\n",
    "        with ZipFile(i) as myzip:\n",
    "            myzip.extractall(os.path.splitext(i)[0])"
   ]
  },
  {
   "cell_type": "markdown",
   "id": "51c0e7f8-9d35-47ce-99d3-3fe5a7400a80",
   "metadata": {},
   "source": [
    "## Get intersection of HRSL pixels and OSM buildings"
   ]
  },
  {
   "cell_type": "markdown",
   "id": "538e286a-7f45-4bb2-bd17-789ae4c9a4d9",
   "metadata": {},
   "source": [
    "We use Facebook’s High Resolution Settlement Layer (HRSL) as a proxy ground truth for building footprints. We then measure data completeness by getting the “percentage completeness” of pixels which is computed using the total percentage of pixels within the intersection of the human settlement layer and the OSM building footprints.\n",
    "\n",
    "![](../assets/formula.png)\n",
    "\n",
    "Pixels that intersect OSM buildings are *mapped*.\n",
    "\n",
    "Pixels that do not intersect OSM buildings are *unmapped*."
   ]
  },
  {
   "cell_type": "code",
   "execution_count": 3,
   "id": "881b63e2-07bd-4e06-a970-d66ed9dfce44",
   "metadata": {},
   "outputs": [],
   "source": [
    "# # Open tiff file\n",
    "# hrsl_layer = rasterio.open(\n",
    "#     \"../download_data/hrsl_{}_{}_{}/population_mdg_2018-10-01.tif\"\\\n",
    "#     .format(country_code,month,year)\n",
    "# )\n",
    "\n",
    "# # Update for November 23, 2021\n",
    "# hrsl_layer = rasterio.open(\n",
    "#     \"../download_data/.tif\"\\\n",
    "#     .format(country_code,month,year)\n",
    "# )"
   ]
  },
  {
   "cell_type": "code",
   "execution_count": 3,
   "id": "52f0cc39-e884-4473-9c88-e0a1b1ddaf05",
   "metadata": {},
   "outputs": [],
   "source": [
    "# Older HRSL file from 2018 (debug)\n",
    "hrsl_layer = rasterio.open(\n",
    "    \"../download_data/2021-07-13-osm-completeness-madagascar_population_mdg_2018-10-01.tif\"\\\n",
    "    .format(country_code,month,year)\n",
    ")"
   ]
  },
  {
   "cell_type": "code",
   "execution_count": 4,
   "id": "8cb9e1b6-5286-4d9a-98b2-4ed68feac1b2",
   "metadata": {},
   "outputs": [],
   "source": [
    "# Read first band of tiff file\n",
    "hrsl_band1_mask = hrsl_layer.read_masks(1)"
   ]
  },
  {
   "cell_type": "markdown",
   "id": "d46924c7-4603-445a-bf7a-8ce501855252",
   "metadata": {},
   "source": [
    "### Convert HRSL dataset from raster to vector"
   ]
  },
  {
   "cell_type": "code",
   "execution_count": 5,
   "id": "8abc0bc3-e61a-4a6e-966b-7266b2aa064e",
   "metadata": {},
   "outputs": [],
   "source": [
    "hrsl_rand = np.random.rand(\n",
    "    np.shape(hrsl_band1_mask)[0], np.shape(hrsl_band1_mask)[1]\n",
    ")\n",
    "hrsl_rand = hrsl_rand.astype(\"float32\")"
   ]
  },
  {
   "cell_type": "code",
   "execution_count": 6,
   "id": "0d41d3b2-322c-4bcf-809a-64c66a74e01c",
   "metadata": {},
   "outputs": [],
   "source": [
    "hrsl_band1_poly = list(\n",
    "    rasterio.features.shapes(\n",
    "        hrsl_rand, transform=hrsl_layer.transform, mask=hrsl_band1_mask\n",
    "    )\n",
    ")"
   ]
  },
  {
   "cell_type": "code",
   "execution_count": 7,
   "id": "7031205d-46d2-4c79-bfbe-762acefdae13",
   "metadata": {},
   "outputs": [],
   "source": [
    "hrsl_geom = []\n",
    "for geom, value in hrsl_band1_poly:\n",
    "    geom = shapely.geometry.shape(geom)\n",
    "    hrsl_geom.append(geom)"
   ]
  },
  {
   "cell_type": "code",
   "execution_count": 8,
   "id": "ff0fe46a-bed2-4843-ab36-9a76915d67ce",
   "metadata": {},
   "outputs": [],
   "source": [
    "hrsl_gdf = pd.DataFrame(hrsl_geom)\n",
    "hrsl_gdf = gpd.GeoDataFrame(hrsl_gdf, geometry=hrsl_gdf[0], crs=\"EPSG:4326\")\n",
    "hrsl_gdf.drop(columns=[0], inplace=True)\n",
    "hrsl_gdf.reset_index(level=0, inplace=True)"
   ]
  },
  {
   "cell_type": "code",
   "execution_count": 9,
   "id": "c234f922-3482-4512-9c87-786a52cef377",
   "metadata": {},
   "outputs": [],
   "source": [
    "hrsl_gdf.to_file('../data/hrsl_{}.gpkg'.format(country_code), driver='GPKG')"
   ]
  },
  {
   "cell_type": "markdown",
   "id": "60b204d8-884c-445a-bfde-e400c909c953",
   "metadata": {},
   "source": [
    "### Load OSM dataset"
   ]
  },
  {
   "cell_type": "code",
   "execution_count": 32,
   "id": "87d6d034-c8d8-466c-b725-b9c00f50fa30",
   "metadata": {},
   "outputs": [],
   "source": [
    "osm_gdf = gpd.read_file(\n",
    "    \"../download_data/{}-latest-free.shp/gis_osm_buildings_a_free_1.shp\".format(country_code),\n",
    "    driver=\"shp\",\n",
    ")"
   ]
  },
  {
   "cell_type": "code",
   "execution_count": 33,
   "id": "c76dfb72-dac7-4acd-b6d8-be53052ccd66",
   "metadata": {},
   "outputs": [],
   "source": [
    "osm_gdf.to_file('../data/{}-latest-free.gpkg'.format(country_code),driver = 'GPKG')"
   ]
  },
  {
   "cell_type": "code",
   "execution_count": 13,
   "id": "38edf633-2dee-467b-8aa5-7be280280c7f",
   "metadata": {},
   "outputs": [],
   "source": [
    "# # 210701\n",
    "# osm_gdf = gpd.read_file(\n",
    "#     \"../download_data/{}-210701-free.shp/gis_osm_buildings_a_free_1.shp\".format(country_code),\n",
    "#     driver=\"shp\",\n",
    "# )\n",
    "\n",
    "# osm_gdf.to_file('../data/{}-210701-free.gpkg'.format(country_code),driver = 'GPKG')"
   ]
  },
  {
   "cell_type": "markdown",
   "id": "d5a3cc80-1ac8-4fe6-8541-f48e67377f80",
   "metadata": {},
   "source": [
    "### Get mapped pixels"
   ]
  },
  {
   "cell_type": "code",
   "execution_count": 10,
   "id": "ee570de8-4672-42c8-a815-b7d71b2f8261",
   "metadata": {},
   "outputs": [],
   "source": [
    "# Just run this so you don't have to rerun everything up top\n",
    "hrsl_gdf = gpd.read_file('../data/hrsl_{}.gpkg'.format(country_code), driver='GPKG')"
   ]
  },
  {
   "cell_type": "code",
   "execution_count": 11,
   "id": "45e8c53a-f720-44df-9d48-aa0d371e45c5",
   "metadata": {},
   "outputs": [
    {
     "data": {
      "text/html": [
       "<div>\n",
       "<style scoped>\n",
       "    .dataframe tbody tr th:only-of-type {\n",
       "        vertical-align: middle;\n",
       "    }\n",
       "\n",
       "    .dataframe tbody tr th {\n",
       "        vertical-align: top;\n",
       "    }\n",
       "\n",
       "    .dataframe thead th {\n",
       "        text-align: right;\n",
       "    }\n",
       "</style>\n",
       "<table border=\"1\" class=\"dataframe\">\n",
       "  <thead>\n",
       "    <tr style=\"text-align: right;\">\n",
       "      <th></th>\n",
       "      <th>index</th>\n",
       "      <th>geometry</th>\n",
       "    </tr>\n",
       "  </thead>\n",
       "  <tbody>\n",
       "    <tr>\n",
       "      <th>0</th>\n",
       "      <td>0</td>\n",
       "      <td>POLYGON ((49.24486 -11.95569, 49.24486 -11.955...</td>\n",
       "    </tr>\n",
       "    <tr>\n",
       "      <th>1</th>\n",
       "      <td>1</td>\n",
       "      <td>POLYGON ((49.27153 -11.95597, 49.27153 -11.956...</td>\n",
       "    </tr>\n",
       "    <tr>\n",
       "      <th>2</th>\n",
       "      <td>2</td>\n",
       "      <td>POLYGON ((49.26042 -11.97458, 49.26042 -11.974...</td>\n",
       "    </tr>\n",
       "    <tr>\n",
       "      <th>3</th>\n",
       "      <td>3</td>\n",
       "      <td>POLYGON ((49.26458 -11.97986, 49.26458 -11.980...</td>\n",
       "    </tr>\n",
       "    <tr>\n",
       "      <th>4</th>\n",
       "      <td>4</td>\n",
       "      <td>POLYGON ((49.26458 -11.98014, 49.26458 -11.980...</td>\n",
       "    </tr>\n",
       "    <tr>\n",
       "      <th>...</th>\n",
       "      <td>...</td>\n",
       "      <td>...</td>\n",
       "    </tr>\n",
       "    <tr>\n",
       "      <th>1583561</th>\n",
       "      <td>1583561</td>\n",
       "      <td>POLYGON ((45.28903 -25.57153, 45.28903 -25.571...</td>\n",
       "    </tr>\n",
       "    <tr>\n",
       "      <th>1583562</th>\n",
       "      <td>1583562</td>\n",
       "      <td>POLYGON ((45.30958 -25.57208, 45.30958 -25.572...</td>\n",
       "    </tr>\n",
       "    <tr>\n",
       "      <th>1583563</th>\n",
       "      <td>1583563</td>\n",
       "      <td>POLYGON ((45.31486 -25.57319, 45.31486 -25.573...</td>\n",
       "    </tr>\n",
       "    <tr>\n",
       "      <th>1583564</th>\n",
       "      <td>1583564</td>\n",
       "      <td>POLYGON ((45.21764 -25.57431, 45.21764 -25.574...</td>\n",
       "    </tr>\n",
       "    <tr>\n",
       "      <th>1583565</th>\n",
       "      <td>1583565</td>\n",
       "      <td>POLYGON ((45.19375 -25.58236, 45.19375 -25.582...</td>\n",
       "    </tr>\n",
       "  </tbody>\n",
       "</table>\n",
       "<p>1583566 rows × 2 columns</p>\n",
       "</div>"
      ],
      "text/plain": [
       "           index                                           geometry\n",
       "0              0  POLYGON ((49.24486 -11.95569, 49.24486 -11.955...\n",
       "1              1  POLYGON ((49.27153 -11.95597, 49.27153 -11.956...\n",
       "2              2  POLYGON ((49.26042 -11.97458, 49.26042 -11.974...\n",
       "3              3  POLYGON ((49.26458 -11.97986, 49.26458 -11.980...\n",
       "4              4  POLYGON ((49.26458 -11.98014, 49.26458 -11.980...\n",
       "...          ...                                                ...\n",
       "1583561  1583561  POLYGON ((45.28903 -25.57153, 45.28903 -25.571...\n",
       "1583562  1583562  POLYGON ((45.30958 -25.57208, 45.30958 -25.572...\n",
       "1583563  1583563  POLYGON ((45.31486 -25.57319, 45.31486 -25.573...\n",
       "1583564  1583564  POLYGON ((45.21764 -25.57431, 45.21764 -25.574...\n",
       "1583565  1583565  POLYGON ((45.19375 -25.58236, 45.19375 -25.582...\n",
       "\n",
       "[1583566 rows x 2 columns]"
      ]
     },
     "execution_count": 11,
     "metadata": {},
     "output_type": "execute_result"
    }
   ],
   "source": [
    "hrsl_gdf"
   ]
  },
  {
   "cell_type": "code",
   "execution_count": 12,
   "id": "3f858be6-8ef0-42f4-8bd7-95ec1a8bcfcc",
   "metadata": {},
   "outputs": [],
   "source": [
    "# 2021 OSM File\n",
    "osm_gdf = gpd.read_file('../data/{}-latest-free.gpkg'.format(country_code),driver = 'GPKG')"
   ]
  },
  {
   "cell_type": "code",
   "execution_count": 15,
   "id": "1b1f6e82-970b-48b6-b809-cd66ca1fa56f",
   "metadata": {},
   "outputs": [],
   "source": [
    "# # 210701 \n",
    "# osm_gdf = gpd.read_file('../data/{}-210701-free.gpkg'.format(country_code),driver = 'GPKG')"
   ]
  },
  {
   "cell_type": "code",
   "execution_count": 13,
   "id": "05119e9b-94d1-430d-8021-3ef35792b5cc",
   "metadata": {},
   "outputs": [],
   "source": [
    "pixels_with_buildings = gpd.sjoin(\n",
    "    hrsl_gdf, osm_gdf, how=\"inner\", predicate=\"intersects\"\n",
    ")"
   ]
  },
  {
   "cell_type": "code",
   "execution_count": 14,
   "id": "189e5c84-3676-4831-8e72-8b97f0503a7a",
   "metadata": {},
   "outputs": [],
   "source": [
    "pixels_with_buildings = pixels_with_buildings.drop_duplicates(subset='index')"
   ]
  },
  {
   "cell_type": "code",
   "execution_count": 15,
   "id": "4175432c-69d5-4cf4-a7d3-0fab6f857cdb",
   "metadata": {},
   "outputs": [
    {
     "data": {
      "text/html": [
       "<div>\n",
       "<style scoped>\n",
       "    .dataframe tbody tr th:only-of-type {\n",
       "        vertical-align: middle;\n",
       "    }\n",
       "\n",
       "    .dataframe tbody tr th {\n",
       "        vertical-align: top;\n",
       "    }\n",
       "\n",
       "    .dataframe thead th {\n",
       "        text-align: right;\n",
       "    }\n",
       "</style>\n",
       "<table border=\"1\" class=\"dataframe\">\n",
       "  <thead>\n",
       "    <tr style=\"text-align: right;\">\n",
       "      <th></th>\n",
       "      <th>index</th>\n",
       "      <th>geometry</th>\n",
       "      <th>index_right</th>\n",
       "      <th>osm_id</th>\n",
       "      <th>code</th>\n",
       "      <th>fclass</th>\n",
       "      <th>name</th>\n",
       "      <th>type</th>\n",
       "    </tr>\n",
       "  </thead>\n",
       "  <tbody>\n",
       "    <tr>\n",
       "      <th>1</th>\n",
       "      <td>1</td>\n",
       "      <td>POLYGON ((49.27153 -11.95597, 49.27153 -11.956...</td>\n",
       "      <td>574</td>\n",
       "      <td>169708515</td>\n",
       "      <td>1500</td>\n",
       "      <td>building</td>\n",
       "      <td>None</td>\n",
       "      <td>None</td>\n",
       "    </tr>\n",
       "    <tr>\n",
       "      <th>5</th>\n",
       "      <td>5</td>\n",
       "      <td>POLYGON ((49.25264 -11.99097, 49.25264 -11.991...</td>\n",
       "      <td>242796</td>\n",
       "      <td>499544846</td>\n",
       "      <td>1500</td>\n",
       "      <td>building</td>\n",
       "      <td>None</td>\n",
       "      <td>None</td>\n",
       "    </tr>\n",
       "    <tr>\n",
       "      <th>6</th>\n",
       "      <td>6</td>\n",
       "      <td>POLYGON ((49.22847 -12.04597, 49.22847 -12.046...</td>\n",
       "      <td>714005</td>\n",
       "      <td>717030538</td>\n",
       "      <td>1500</td>\n",
       "      <td>building</td>\n",
       "      <td>None</td>\n",
       "      <td>None</td>\n",
       "    </tr>\n",
       "    <tr>\n",
       "      <th>7</th>\n",
       "      <td>7</td>\n",
       "      <td>POLYGON ((49.22847 -12.04625, 49.22847 -12.046...</td>\n",
       "      <td>714005</td>\n",
       "      <td>717030538</td>\n",
       "      <td>1500</td>\n",
       "      <td>building</td>\n",
       "      <td>None</td>\n",
       "      <td>None</td>\n",
       "    </tr>\n",
       "    <tr>\n",
       "      <th>9</th>\n",
       "      <td>9</td>\n",
       "      <td>POLYGON ((49.23264 -12.05403, 49.23264 -12.054...</td>\n",
       "      <td>293027</td>\n",
       "      <td>541953095</td>\n",
       "      <td>1500</td>\n",
       "      <td>building</td>\n",
       "      <td>None</td>\n",
       "      <td>None</td>\n",
       "    </tr>\n",
       "  </tbody>\n",
       "</table>\n",
       "</div>"
      ],
      "text/plain": [
       "   index                                           geometry  index_right  \\\n",
       "1      1  POLYGON ((49.27153 -11.95597, 49.27153 -11.956...          574   \n",
       "5      5  POLYGON ((49.25264 -11.99097, 49.25264 -11.991...       242796   \n",
       "6      6  POLYGON ((49.22847 -12.04597, 49.22847 -12.046...       714005   \n",
       "7      7  POLYGON ((49.22847 -12.04625, 49.22847 -12.046...       714005   \n",
       "9      9  POLYGON ((49.23264 -12.05403, 49.23264 -12.054...       293027   \n",
       "\n",
       "      osm_id  code    fclass  name  type  \n",
       "1  169708515  1500  building  None  None  \n",
       "5  499544846  1500  building  None  None  \n",
       "6  717030538  1500  building  None  None  \n",
       "7  717030538  1500  building  None  None  \n",
       "9  541953095  1500  building  None  None  "
      ]
     },
     "execution_count": 15,
     "metadata": {},
     "output_type": "execute_result"
    }
   ],
   "source": [
    "# Show the result\n",
    "pixels_with_buildings.head(5)"
   ]
  },
  {
   "cell_type": "code",
   "execution_count": 16,
   "id": "c55937ca-9602-40db-96d4-c8f55d79f7b7",
   "metadata": {},
   "outputs": [
    {
     "name": "stdout",
     "output_type": "stream",
     "text": [
      "<class 'geopandas.geodataframe.GeoDataFrame'>\n",
      "Int64Index: 323972 entries, 1 to 1583555\n",
      "Data columns (total 8 columns):\n",
      " #   Column       Non-Null Count   Dtype   \n",
      "---  ------       --------------   -----   \n",
      " 0   index        323972 non-null  int64   \n",
      " 1   geometry     323972 non-null  geometry\n",
      " 2   index_right  323972 non-null  int64   \n",
      " 3   osm_id       323972 non-null  object  \n",
      " 4   code         323972 non-null  int64   \n",
      " 5   fclass       323972 non-null  object  \n",
      " 6   name         3215 non-null    object  \n",
      " 7   type         8985 non-null    object  \n",
      "dtypes: geometry(1), int64(3), object(4)\n",
      "memory usage: 22.2+ MB\n"
     ]
    }
   ],
   "source": [
    "pixels_with_buildings.info()"
   ]
  },
  {
   "cell_type": "code",
   "execution_count": 17,
   "id": "76610ded-2558-424a-9a04-bbbe7a2486ec",
   "metadata": {},
   "outputs": [],
   "source": [
    "# Drop unnecessary columns\n",
    "pixels_with_buildings.drop(columns=['index_right', 'osm_id', 'code', 'fclass', 'name', 'type'], inplace=True)"
   ]
  },
  {
   "cell_type": "code",
   "execution_count": 18,
   "id": "89a60f36-ca53-4f76-93ed-df1ca0ca1281",
   "metadata": {},
   "outputs": [],
   "source": [
    "# Save to file\n",
    "pixels_with_buildings.to_file('../data/{}_pixels_with_buildings.gpkg'.format(country_code), driver='GPKG')"
   ]
  },
  {
   "cell_type": "markdown",
   "id": "b7ac21d6-2fbd-4c02-bd15-5decde53c734",
   "metadata": {},
   "source": [
    "### Get unmapped pixels"
   ]
  },
  {
   "cell_type": "code",
   "execution_count": 19,
   "id": "728c2eba-0e67-4412-b8ed-73de667b3a9b",
   "metadata": {},
   "outputs": [],
   "source": [
    "pixels_no_buildings = pd.merge(hrsl_gdf, pixels_with_buildings, how='outer', indicator=True)"
   ]
  },
  {
   "cell_type": "code",
   "execution_count": 20,
   "id": "d87494d2-940a-4056-b730-0cd57787ab9a",
   "metadata": {},
   "outputs": [
    {
     "data": {
      "text/html": [
       "<div>\n",
       "<style scoped>\n",
       "    .dataframe tbody tr th:only-of-type {\n",
       "        vertical-align: middle;\n",
       "    }\n",
       "\n",
       "    .dataframe tbody tr th {\n",
       "        vertical-align: top;\n",
       "    }\n",
       "\n",
       "    .dataframe thead th {\n",
       "        text-align: right;\n",
       "    }\n",
       "</style>\n",
       "<table border=\"1\" class=\"dataframe\">\n",
       "  <thead>\n",
       "    <tr style=\"text-align: right;\">\n",
       "      <th></th>\n",
       "      <th>index</th>\n",
       "      <th>geometry</th>\n",
       "      <th>_merge</th>\n",
       "    </tr>\n",
       "  </thead>\n",
       "  <tbody>\n",
       "    <tr>\n",
       "      <th>0</th>\n",
       "      <td>0</td>\n",
       "      <td>POLYGON ((49.24486 -11.95569, 49.24486 -11.955...</td>\n",
       "      <td>left_only</td>\n",
       "    </tr>\n",
       "    <tr>\n",
       "      <th>1</th>\n",
       "      <td>1</td>\n",
       "      <td>POLYGON ((49.27153 -11.95597, 49.27153 -11.956...</td>\n",
       "      <td>both</td>\n",
       "    </tr>\n",
       "    <tr>\n",
       "      <th>2</th>\n",
       "      <td>2</td>\n",
       "      <td>POLYGON ((49.26042 -11.97458, 49.26042 -11.974...</td>\n",
       "      <td>left_only</td>\n",
       "    </tr>\n",
       "    <tr>\n",
       "      <th>3</th>\n",
       "      <td>3</td>\n",
       "      <td>POLYGON ((49.26458 -11.97986, 49.26458 -11.980...</td>\n",
       "      <td>left_only</td>\n",
       "    </tr>\n",
       "    <tr>\n",
       "      <th>4</th>\n",
       "      <td>4</td>\n",
       "      <td>POLYGON ((49.26458 -11.98014, 49.26458 -11.980...</td>\n",
       "      <td>left_only</td>\n",
       "    </tr>\n",
       "    <tr>\n",
       "      <th>...</th>\n",
       "      <td>...</td>\n",
       "      <td>...</td>\n",
       "      <td>...</td>\n",
       "    </tr>\n",
       "    <tr>\n",
       "      <th>1583561</th>\n",
       "      <td>1583561</td>\n",
       "      <td>POLYGON ((45.28903 -25.57153, 45.28903 -25.571...</td>\n",
       "      <td>left_only</td>\n",
       "    </tr>\n",
       "    <tr>\n",
       "      <th>1583562</th>\n",
       "      <td>1583562</td>\n",
       "      <td>POLYGON ((45.30958 -25.57208, 45.30958 -25.572...</td>\n",
       "      <td>left_only</td>\n",
       "    </tr>\n",
       "    <tr>\n",
       "      <th>1583563</th>\n",
       "      <td>1583563</td>\n",
       "      <td>POLYGON ((45.31486 -25.57319, 45.31486 -25.573...</td>\n",
       "      <td>left_only</td>\n",
       "    </tr>\n",
       "    <tr>\n",
       "      <th>1583564</th>\n",
       "      <td>1583564</td>\n",
       "      <td>POLYGON ((45.21764 -25.57431, 45.21764 -25.574...</td>\n",
       "      <td>left_only</td>\n",
       "    </tr>\n",
       "    <tr>\n",
       "      <th>1583565</th>\n",
       "      <td>1583565</td>\n",
       "      <td>POLYGON ((45.19375 -25.58236, 45.19375 -25.582...</td>\n",
       "      <td>left_only</td>\n",
       "    </tr>\n",
       "  </tbody>\n",
       "</table>\n",
       "<p>1583566 rows × 3 columns</p>\n",
       "</div>"
      ],
      "text/plain": [
       "           index                                           geometry     _merge\n",
       "0              0  POLYGON ((49.24486 -11.95569, 49.24486 -11.955...  left_only\n",
       "1              1  POLYGON ((49.27153 -11.95597, 49.27153 -11.956...       both\n",
       "2              2  POLYGON ((49.26042 -11.97458, 49.26042 -11.974...  left_only\n",
       "3              3  POLYGON ((49.26458 -11.97986, 49.26458 -11.980...  left_only\n",
       "4              4  POLYGON ((49.26458 -11.98014, 49.26458 -11.980...  left_only\n",
       "...          ...                                                ...        ...\n",
       "1583561  1583561  POLYGON ((45.28903 -25.57153, 45.28903 -25.571...  left_only\n",
       "1583562  1583562  POLYGON ((45.30958 -25.57208, 45.30958 -25.572...  left_only\n",
       "1583563  1583563  POLYGON ((45.31486 -25.57319, 45.31486 -25.573...  left_only\n",
       "1583564  1583564  POLYGON ((45.21764 -25.57431, 45.21764 -25.574...  left_only\n",
       "1583565  1583565  POLYGON ((45.19375 -25.58236, 45.19375 -25.582...  left_only\n",
       "\n",
       "[1583566 rows x 3 columns]"
      ]
     },
     "execution_count": 20,
     "metadata": {},
     "output_type": "execute_result"
    }
   ],
   "source": [
    "pixels_no_buildings"
   ]
  },
  {
   "cell_type": "code",
   "execution_count": 21,
   "id": "ab242cff-b9ce-4ccd-b863-b65a7d7891c1",
   "metadata": {},
   "outputs": [],
   "source": [
    "pixels_no_buildings = pixels_no_buildings[pixels_no_buildings['_merge'] == 'left_only']"
   ]
  },
  {
   "cell_type": "code",
   "execution_count": 22,
   "id": "42f16b94-930d-4e29-a8a5-78c120fe0be2",
   "metadata": {},
   "outputs": [
    {
     "name": "stderr",
     "output_type": "stream",
     "text": [
      "/opt/conda/lib/python3.7/site-packages/pandas/core/frame.py:4315: SettingWithCopyWarning: \n",
      "A value is trying to be set on a copy of a slice from a DataFrame\n",
      "\n",
      "See the caveats in the documentation: https://pandas.pydata.org/pandas-docs/stable/user_guide/indexing.html#returning-a-view-versus-a-copy\n",
      "  errors=errors,\n"
     ]
    }
   ],
   "source": [
    "pixels_no_buildings.drop(columns=['_merge'], inplace=True)"
   ]
  },
  {
   "cell_type": "code",
   "execution_count": 44,
   "id": "d8c42839-4e15-47d1-b643-054bdf853824",
   "metadata": {},
   "outputs": [],
   "source": [
    "# 2021\n",
    "pixels_no_buildings.to_file('../data/{}_pixels_no_buildings.gpkg'.format(country_code), driver='GPKG')"
   ]
  },
  {
   "cell_type": "markdown",
   "id": "c4e35e74-f536-483d-85b4-7a9929934a43",
   "metadata": {},
   "source": [
    "### Calculate percent completeness"
   ]
  },
  {
   "cell_type": "code",
   "execution_count": 23,
   "id": "eab67bdd-e182-43ef-8d7f-56e0438eab1f",
   "metadata": {},
   "outputs": [
    {
     "data": {
      "text/plain": [
       "20.458383168115507"
      ]
     },
     "execution_count": 23,
     "metadata": {},
     "output_type": "execute_result"
    }
   ],
   "source": [
    "len(pixels_with_buildings) / (len(pixels_with_buildings) + len(pixels_no_buildings)) * 100"
   ]
  },
  {
   "cell_type": "markdown",
   "id": "3eeaa03e-32a6-420f-b021-2337da86da88",
   "metadata": {},
   "source": [
    "## Aggregate to different admin boundaries\n",
    "\n",
    "In this section, we label each pixels based on which administrative region they belong to. This data will allows us to calculate percent completeness per region"
   ]
  },
  {
   "cell_type": "markdown",
   "id": "86f43390-7048-4972-9d14-959a85d49c83",
   "metadata": {},
   "source": [
    "### Turn mapped pixels from a polygon layer to a point layer"
   ]
  },
  {
   "cell_type": "code",
   "execution_count": 47,
   "id": "0e7e1bdf-97c8-4638-9f58-ee043ab04fdc",
   "metadata": {},
   "outputs": [],
   "source": [
    "# # Just run this so you don't have to rerun everything up top\n",
    "pixels_with_buildings = gpd.read_file(\n",
    "    \"../data/{}_pixels_with_buildings.gpkg\".format(country_code), driver=\"GPKG\"\n",
    ")"
   ]
  },
  {
   "cell_type": "code",
   "execution_count": 48,
   "id": "0f036908-62b9-4ef2-b2be-db8691144226",
   "metadata": {},
   "outputs": [
    {
     "name": "stderr",
     "output_type": "stream",
     "text": [
      "/opt/conda/lib/python3.7/site-packages/ipykernel_launcher.py:1: UserWarning: Geometry is in a geographic CRS. Results from 'centroid' are likely incorrect. Use 'GeoSeries.to_crs()' to re-project geometries to a projected CRS before this operation.\n",
      "\n",
      "  \"\"\"Entry point for launching an IPython kernel.\n"
     ]
    }
   ],
   "source": [
    "pixels_with_buildings[\"geometry\"] = pixels_with_buildings[\"geometry\"].centroid"
   ]
  },
  {
   "cell_type": "markdown",
   "id": "6ed8d1ea-0e56-4cdb-a592-223eaf4f2c66",
   "metadata": {},
   "source": [
    "### Turn unmapped pixels from a polygon layer to a point layer"
   ]
  },
  {
   "cell_type": "code",
   "execution_count": 49,
   "id": "5aff7ff8-ac02-432d-930f-dbb123a5923e",
   "metadata": {},
   "outputs": [],
   "source": [
    "# # Just run this so you don't have to rerun everything up top\n",
    "pixels_no_buildings = gpd.read_file(\n",
    "    \"../data/{}_pixels_no_buildings.gpkg\".format(country_code), driver=\"GPKG\"\n",
    ")"
   ]
  },
  {
   "cell_type": "code",
   "execution_count": 50,
   "id": "afb2c834-e9bb-44d9-b610-04ea28fe63f8",
   "metadata": {},
   "outputs": [
    {
     "name": "stderr",
     "output_type": "stream",
     "text": [
      "/opt/conda/lib/python3.7/site-packages/ipykernel_launcher.py:1: UserWarning: Geometry is in a geographic CRS. Results from 'centroid' are likely incorrect. Use 'GeoSeries.to_crs()' to re-project geometries to a projected CRS before this operation.\n",
      "\n",
      "  \"\"\"Entry point for launching an IPython kernel.\n"
     ]
    }
   ],
   "source": [
    "pixels_no_buildings[\"geometry\"] = pixels_no_buildings[\"geometry\"].centroid"
   ]
  },
  {
   "cell_type": "markdown",
   "id": "21200621-17f4-42f2-8af0-7f027333d953",
   "metadata": {},
   "source": [
    "### Load admin boundary"
   ]
  },
  {
   "cell_type": "markdown",
   "id": "fc0c6e7b-6e30-45b3-8376-e4cc3cd568a7",
   "metadata": {},
   "source": [
    "For this section, we aggregate it using the level 4 admin boundaries.\n",
    "\n",
    "Note: It is generally preferrable to use the **lowest/most granular**  boundary level. For admin boundaries available in HDX, the lowest level boundary also contains data on which higher level boundaries they belong to. This allows us tag each pixel based multiple admin levels in one `.sjoin()`. However, code runtime will be much longer compared to using higher levels."
   ]
  },
  {
   "cell_type": "code",
   "execution_count": 51,
   "id": "8831e638-4ae3-45e2-a171-2fdb45d6ac72",
   "metadata": {},
   "outputs": [],
   "source": [
    "# Change this link depending on the file name of your \n",
    "# chosen admin boundary\n",
    "adm_gdf = gpd.read_file(\n",
    "    \"../download_data/{}_adm_all/mdg_admbnda_adm4_BNGRC_OCHA_20181031.shp\".format(country_code)\n",
    ")"
   ]
  },
  {
   "cell_type": "code",
   "execution_count": 53,
   "id": "aa915135-46e3-4364-b9d9-a1e3520ae43e",
   "metadata": {},
   "outputs": [
    {
     "data": {
      "text/html": [
       "<div>\n",
       "<style scoped>\n",
       "    .dataframe tbody tr th:only-of-type {\n",
       "        vertical-align: middle;\n",
       "    }\n",
       "\n",
       "    .dataframe tbody tr th {\n",
       "        vertical-align: top;\n",
       "    }\n",
       "\n",
       "    .dataframe thead th {\n",
       "        text-align: right;\n",
       "    }\n",
       "</style>\n",
       "<table border=\"1\" class=\"dataframe\">\n",
       "  <thead>\n",
       "    <tr style=\"text-align: right;\">\n",
       "      <th></th>\n",
       "      <th>ADM0_PCODE</th>\n",
       "      <th>ADM0_EN</th>\n",
       "      <th>ADM1_PCODE</th>\n",
       "      <th>ADM1_EN</th>\n",
       "      <th>ADM1_TYPE</th>\n",
       "      <th>ADM2_PCODE</th>\n",
       "      <th>ADM2_EN</th>\n",
       "      <th>ADM2_TYPE</th>\n",
       "      <th>ADM3_PCODE</th>\n",
       "      <th>ADM3_EN</th>\n",
       "      <th>ADM3_TYPE</th>\n",
       "      <th>ADM4_PCODE</th>\n",
       "      <th>ADM4_EN</th>\n",
       "      <th>ADM4_TYPE</th>\n",
       "      <th>PROV_CODE_</th>\n",
       "      <th>OLD_PROVIN</th>\n",
       "      <th>PROV_TYPE</th>\n",
       "      <th>NOTES</th>\n",
       "      <th>SOURCE</th>\n",
       "      <th>geometry</th>\n",
       "    </tr>\n",
       "  </thead>\n",
       "  <tbody>\n",
       "    <tr>\n",
       "      <th>0</th>\n",
       "      <td>MG</td>\n",
       "      <td>Madagascar</td>\n",
       "      <td>MG22</td>\n",
       "      <td>Amoron I Mania</td>\n",
       "      <td>Region</td>\n",
       "      <td>MG22203</td>\n",
       "      <td>Ambositra</td>\n",
       "      <td>District</td>\n",
       "      <td>MG22203090</td>\n",
       "      <td>Andina</td>\n",
       "      <td>Commune</td>\n",
       "      <td>MG22203090008</td>\n",
       "      <td>Ampasina</td>\n",
       "      <td>Fokontany</td>\n",
       "      <td>2</td>\n",
       "      <td>Fianarantsoa</td>\n",
       "      <td>Old Provinces/Faritany dissolved in 2007</td>\n",
       "      <td>None</td>\n",
       "      <td>BNGRC (National Disaster Management Office) Fo...</td>\n",
       "      <td>POLYGON ((47.10540 -20.51447, 47.11485 -20.514...</td>\n",
       "    </tr>\n",
       "    <tr>\n",
       "      <th>1</th>\n",
       "      <td>MG</td>\n",
       "      <td>Madagascar</td>\n",
       "      <td>MG22</td>\n",
       "      <td>Amoron I Mania</td>\n",
       "      <td>Region</td>\n",
       "      <td>MG22203</td>\n",
       "      <td>Ambositra</td>\n",
       "      <td>District</td>\n",
       "      <td>MG22203090</td>\n",
       "      <td>Andina</td>\n",
       "      <td>Commune</td>\n",
       "      <td>MG22203090011</td>\n",
       "      <td>Antanifotsy</td>\n",
       "      <td>Fokontany</td>\n",
       "      <td>2</td>\n",
       "      <td>Fianarantsoa</td>\n",
       "      <td>Old Provinces/Faritany dissolved in 2007</td>\n",
       "      <td>None</td>\n",
       "      <td>BNGRC (National Disaster Management Office) Fo...</td>\n",
       "      <td>POLYGON ((47.13580 -20.54133, 47.13600 -20.544...</td>\n",
       "    </tr>\n",
       "    <tr>\n",
       "      <th>2</th>\n",
       "      <td>MG</td>\n",
       "      <td>Madagascar</td>\n",
       "      <td>MG24</td>\n",
       "      <td>Ihorombe</td>\n",
       "      <td>Region</td>\n",
       "      <td>MG24216</td>\n",
       "      <td>Ihosy</td>\n",
       "      <td>District</td>\n",
       "      <td>MG24216192</td>\n",
       "      <td>Andiolava</td>\n",
       "      <td>Commune</td>\n",
       "      <td>MG24216192006</td>\n",
       "      <td>Amboloando</td>\n",
       "      <td>Fokontany</td>\n",
       "      <td>2</td>\n",
       "      <td>Fianarantsoa</td>\n",
       "      <td>Old Provinces/Faritany dissolved in 2007</td>\n",
       "      <td>None</td>\n",
       "      <td>BNGRC (National Disaster Management Office) Fo...</td>\n",
       "      <td>POLYGON ((45.58350 -22.53003, 45.59102 -22.534...</td>\n",
       "    </tr>\n",
       "    <tr>\n",
       "      <th>3</th>\n",
       "      <td>MG</td>\n",
       "      <td>Madagascar</td>\n",
       "      <td>MG24</td>\n",
       "      <td>Ihorombe</td>\n",
       "      <td>Region</td>\n",
       "      <td>MG24216</td>\n",
       "      <td>Ihosy</td>\n",
       "      <td>District</td>\n",
       "      <td>MG24216192</td>\n",
       "      <td>Andiolava</td>\n",
       "      <td>Commune</td>\n",
       "      <td>MG24216192002</td>\n",
       "      <td>Vatambe Nanarena</td>\n",
       "      <td>Fokontany</td>\n",
       "      <td>2</td>\n",
       "      <td>Fianarantsoa</td>\n",
       "      <td>Old Provinces/Faritany dissolved in 2007</td>\n",
       "      <td>None</td>\n",
       "      <td>BNGRC (National Disaster Management Office) Fo...</td>\n",
       "      <td>POLYGON ((45.51825 -22.27433, 45.51900 -22.274...</td>\n",
       "    </tr>\n",
       "    <tr>\n",
       "      <th>4</th>\n",
       "      <td>MG</td>\n",
       "      <td>Madagascar</td>\n",
       "      <td>MG24</td>\n",
       "      <td>Ihorombe</td>\n",
       "      <td>Region</td>\n",
       "      <td>MG24216</td>\n",
       "      <td>Ihosy</td>\n",
       "      <td>District</td>\n",
       "      <td>MG24216192</td>\n",
       "      <td>Andiolava</td>\n",
       "      <td>Commune</td>\n",
       "      <td>MG24216192003</td>\n",
       "      <td>Vohimary</td>\n",
       "      <td>Fokontany</td>\n",
       "      <td>2</td>\n",
       "      <td>Fianarantsoa</td>\n",
       "      <td>Old Provinces/Faritany dissolved in 2007</td>\n",
       "      <td>None</td>\n",
       "      <td>BNGRC (National Disaster Management Office) Fo...</td>\n",
       "      <td>POLYGON ((45.62246 -22.40084, 45.62173 -22.414...</td>\n",
       "    </tr>\n",
       "  </tbody>\n",
       "</table>\n",
       "</div>"
      ],
      "text/plain": [
       "  ADM0_PCODE     ADM0_EN ADM1_PCODE         ADM1_EN ADM1_TYPE ADM2_PCODE  \\\n",
       "0         MG  Madagascar       MG22  Amoron I Mania    Region    MG22203   \n",
       "1         MG  Madagascar       MG22  Amoron I Mania    Region    MG22203   \n",
       "2         MG  Madagascar       MG24        Ihorombe    Region    MG24216   \n",
       "3         MG  Madagascar       MG24        Ihorombe    Region    MG24216   \n",
       "4         MG  Madagascar       MG24        Ihorombe    Region    MG24216   \n",
       "\n",
       "     ADM2_EN ADM2_TYPE  ADM3_PCODE    ADM3_EN ADM3_TYPE     ADM4_PCODE  \\\n",
       "0  Ambositra  District  MG22203090     Andina   Commune  MG22203090008   \n",
       "1  Ambositra  District  MG22203090     Andina   Commune  MG22203090011   \n",
       "2      Ihosy  District  MG24216192  Andiolava   Commune  MG24216192006   \n",
       "3      Ihosy  District  MG24216192  Andiolava   Commune  MG24216192002   \n",
       "4      Ihosy  District  MG24216192  Andiolava   Commune  MG24216192003   \n",
       "\n",
       "            ADM4_EN  ADM4_TYPE  PROV_CODE_    OLD_PROVIN  \\\n",
       "0          Ampasina  Fokontany           2  Fianarantsoa   \n",
       "1       Antanifotsy  Fokontany           2  Fianarantsoa   \n",
       "2        Amboloando  Fokontany           2  Fianarantsoa   \n",
       "3  Vatambe Nanarena  Fokontany           2  Fianarantsoa   \n",
       "4          Vohimary  Fokontany           2  Fianarantsoa   \n",
       "\n",
       "                                  PROV_TYPE NOTES  \\\n",
       "0  Old Provinces/Faritany dissolved in 2007  None   \n",
       "1  Old Provinces/Faritany dissolved in 2007  None   \n",
       "2  Old Provinces/Faritany dissolved in 2007  None   \n",
       "3  Old Provinces/Faritany dissolved in 2007  None   \n",
       "4  Old Provinces/Faritany dissolved in 2007  None   \n",
       "\n",
       "                                              SOURCE  \\\n",
       "0  BNGRC (National Disaster Management Office) Fo...   \n",
       "1  BNGRC (National Disaster Management Office) Fo...   \n",
       "2  BNGRC (National Disaster Management Office) Fo...   \n",
       "3  BNGRC (National Disaster Management Office) Fo...   \n",
       "4  BNGRC (National Disaster Management Office) Fo...   \n",
       "\n",
       "                                            geometry  \n",
       "0  POLYGON ((47.10540 -20.51447, 47.11485 -20.514...  \n",
       "1  POLYGON ((47.13580 -20.54133, 47.13600 -20.544...  \n",
       "2  POLYGON ((45.58350 -22.53003, 45.59102 -22.534...  \n",
       "3  POLYGON ((45.51825 -22.27433, 45.51900 -22.274...  \n",
       "4  POLYGON ((45.62246 -22.40084, 45.62173 -22.414...  "
      ]
     },
     "execution_count": 53,
     "metadata": {},
     "output_type": "execute_result"
    }
   ],
   "source": [
    "# Show the admin boundaries structure\n",
    "adm_gdf.head()"
   ]
  },
  {
   "cell_type": "code",
   "execution_count": 54,
   "id": "d8823868-c8fa-4e4f-a3cb-5c0687a89c20",
   "metadata": {},
   "outputs": [
    {
     "data": {
      "text/html": [
       "<div>\n",
       "<style scoped>\n",
       "    .dataframe tbody tr th:only-of-type {\n",
       "        vertical-align: middle;\n",
       "    }\n",
       "\n",
       "    .dataframe tbody tr th {\n",
       "        vertical-align: top;\n",
       "    }\n",
       "\n",
       "    .dataframe thead th {\n",
       "        text-align: right;\n",
       "    }\n",
       "</style>\n",
       "<table border=\"1\" class=\"dataframe\">\n",
       "  <thead>\n",
       "    <tr style=\"text-align: right;\">\n",
       "      <th></th>\n",
       "      <th>ADM0_PCODE</th>\n",
       "      <th>ADM0_EN</th>\n",
       "      <th>ADM1_PCODE</th>\n",
       "      <th>ADM1_EN</th>\n",
       "      <th>ADM1_TYPE</th>\n",
       "      <th>ADM2_PCODE</th>\n",
       "      <th>ADM2_EN</th>\n",
       "      <th>ADM2_TYPE</th>\n",
       "      <th>ADM3_PCODE</th>\n",
       "      <th>ADM3_EN</th>\n",
       "      <th>ADM3_TYPE</th>\n",
       "      <th>ADM4_PCODE</th>\n",
       "      <th>ADM4_EN</th>\n",
       "      <th>ADM4_TYPE</th>\n",
       "      <th>PROV_CODE_</th>\n",
       "      <th>OLD_PROVIN</th>\n",
       "      <th>PROV_TYPE</th>\n",
       "      <th>NOTES</th>\n",
       "      <th>SOURCE</th>\n",
       "      <th>geometry</th>\n",
       "    </tr>\n",
       "  </thead>\n",
       "  <tbody>\n",
       "    <tr>\n",
       "      <th>84</th>\n",
       "      <td>MG</td>\n",
       "      <td>Madagascar</td>\n",
       "      <td>MG72</td>\n",
       "      <td>Sava</td>\n",
       "      <td>Region</td>\n",
       "      <td>MG72711</td>\n",
       "      <td>Sambava</td>\n",
       "      <td>District</td>\n",
       "      <td>MG72711330</td>\n",
       "      <td>Andrahanjo</td>\n",
       "      <td>Commune</td>\n",
       "      <td>MG72711330006</td>\n",
       "      <td>Ambohimanarina</td>\n",
       "      <td>Fokontany</td>\n",
       "      <td>7</td>\n",
       "      <td>Antsiranana</td>\n",
       "      <td>Old Provinces/Faritany dissolved in 2007</td>\n",
       "      <td>None</td>\n",
       "      <td>BNGRC (National Disaster Management Office) Fo...</td>\n",
       "      <td>POLYGON ((49.81025 -14.28598, 49.81690 -14.281...</td>\n",
       "    </tr>\n",
       "    <tr>\n",
       "      <th>85</th>\n",
       "      <td>MG</td>\n",
       "      <td>Madagascar</td>\n",
       "      <td>MG72</td>\n",
       "      <td>Sava</td>\n",
       "      <td>Region</td>\n",
       "      <td>MG72711</td>\n",
       "      <td>Sambava</td>\n",
       "      <td>District</td>\n",
       "      <td>MG72711330</td>\n",
       "      <td>Andrahanjo</td>\n",
       "      <td>Commune</td>\n",
       "      <td>MG72711330007</td>\n",
       "      <td>Tananambo</td>\n",
       "      <td>Fokontany</td>\n",
       "      <td>7</td>\n",
       "      <td>Antsiranana</td>\n",
       "      <td>Old Provinces/Faritany dissolved in 2007</td>\n",
       "      <td>None</td>\n",
       "      <td>BNGRC (National Disaster Management Office) Fo...</td>\n",
       "      <td>POLYGON ((49.84363 -14.29923, 49.83757 -14.307...</td>\n",
       "    </tr>\n",
       "    <tr>\n",
       "      <th>86</th>\n",
       "      <td>MG</td>\n",
       "      <td>Madagascar</td>\n",
       "      <td>MG72</td>\n",
       "      <td>Sava</td>\n",
       "      <td>Region</td>\n",
       "      <td>MG72711</td>\n",
       "      <td>Sambava</td>\n",
       "      <td>District</td>\n",
       "      <td>MG72711330</td>\n",
       "      <td>Andrahanjo</td>\n",
       "      <td>Commune</td>\n",
       "      <td>MG72711330008</td>\n",
       "      <td>Ambavala</td>\n",
       "      <td>Fokontany</td>\n",
       "      <td>7</td>\n",
       "      <td>Antsiranana</td>\n",
       "      <td>Old Provinces/Faritany dissolved in 2007</td>\n",
       "      <td>None</td>\n",
       "      <td>BNGRC (National Disaster Management Office) Fo...</td>\n",
       "      <td>POLYGON ((49.86035 -14.28788, 49.86468 -14.292...</td>\n",
       "    </tr>\n",
       "    <tr>\n",
       "      <th>94</th>\n",
       "      <td>MG</td>\n",
       "      <td>Madagascar</td>\n",
       "      <td>MG72</td>\n",
       "      <td>Sava</td>\n",
       "      <td>Region</td>\n",
       "      <td>MG72711</td>\n",
       "      <td>Sambava</td>\n",
       "      <td>District</td>\n",
       "      <td>MG72711230</td>\n",
       "      <td>Anjangoveratra</td>\n",
       "      <td>Commune</td>\n",
       "      <td>MG72711230003</td>\n",
       "      <td>Mananjaran'ifosa</td>\n",
       "      <td>Fokontany</td>\n",
       "      <td>7</td>\n",
       "      <td>Antsiranana</td>\n",
       "      <td>Old Provinces/Faritany dissolved in 2007</td>\n",
       "      <td>None</td>\n",
       "      <td>BNGRC (National Disaster Management Office) Fo...</td>\n",
       "      <td>POLYGON ((50.10627 -14.01733, 50.10921 -14.024...</td>\n",
       "    </tr>\n",
       "    <tr>\n",
       "      <th>95</th>\n",
       "      <td>MG</td>\n",
       "      <td>Madagascar</td>\n",
       "      <td>MG72</td>\n",
       "      <td>Sava</td>\n",
       "      <td>Region</td>\n",
       "      <td>MG72711</td>\n",
       "      <td>Sambava</td>\n",
       "      <td>District</td>\n",
       "      <td>MG72711230</td>\n",
       "      <td>Anjangoveratra</td>\n",
       "      <td>Commune</td>\n",
       "      <td>MG72711230004</td>\n",
       "      <td>Maevatananan'ifosa</td>\n",
       "      <td>Fokontany</td>\n",
       "      <td>7</td>\n",
       "      <td>Antsiranana</td>\n",
       "      <td>Old Provinces/Faritany dissolved in 2007</td>\n",
       "      <td>None</td>\n",
       "      <td>BNGRC (National Disaster Management Office) Fo...</td>\n",
       "      <td>POLYGON ((50.11735 -14.05690, 50.08215 -14.067...</td>\n",
       "    </tr>\n",
       "    <tr>\n",
       "      <th>...</th>\n",
       "      <td>...</td>\n",
       "      <td>...</td>\n",
       "      <td>...</td>\n",
       "      <td>...</td>\n",
       "      <td>...</td>\n",
       "      <td>...</td>\n",
       "      <td>...</td>\n",
       "      <td>...</td>\n",
       "      <td>...</td>\n",
       "      <td>...</td>\n",
       "      <td>...</td>\n",
       "      <td>...</td>\n",
       "      <td>...</td>\n",
       "      <td>...</td>\n",
       "      <td>...</td>\n",
       "      <td>...</td>\n",
       "      <td>...</td>\n",
       "      <td>...</td>\n",
       "      <td>...</td>\n",
       "      <td>...</td>\n",
       "    </tr>\n",
       "    <tr>\n",
       "      <th>17295</th>\n",
       "      <td>MG</td>\n",
       "      <td>Madagascar</td>\n",
       "      <td>MG72</td>\n",
       "      <td>Sava</td>\n",
       "      <td>Region</td>\n",
       "      <td>MG72712</td>\n",
       "      <td>Andapa</td>\n",
       "      <td>District</td>\n",
       "      <td>MG72712070</td>\n",
       "      <td>Belaoka Marovato</td>\n",
       "      <td>Commune</td>\n",
       "      <td>MG72712070001</td>\n",
       "      <td>Belaoka Marovato</td>\n",
       "      <td>Fokontany</td>\n",
       "      <td>7</td>\n",
       "      <td>Antsiranana</td>\n",
       "      <td>Old Provinces/Faritany dissolved in 2007</td>\n",
       "      <td>None</td>\n",
       "      <td>BNGRC (National Disaster Management Office) Fo...</td>\n",
       "      <td>POLYGON ((49.61970 -14.59737, 49.62428 -14.606...</td>\n",
       "    </tr>\n",
       "    <tr>\n",
       "      <th>17296</th>\n",
       "      <td>MG</td>\n",
       "      <td>Madagascar</td>\n",
       "      <td>MG72</td>\n",
       "      <td>Sava</td>\n",
       "      <td>Region</td>\n",
       "      <td>MG72712</td>\n",
       "      <td>Andapa</td>\n",
       "      <td>District</td>\n",
       "      <td>MG72712070</td>\n",
       "      <td>Belaoka Marovato</td>\n",
       "      <td>Commune</td>\n",
       "      <td>MG72712070003</td>\n",
       "      <td>Morafeno</td>\n",
       "      <td>Fokontany</td>\n",
       "      <td>7</td>\n",
       "      <td>Antsiranana</td>\n",
       "      <td>Old Provinces/Faritany dissolved in 2007</td>\n",
       "      <td>None</td>\n",
       "      <td>BNGRC (National Disaster Management Office) Fo...</td>\n",
       "      <td>POLYGON ((49.61117 -14.59053, 49.60895 -14.594...</td>\n",
       "    </tr>\n",
       "    <tr>\n",
       "      <th>17297</th>\n",
       "      <td>MG</td>\n",
       "      <td>Madagascar</td>\n",
       "      <td>MG72</td>\n",
       "      <td>Sava</td>\n",
       "      <td>Region</td>\n",
       "      <td>MG72712</td>\n",
       "      <td>Andapa</td>\n",
       "      <td>District</td>\n",
       "      <td>MG72712070</td>\n",
       "      <td>Belaoka Marovato</td>\n",
       "      <td>Commune</td>\n",
       "      <td>MG72712070002</td>\n",
       "      <td>Antanambaobe</td>\n",
       "      <td>Fokontany</td>\n",
       "      <td>7</td>\n",
       "      <td>Antsiranana</td>\n",
       "      <td>Old Provinces/Faritany dissolved in 2007</td>\n",
       "      <td>None</td>\n",
       "      <td>BNGRC (National Disaster Management Office) Fo...</td>\n",
       "      <td>POLYGON ((49.59015 -14.58973, 49.59274 -14.590...</td>\n",
       "    </tr>\n",
       "    <tr>\n",
       "      <th>17298</th>\n",
       "      <td>MG</td>\n",
       "      <td>Madagascar</td>\n",
       "      <td>MG72</td>\n",
       "      <td>Sava</td>\n",
       "      <td>Region</td>\n",
       "      <td>MG72712</td>\n",
       "      <td>Andapa</td>\n",
       "      <td>District</td>\n",
       "      <td>MG72712070</td>\n",
       "      <td>Belaoka Marovato</td>\n",
       "      <td>Commune</td>\n",
       "      <td>MG72712070005</td>\n",
       "      <td>Tsaratanana</td>\n",
       "      <td>Fokontany</td>\n",
       "      <td>7</td>\n",
       "      <td>Antsiranana</td>\n",
       "      <td>Old Provinces/Faritany dissolved in 2007</td>\n",
       "      <td>None</td>\n",
       "      <td>BNGRC (National Disaster Management Office) Fo...</td>\n",
       "      <td>POLYGON ((49.62116 -14.63339, 49.62068 -14.635...</td>\n",
       "    </tr>\n",
       "    <tr>\n",
       "      <th>17299</th>\n",
       "      <td>MG</td>\n",
       "      <td>Madagascar</td>\n",
       "      <td>MG72</td>\n",
       "      <td>Sava</td>\n",
       "      <td>Region</td>\n",
       "      <td>MG72712</td>\n",
       "      <td>Andapa</td>\n",
       "      <td>District</td>\n",
       "      <td>MG72712070</td>\n",
       "      <td>Belaoka Marovato</td>\n",
       "      <td>Commune</td>\n",
       "      <td>MG72712070004</td>\n",
       "      <td>Nosihely</td>\n",
       "      <td>Fokontany</td>\n",
       "      <td>7</td>\n",
       "      <td>Antsiranana</td>\n",
       "      <td>Old Provinces/Faritany dissolved in 2007</td>\n",
       "      <td>None</td>\n",
       "      <td>BNGRC (National Disaster Management Office) Fo...</td>\n",
       "      <td>POLYGON ((49.59855 -14.60240, 49.59957 -14.610...</td>\n",
       "    </tr>\n",
       "  </tbody>\n",
       "</table>\n",
       "<p>808 rows × 20 columns</p>\n",
       "</div>"
      ],
      "text/plain": [
       "      ADM0_PCODE     ADM0_EN ADM1_PCODE ADM1_EN ADM1_TYPE ADM2_PCODE  ADM2_EN  \\\n",
       "84            MG  Madagascar       MG72    Sava    Region    MG72711  Sambava   \n",
       "85            MG  Madagascar       MG72    Sava    Region    MG72711  Sambava   \n",
       "86            MG  Madagascar       MG72    Sava    Region    MG72711  Sambava   \n",
       "94            MG  Madagascar       MG72    Sava    Region    MG72711  Sambava   \n",
       "95            MG  Madagascar       MG72    Sava    Region    MG72711  Sambava   \n",
       "...          ...         ...        ...     ...       ...        ...      ...   \n",
       "17295         MG  Madagascar       MG72    Sava    Region    MG72712   Andapa   \n",
       "17296         MG  Madagascar       MG72    Sava    Region    MG72712   Andapa   \n",
       "17297         MG  Madagascar       MG72    Sava    Region    MG72712   Andapa   \n",
       "17298         MG  Madagascar       MG72    Sava    Region    MG72712   Andapa   \n",
       "17299         MG  Madagascar       MG72    Sava    Region    MG72712   Andapa   \n",
       "\n",
       "      ADM2_TYPE  ADM3_PCODE           ADM3_EN ADM3_TYPE     ADM4_PCODE  \\\n",
       "84     District  MG72711330        Andrahanjo   Commune  MG72711330006   \n",
       "85     District  MG72711330        Andrahanjo   Commune  MG72711330007   \n",
       "86     District  MG72711330        Andrahanjo   Commune  MG72711330008   \n",
       "94     District  MG72711230    Anjangoveratra   Commune  MG72711230003   \n",
       "95     District  MG72711230    Anjangoveratra   Commune  MG72711230004   \n",
       "...         ...         ...               ...       ...            ...   \n",
       "17295  District  MG72712070  Belaoka Marovato   Commune  MG72712070001   \n",
       "17296  District  MG72712070  Belaoka Marovato   Commune  MG72712070003   \n",
       "17297  District  MG72712070  Belaoka Marovato   Commune  MG72712070002   \n",
       "17298  District  MG72712070  Belaoka Marovato   Commune  MG72712070005   \n",
       "17299  District  MG72712070  Belaoka Marovato   Commune  MG72712070004   \n",
       "\n",
       "                  ADM4_EN  ADM4_TYPE  PROV_CODE_   OLD_PROVIN  \\\n",
       "84         Ambohimanarina  Fokontany           7  Antsiranana   \n",
       "85              Tananambo  Fokontany           7  Antsiranana   \n",
       "86               Ambavala  Fokontany           7  Antsiranana   \n",
       "94       Mananjaran'ifosa  Fokontany           7  Antsiranana   \n",
       "95     Maevatananan'ifosa  Fokontany           7  Antsiranana   \n",
       "...                   ...        ...         ...          ...   \n",
       "17295    Belaoka Marovato  Fokontany           7  Antsiranana   \n",
       "17296            Morafeno  Fokontany           7  Antsiranana   \n",
       "17297        Antanambaobe  Fokontany           7  Antsiranana   \n",
       "17298         Tsaratanana  Fokontany           7  Antsiranana   \n",
       "17299            Nosihely  Fokontany           7  Antsiranana   \n",
       "\n",
       "                                      PROV_TYPE NOTES  \\\n",
       "84     Old Provinces/Faritany dissolved in 2007  None   \n",
       "85     Old Provinces/Faritany dissolved in 2007  None   \n",
       "86     Old Provinces/Faritany dissolved in 2007  None   \n",
       "94     Old Provinces/Faritany dissolved in 2007  None   \n",
       "95     Old Provinces/Faritany dissolved in 2007  None   \n",
       "...                                         ...   ...   \n",
       "17295  Old Provinces/Faritany dissolved in 2007  None   \n",
       "17296  Old Provinces/Faritany dissolved in 2007  None   \n",
       "17297  Old Provinces/Faritany dissolved in 2007  None   \n",
       "17298  Old Provinces/Faritany dissolved in 2007  None   \n",
       "17299  Old Provinces/Faritany dissolved in 2007  None   \n",
       "\n",
       "                                                  SOURCE  \\\n",
       "84     BNGRC (National Disaster Management Office) Fo...   \n",
       "85     BNGRC (National Disaster Management Office) Fo...   \n",
       "86     BNGRC (National Disaster Management Office) Fo...   \n",
       "94     BNGRC (National Disaster Management Office) Fo...   \n",
       "95     BNGRC (National Disaster Management Office) Fo...   \n",
       "...                                                  ...   \n",
       "17295  BNGRC (National Disaster Management Office) Fo...   \n",
       "17296  BNGRC (National Disaster Management Office) Fo...   \n",
       "17297  BNGRC (National Disaster Management Office) Fo...   \n",
       "17298  BNGRC (National Disaster Management Office) Fo...   \n",
       "17299  BNGRC (National Disaster Management Office) Fo...   \n",
       "\n",
       "                                                geometry  \n",
       "84     POLYGON ((49.81025 -14.28598, 49.81690 -14.281...  \n",
       "85     POLYGON ((49.84363 -14.29923, 49.83757 -14.307...  \n",
       "86     POLYGON ((49.86035 -14.28788, 49.86468 -14.292...  \n",
       "94     POLYGON ((50.10627 -14.01733, 50.10921 -14.024...  \n",
       "95     POLYGON ((50.11735 -14.05690, 50.08215 -14.067...  \n",
       "...                                                  ...  \n",
       "17295  POLYGON ((49.61970 -14.59737, 49.62428 -14.606...  \n",
       "17296  POLYGON ((49.61117 -14.59053, 49.60895 -14.594...  \n",
       "17297  POLYGON ((49.59015 -14.58973, 49.59274 -14.590...  \n",
       "17298  POLYGON ((49.62116 -14.63339, 49.62068 -14.635...  \n",
       "17299  POLYGON ((49.59855 -14.60240, 49.59957 -14.610...  \n",
       "\n",
       "[808 rows x 20 columns]"
      ]
     },
     "execution_count": 54,
     "metadata": {},
     "output_type": "execute_result"
    }
   ],
   "source": [
    "adm_gdf[adm_gdf.ADM1_EN.isin(['Sava','Vatovavy-Fitovanany'])]"
   ]
  },
  {
   "cell_type": "code",
   "execution_count": 55,
   "id": "0501da60-2378-4840-a5f1-468ce2ca33e3",
   "metadata": {},
   "outputs": [
    {
     "data": {
      "text/plain": [
       "ADM0_PCODE        1\n",
       "ADM0_EN           1\n",
       "ADM1_PCODE       22\n",
       "ADM1_EN          22\n",
       "ADM1_TYPE         1\n",
       "ADM2_PCODE      119\n",
       "ADM2_EN         119\n",
       "ADM2_TYPE         1\n",
       "ADM3_PCODE     1579\n",
       "ADM3_EN        1429\n",
       "ADM3_TYPE         1\n",
       "ADM4_PCODE    17465\n",
       "ADM4_EN       10977\n",
       "ADM4_TYPE         1\n",
       "PROV_CODE_        6\n",
       "OLD_PROVIN        6\n",
       "PROV_TYPE         1\n",
       "NOTES             1\n",
       "SOURCE           10\n",
       "geometry      17465\n",
       "dtype: int64"
      ]
     },
     "execution_count": 55,
     "metadata": {},
     "output_type": "execute_result"
    }
   ],
   "source": [
    "# Check for unique values\n",
    "adm_gdf.nunique()"
   ]
  },
  {
   "cell_type": "markdown",
   "id": "34dc42c0-c675-4e02-bbad-b9dbb7932c96",
   "metadata": {},
   "source": [
    "Note: Make sure that the target PCODEs for the geometries are unique or 1:1. If not, you may need to create a unique index to label the boundaries."
   ]
  },
  {
   "cell_type": "markdown",
   "id": "f0d491f7-66ed-4da8-bc64-f701916a22bb",
   "metadata": {},
   "source": [
    "### Find intersection of mapped pixels and level 4 admin boundary"
   ]
  },
  {
   "cell_type": "code",
   "execution_count": 56,
   "id": "46395536-b2bd-41df-8357-9d1acc7f6894",
   "metadata": {},
   "outputs": [
    {
     "name": "stderr",
     "output_type": "stream",
     "text": [
      "/opt/conda/lib/python3.7/site-packages/IPython/core/interactiveshell.py:3361: FutureWarning: The `op` parameter is deprecated and will be removed in a future release. Please use the `predicate` parameter instead.\n",
      "  if (await self.run_code(code, result,  async_=asy)):\n"
     ]
    }
   ],
   "source": [
    "pixels_with_buildings_sjoin_adm = gpd.sjoin(\n",
    "    pixels_with_buildings, adm_gdf, how=\"left\", op=\"within\"\n",
    ")"
   ]
  },
  {
   "cell_type": "code",
   "execution_count": 57,
   "id": "3278062e-7bf0-4abc-a074-9218ef8900d7",
   "metadata": {},
   "outputs": [],
   "source": [
    "# Drop all columns except for geometry and PCODEs\n",
    "pixels_with_buildings_sjoin_adm.drop(\n",
    "    columns=[\n",
    "        'index_right', \n",
    "        'ADM0_PCODE',\n",
    "        'ADM0_EN',\n",
    "        'ADM1_EN',\n",
    "        'ADM1_TYPE',\n",
    "        'ADM2_EN',\n",
    "        'ADM2_TYPE',\n",
    "        'ADM3_EN',\n",
    "        'ADM3_TYPE',\n",
    "        'ADM4_EN',\n",
    "        'ADM4_TYPE',\n",
    "        'PROV_CODE_',\n",
    "        'OLD_PROVIN',\n",
    "        'PROV_TYPE',\n",
    "        'NOTES',\n",
    "        'SOURCE'\n",
    "    ],\n",
    "    inplace=True,\n",
    ")"
   ]
  },
  {
   "cell_type": "code",
   "execution_count": 58,
   "id": "eeb51d60-7618-40ed-9fd4-22e7d339f8c3",
   "metadata": {},
   "outputs": [
    {
     "data": {
      "text/html": [
       "<div>\n",
       "<style scoped>\n",
       "    .dataframe tbody tr th:only-of-type {\n",
       "        vertical-align: middle;\n",
       "    }\n",
       "\n",
       "    .dataframe tbody tr th {\n",
       "        vertical-align: top;\n",
       "    }\n",
       "\n",
       "    .dataframe thead th {\n",
       "        text-align: right;\n",
       "    }\n",
       "</style>\n",
       "<table border=\"1\" class=\"dataframe\">\n",
       "  <thead>\n",
       "    <tr style=\"text-align: right;\">\n",
       "      <th></th>\n",
       "      <th>index</th>\n",
       "      <th>geometry</th>\n",
       "      <th>ADM1_PCODE</th>\n",
       "      <th>ADM2_PCODE</th>\n",
       "      <th>ADM3_PCODE</th>\n",
       "      <th>ADM4_PCODE</th>\n",
       "    </tr>\n",
       "  </thead>\n",
       "  <tbody>\n",
       "    <tr>\n",
       "      <th>0</th>\n",
       "      <td>1</td>\n",
       "      <td>POINT (49.27167 -11.95611)</td>\n",
       "      <td>MG71</td>\n",
       "      <td>MG71713</td>\n",
       "      <td>MG71713170</td>\n",
       "      <td>MG71713170002</td>\n",
       "    </tr>\n",
       "    <tr>\n",
       "      <th>1</th>\n",
       "      <td>5</td>\n",
       "      <td>POINT (49.25278 -11.99111)</td>\n",
       "      <td>MG71</td>\n",
       "      <td>MG71713</td>\n",
       "      <td>MG71713170</td>\n",
       "      <td>MG71713170002</td>\n",
       "    </tr>\n",
       "    <tr>\n",
       "      <th>2</th>\n",
       "      <td>6</td>\n",
       "      <td>POINT (49.22861 -12.04611)</td>\n",
       "      <td>MG71</td>\n",
       "      <td>MG71713</td>\n",
       "      <td>MG71713170</td>\n",
       "      <td>MG71713170001</td>\n",
       "    </tr>\n",
       "    <tr>\n",
       "      <th>3</th>\n",
       "      <td>7</td>\n",
       "      <td>POINT (49.22861 -12.04639)</td>\n",
       "      <td>MG71</td>\n",
       "      <td>MG71713</td>\n",
       "      <td>MG71713170</td>\n",
       "      <td>MG71713170001</td>\n",
       "    </tr>\n",
       "    <tr>\n",
       "      <th>4</th>\n",
       "      <td>9</td>\n",
       "      <td>POINT (49.23278 -12.05417)</td>\n",
       "      <td>MG71</td>\n",
       "      <td>MG71713</td>\n",
       "      <td>MG71713170</td>\n",
       "      <td>MG71713170001</td>\n",
       "    </tr>\n",
       "  </tbody>\n",
       "</table>\n",
       "</div>"
      ],
      "text/plain": [
       "   index                    geometry ADM1_PCODE ADM2_PCODE  ADM3_PCODE  \\\n",
       "0      1  POINT (49.27167 -11.95611)       MG71    MG71713  MG71713170   \n",
       "1      5  POINT (49.25278 -11.99111)       MG71    MG71713  MG71713170   \n",
       "2      6  POINT (49.22861 -12.04611)       MG71    MG71713  MG71713170   \n",
       "3      7  POINT (49.22861 -12.04639)       MG71    MG71713  MG71713170   \n",
       "4      9  POINT (49.23278 -12.05417)       MG71    MG71713  MG71713170   \n",
       "\n",
       "      ADM4_PCODE  \n",
       "0  MG71713170002  \n",
       "1  MG71713170002  \n",
       "2  MG71713170001  \n",
       "3  MG71713170001  \n",
       "4  MG71713170001  "
      ]
     },
     "execution_count": 58,
     "metadata": {},
     "output_type": "execute_result"
    }
   ],
   "source": [
    "# Show the output\n",
    "pixels_with_buildings_sjoin_adm.head()"
   ]
  },
  {
   "cell_type": "code",
   "execution_count": 59,
   "id": "04d16518-2df5-4ab1-92b2-6dba1a1641f3",
   "metadata": {},
   "outputs": [],
   "source": [
    "pixels_with_buildings_sjoin_adm.to_file(\n",
    "    \"../data/{}_pixels_with_buildings_sjoin_{}.gpkg\".format(country_code,adm_code), driver=\"GPKG\"\n",
    ")"
   ]
  },
  {
   "cell_type": "markdown",
   "id": "d830c877-747a-4635-96d1-fdaacd9d6631",
   "metadata": {},
   "source": [
    "### Find intersection of mapped pixels and level 4 admin boundary"
   ]
  },
  {
   "cell_type": "code",
   "execution_count": 60,
   "id": "2c946179-2565-4a2d-a83c-762bd7d47e26",
   "metadata": {},
   "outputs": [
    {
     "name": "stderr",
     "output_type": "stream",
     "text": [
      "/opt/conda/lib/python3.7/site-packages/IPython/core/interactiveshell.py:3361: FutureWarning: The `op` parameter is deprecated and will be removed in a future release. Please use the `predicate` parameter instead.\n",
      "  if (await self.run_code(code, result,  async_=asy)):\n"
     ]
    }
   ],
   "source": [
    "pixels_no_buildings_sjoin_adm = gpd.sjoin(\n",
    "    pixels_no_buildings, adm_gdf, how=\"left\", op=\"within\"\n",
    ")"
   ]
  },
  {
   "cell_type": "code",
   "execution_count": 61,
   "id": "38b480b6-b4d8-46d7-9df5-eae74a2c4f56",
   "metadata": {},
   "outputs": [],
   "source": [
    "# Drop all columns except for geometry and PCODEs\n",
    "pixels_no_buildings_sjoin_adm.drop(\n",
    "    columns=[\n",
    "        'index_right', \n",
    "        'ADM0_PCODE',\n",
    "        'ADM0_EN',\n",
    "        'ADM1_EN',\n",
    "        'ADM1_TYPE',\n",
    "        'ADM2_EN',\n",
    "        'ADM2_TYPE',\n",
    "        'ADM3_EN',\n",
    "        'ADM3_TYPE',\n",
    "        'ADM4_EN',\n",
    "        'ADM4_TYPE',\n",
    "        'PROV_CODE_',\n",
    "        'OLD_PROVIN',\n",
    "        'PROV_TYPE',\n",
    "        'NOTES',\n",
    "        'SOURCE'\n",
    "    ],\n",
    "    inplace=True,\n",
    ")"
   ]
  },
  {
   "cell_type": "code",
   "execution_count": 62,
   "id": "12188bf3-800c-40e0-bd30-3a39caaecf2e",
   "metadata": {},
   "outputs": [
    {
     "data": {
      "text/html": [
       "<div>\n",
       "<style scoped>\n",
       "    .dataframe tbody tr th:only-of-type {\n",
       "        vertical-align: middle;\n",
       "    }\n",
       "\n",
       "    .dataframe tbody tr th {\n",
       "        vertical-align: top;\n",
       "    }\n",
       "\n",
       "    .dataframe thead th {\n",
       "        text-align: right;\n",
       "    }\n",
       "</style>\n",
       "<table border=\"1\" class=\"dataframe\">\n",
       "  <thead>\n",
       "    <tr style=\"text-align: right;\">\n",
       "      <th></th>\n",
       "      <th>index</th>\n",
       "      <th>geometry</th>\n",
       "      <th>ADM1_PCODE</th>\n",
       "      <th>ADM2_PCODE</th>\n",
       "      <th>ADM3_PCODE</th>\n",
       "      <th>ADM4_PCODE</th>\n",
       "    </tr>\n",
       "  </thead>\n",
       "  <tbody>\n",
       "    <tr>\n",
       "      <th>0</th>\n",
       "      <td>0</td>\n",
       "      <td>POINT (49.24500 -11.95583)</td>\n",
       "      <td>MG71</td>\n",
       "      <td>MG71713</td>\n",
       "      <td>MG71713170</td>\n",
       "      <td>MG71713170002</td>\n",
       "    </tr>\n",
       "    <tr>\n",
       "      <th>1</th>\n",
       "      <td>2</td>\n",
       "      <td>POINT (49.26056 -11.97472)</td>\n",
       "      <td>MG71</td>\n",
       "      <td>MG71713</td>\n",
       "      <td>MG71713170</td>\n",
       "      <td>MG71713170002</td>\n",
       "    </tr>\n",
       "    <tr>\n",
       "      <th>2</th>\n",
       "      <td>3</td>\n",
       "      <td>POINT (49.26472 -11.98000)</td>\n",
       "      <td>MG71</td>\n",
       "      <td>MG71713</td>\n",
       "      <td>MG71713170</td>\n",
       "      <td>MG71713170002</td>\n",
       "    </tr>\n",
       "    <tr>\n",
       "      <th>3</th>\n",
       "      <td>4</td>\n",
       "      <td>POINT (49.26472 -11.98028)</td>\n",
       "      <td>MG71</td>\n",
       "      <td>MG71713</td>\n",
       "      <td>MG71713170</td>\n",
       "      <td>MG71713170002</td>\n",
       "    </tr>\n",
       "    <tr>\n",
       "      <th>4</th>\n",
       "      <td>8</td>\n",
       "      <td>POINT (49.22889 -12.04639)</td>\n",
       "      <td>MG71</td>\n",
       "      <td>MG71713</td>\n",
       "      <td>MG71713170</td>\n",
       "      <td>MG71713170001</td>\n",
       "    </tr>\n",
       "  </tbody>\n",
       "</table>\n",
       "</div>"
      ],
      "text/plain": [
       "   index                    geometry ADM1_PCODE ADM2_PCODE  ADM3_PCODE  \\\n",
       "0      0  POINT (49.24500 -11.95583)       MG71    MG71713  MG71713170   \n",
       "1      2  POINT (49.26056 -11.97472)       MG71    MG71713  MG71713170   \n",
       "2      3  POINT (49.26472 -11.98000)       MG71    MG71713  MG71713170   \n",
       "3      4  POINT (49.26472 -11.98028)       MG71    MG71713  MG71713170   \n",
       "4      8  POINT (49.22889 -12.04639)       MG71    MG71713  MG71713170   \n",
       "\n",
       "      ADM4_PCODE  \n",
       "0  MG71713170002  \n",
       "1  MG71713170002  \n",
       "2  MG71713170002  \n",
       "3  MG71713170002  \n",
       "4  MG71713170001  "
      ]
     },
     "execution_count": 62,
     "metadata": {},
     "output_type": "execute_result"
    }
   ],
   "source": [
    "# Show the output\n",
    "pixels_no_buildings_sjoin_adm.head()"
   ]
  },
  {
   "cell_type": "code",
   "execution_count": 63,
   "id": "6586f921-2689-47b9-a7e0-927625ed9eb9",
   "metadata": {},
   "outputs": [],
   "source": [
    "pixels_no_buildings_sjoin_adm.to_file(\n",
    "    \"../data/{}_pixels_no_buildings_sjoin_{}.gpkg\".format(country_code,adm_code), driver=\"GPKG\"\n",
    ")"
   ]
  },
  {
   "cell_type": "markdown",
   "id": "c32692e6-293e-4fba-adac-85b63ac9d164",
   "metadata": {},
   "source": [
    "## Saving pixel output\n",
    "\n",
    "The final pixel output will have each row as a pixel, labelled by admin boundary PCODE and mapped/unmapped status."
   ]
  },
  {
   "cell_type": "code",
   "execution_count": 64,
   "id": "6d92c7f3-f46a-4d17-915f-af9f1cc328c8",
   "metadata": {},
   "outputs": [],
   "source": [
    "# # Just run this so you don't have to rerun everything up top\n",
    "# pixels_with_buildings_sjoin_adm.to_file(\n",
    "#     \"../data/{}_pixels_with_buildings_sjoin_{}.gpkg\".format(country_code,adm_code), driver=\"GPKG\"\n",
    "# )"
   ]
  },
  {
   "cell_type": "code",
   "execution_count": 65,
   "id": "51d823a0-4557-466b-a4a1-d509d82d9d1a",
   "metadata": {},
   "outputs": [],
   "source": [
    "# # Just run this so you don't have to rerun everything up top\n",
    "# pixels_no_buildings_sjoin_adm.to_file(\n",
    "#     \"../data/{}_pixels_no_buildings_sjoin_{}.gpkg\".format(country_code,adm_code), driver=\"GPKG\"\n",
    "# )"
   ]
  },
  {
   "cell_type": "code",
   "execution_count": 66,
   "id": "3a930c06-5bac-4044-b49b-59b11709c3c4",
   "metadata": {},
   "outputs": [],
   "source": [
    "# Drop nan values in the dataframe\n",
    "# Specify columns you want to check\n",
    "pixels_no_buildings_sjoin_adm.dropna(\n",
    "    subset=[\"ADM4_PCODE\",\"ADM3_PCODE\",\"ADM2_PCODE\",\"ADM1_PCODE\"], inplace=True\n",
    ")\n",
    "\n",
    "pixels_with_buildings_sjoin_adm.dropna(\n",
    "    subset=[\"ADM4_PCODE\",\"ADM3_PCODE\",\"ADM2_PCODE\",\"ADM1_PCODE\"], inplace=True\n",
    ")"
   ]
  },
  {
   "cell_type": "code",
   "execution_count": 67,
   "id": "19d95840-8acd-46af-8aff-5e94866c1310",
   "metadata": {},
   "outputs": [],
   "source": [
    "# Adding a column to indicate that these pixels are mapped/unmapped\n",
    "pixels_with_buildings_sjoin_adm[\"status\"] = \"mapped\"\n",
    "pixels_no_buildings_sjoin_adm[\"status\"] = \"unmapped\""
   ]
  },
  {
   "cell_type": "code",
   "execution_count": 68,
   "id": "cf37f4d6-313f-4a24-8c7a-f258bdc3f08b",
   "metadata": {},
   "outputs": [],
   "source": [
    "# Join the mapped and unppaed pixels together\n",
    "pixels_all = pd.concat(\n",
    "    [pixels_with_buildings_sjoin_adm, pixels_no_buildings_sjoin_adm]\n",
    ")"
   ]
  },
  {
   "cell_type": "markdown",
   "id": "60b7d51b-8920-4cc1-9e95-a87ac166165c",
   "metadata": {},
   "source": [
    "The final output looks like this:"
   ]
  },
  {
   "cell_type": "code",
   "execution_count": 69,
   "id": "c5e22a17-3bc5-4128-999a-5265f3958043",
   "metadata": {},
   "outputs": [
    {
     "data": {
      "text/html": [
       "<div>\n",
       "<style scoped>\n",
       "    .dataframe tbody tr th:only-of-type {\n",
       "        vertical-align: middle;\n",
       "    }\n",
       "\n",
       "    .dataframe tbody tr th {\n",
       "        vertical-align: top;\n",
       "    }\n",
       "\n",
       "    .dataframe thead th {\n",
       "        text-align: right;\n",
       "    }\n",
       "</style>\n",
       "<table border=\"1\" class=\"dataframe\">\n",
       "  <thead>\n",
       "    <tr style=\"text-align: right;\">\n",
       "      <th></th>\n",
       "      <th>index</th>\n",
       "      <th>geometry</th>\n",
       "      <th>ADM1_PCODE</th>\n",
       "      <th>ADM2_PCODE</th>\n",
       "      <th>ADM3_PCODE</th>\n",
       "      <th>ADM4_PCODE</th>\n",
       "      <th>status</th>\n",
       "    </tr>\n",
       "  </thead>\n",
       "  <tbody>\n",
       "    <tr>\n",
       "      <th>0</th>\n",
       "      <td>1</td>\n",
       "      <td>POINT (49.27167 -11.95611)</td>\n",
       "      <td>MG71</td>\n",
       "      <td>MG71713</td>\n",
       "      <td>MG71713170</td>\n",
       "      <td>MG71713170002</td>\n",
       "      <td>mapped</td>\n",
       "    </tr>\n",
       "    <tr>\n",
       "      <th>1</th>\n",
       "      <td>5</td>\n",
       "      <td>POINT (49.25278 -11.99111)</td>\n",
       "      <td>MG71</td>\n",
       "      <td>MG71713</td>\n",
       "      <td>MG71713170</td>\n",
       "      <td>MG71713170002</td>\n",
       "      <td>mapped</td>\n",
       "    </tr>\n",
       "    <tr>\n",
       "      <th>2</th>\n",
       "      <td>6</td>\n",
       "      <td>POINT (49.22861 -12.04611)</td>\n",
       "      <td>MG71</td>\n",
       "      <td>MG71713</td>\n",
       "      <td>MG71713170</td>\n",
       "      <td>MG71713170001</td>\n",
       "      <td>mapped</td>\n",
       "    </tr>\n",
       "    <tr>\n",
       "      <th>3</th>\n",
       "      <td>7</td>\n",
       "      <td>POINT (49.22861 -12.04639)</td>\n",
       "      <td>MG71</td>\n",
       "      <td>MG71713</td>\n",
       "      <td>MG71713170</td>\n",
       "      <td>MG71713170001</td>\n",
       "      <td>mapped</td>\n",
       "    </tr>\n",
       "    <tr>\n",
       "      <th>4</th>\n",
       "      <td>9</td>\n",
       "      <td>POINT (49.23278 -12.05417)</td>\n",
       "      <td>MG71</td>\n",
       "      <td>MG71713</td>\n",
       "      <td>MG71713170</td>\n",
       "      <td>MG71713170001</td>\n",
       "      <td>mapped</td>\n",
       "    </tr>\n",
       "  </tbody>\n",
       "</table>\n",
       "</div>"
      ],
      "text/plain": [
       "   index                    geometry ADM1_PCODE ADM2_PCODE  ADM3_PCODE  \\\n",
       "0      1  POINT (49.27167 -11.95611)       MG71    MG71713  MG71713170   \n",
       "1      5  POINT (49.25278 -11.99111)       MG71    MG71713  MG71713170   \n",
       "2      6  POINT (49.22861 -12.04611)       MG71    MG71713  MG71713170   \n",
       "3      7  POINT (49.22861 -12.04639)       MG71    MG71713  MG71713170   \n",
       "4      9  POINT (49.23278 -12.05417)       MG71    MG71713  MG71713170   \n",
       "\n",
       "      ADM4_PCODE  status  \n",
       "0  MG71713170002  mapped  \n",
       "1  MG71713170002  mapped  \n",
       "2  MG71713170001  mapped  \n",
       "3  MG71713170001  mapped  \n",
       "4  MG71713170001  mapped  "
      ]
     },
     "execution_count": 69,
     "metadata": {},
     "output_type": "execute_result"
    }
   ],
   "source": [
    "pixels_all.head()"
   ]
  },
  {
   "cell_type": "code",
   "execution_count": 70,
   "id": "07c2a535-16c8-4af6-9888-a6cbac3b2344",
   "metadata": {},
   "outputs": [],
   "source": [
    "# 2020\n",
    "# Save all columns (including geometry) to gkpg\n",
    "pixels_all.to_file(\"../data/{}_pixels_all_{}_{}.gpkg\".format(country_code,month,year), driver=\"GPKG\")"
   ]
  },
  {
   "cell_type": "code",
   "execution_count": 71,
   "id": "c43a5a82-973a-4b6b-bc5c-acaaf12f6b89",
   "metadata": {},
   "outputs": [],
   "source": [
    "# 2020\n",
    "# Drop geometry column\n",
    "pixels_all.drop(columns=[\"geometry\"], inplace=True)"
   ]
  },
  {
   "cell_type": "code",
   "execution_count": 72,
   "id": "861fb0c6-efd4-47e0-8608-71b2cf844c00",
   "metadata": {},
   "outputs": [],
   "source": [
    "# 2020\n",
    "# Save remaining columns as csv \n",
    "pixels_all.to_csv(\"../data/{}_pixels_all_{}_{}.csv\".format(country_code,month,year), index=False)"
   ]
  },
  {
   "cell_type": "code",
   "execution_count": 73,
   "id": "c978ad0d-389e-44e1-8e8a-be75e1cd5868",
   "metadata": {},
   "outputs": [
    {
     "data": {
      "text/plain": [
       "geopandas.geodataframe.GeoDataFrame"
      ]
     },
     "execution_count": 73,
     "metadata": {},
     "output_type": "execute_result"
    }
   ],
   "source": [
    "type(pixels_all)"
   ]
  },
  {
   "cell_type": "markdown",
   "id": "960b8a55-5727-401c-89a7-b0327415b11b",
   "metadata": {},
   "source": [
    "## Calculate percent completeness per admin boundary level"
   ]
  },
  {
   "cell_type": "markdown",
   "id": "c4bfb062-e00a-463f-b415-5ac374215811",
   "metadata": {},
   "source": [
    "In the following code snippets, we use a pivot table to get the number of mapped and unmapped pixels for each administrative region, then calculate the percent completeness\n",
    "\n",
    "We use `ADM4_PCODE` as the index for each admin region. Change this depending on your own use case."
   ]
  },
  {
   "cell_type": "code",
   "execution_count": 132,
   "id": "c9b4bbc4-e76a-421a-bd4f-4abfcdd54519",
   "metadata": {},
   "outputs": [
    {
     "data": {
      "text/plain": [
       "'adm3'"
      ]
     },
     "execution_count": 132,
     "metadata": {},
     "output_type": "execute_result"
    }
   ],
   "source": [
    "adm_code"
   ]
  },
  {
   "cell_type": "code",
   "execution_count": 133,
   "id": "f7f44aa4-6351-44fc-820a-0bfdfcf12183",
   "metadata": {},
   "outputs": [],
   "source": [
    "# Just run this so you don't have to rerun everything up top\n",
    "pixels_all = pd.read_csv(\"../data/{}_pixels_all_{}_{}.csv\".format(country_code,month,year))"
   ]
  },
  {
   "cell_type": "code",
   "execution_count": 134,
   "id": "b2705382-a013-4ebb-8f8c-82c1ed4d3153",
   "metadata": {},
   "outputs": [
    {
     "data": {
      "text/html": [
       "<div>\n",
       "<style scoped>\n",
       "    .dataframe tbody tr th:only-of-type {\n",
       "        vertical-align: middle;\n",
       "    }\n",
       "\n",
       "    .dataframe tbody tr th {\n",
       "        vertical-align: top;\n",
       "    }\n",
       "\n",
       "    .dataframe thead th {\n",
       "        text-align: right;\n",
       "    }\n",
       "</style>\n",
       "<table border=\"1\" class=\"dataframe\">\n",
       "  <thead>\n",
       "    <tr style=\"text-align: right;\">\n",
       "      <th></th>\n",
       "      <th>index</th>\n",
       "      <th>ADM1_PCODE</th>\n",
       "      <th>ADM2_PCODE</th>\n",
       "      <th>ADM3_PCODE</th>\n",
       "      <th>ADM4_PCODE</th>\n",
       "      <th>status</th>\n",
       "    </tr>\n",
       "  </thead>\n",
       "  <tbody>\n",
       "    <tr>\n",
       "      <th>0</th>\n",
       "      <td>1</td>\n",
       "      <td>MG71</td>\n",
       "      <td>MG71713</td>\n",
       "      <td>MG71713170</td>\n",
       "      <td>MG71713170002</td>\n",
       "      <td>mapped</td>\n",
       "    </tr>\n",
       "    <tr>\n",
       "      <th>1</th>\n",
       "      <td>5</td>\n",
       "      <td>MG71</td>\n",
       "      <td>MG71713</td>\n",
       "      <td>MG71713170</td>\n",
       "      <td>MG71713170002</td>\n",
       "      <td>mapped</td>\n",
       "    </tr>\n",
       "    <tr>\n",
       "      <th>2</th>\n",
       "      <td>6</td>\n",
       "      <td>MG71</td>\n",
       "      <td>MG71713</td>\n",
       "      <td>MG71713170</td>\n",
       "      <td>MG71713170001</td>\n",
       "      <td>mapped</td>\n",
       "    </tr>\n",
       "    <tr>\n",
       "      <th>3</th>\n",
       "      <td>7</td>\n",
       "      <td>MG71</td>\n",
       "      <td>MG71713</td>\n",
       "      <td>MG71713170</td>\n",
       "      <td>MG71713170001</td>\n",
       "      <td>mapped</td>\n",
       "    </tr>\n",
       "    <tr>\n",
       "      <th>4</th>\n",
       "      <td>9</td>\n",
       "      <td>MG71</td>\n",
       "      <td>MG71713</td>\n",
       "      <td>MG71713170</td>\n",
       "      <td>MG71713170001</td>\n",
       "      <td>mapped</td>\n",
       "    </tr>\n",
       "  </tbody>\n",
       "</table>\n",
       "</div>"
      ],
      "text/plain": [
       "   index ADM1_PCODE ADM2_PCODE  ADM3_PCODE     ADM4_PCODE  status\n",
       "0      1       MG71    MG71713  MG71713170  MG71713170002  mapped\n",
       "1      5       MG71    MG71713  MG71713170  MG71713170002  mapped\n",
       "2      6       MG71    MG71713  MG71713170  MG71713170001  mapped\n",
       "3      7       MG71    MG71713  MG71713170  MG71713170001  mapped\n",
       "4      9       MG71    MG71713  MG71713170  MG71713170001  mapped"
      ]
     },
     "execution_count": 134,
     "metadata": {},
     "output_type": "execute_result"
    }
   ],
   "source": [
    "pixels_all.head()"
   ]
  },
  {
   "cell_type": "code",
   "execution_count": 135,
   "id": "bdf02927-d5f9-43d9-bd0d-7343b181196c",
   "metadata": {},
   "outputs": [],
   "source": [
    "# Load admin boundaries with relevant information\n",
    "adm_gdf = gpd.read_file(\n",
    "    \"../download_data/{}_adm_all/mdg_admbnda_adm3_BNGRC_OCHA_20181031.shp\".format(country_code)\n",
    ")"
   ]
  },
  {
   "cell_type": "code",
   "execution_count": 136,
   "id": "2285bc94-8ff4-4a8c-a9b9-62c02772d735",
   "metadata": {},
   "outputs": [
    {
     "data": {
      "text/html": [
       "<div>\n",
       "<style scoped>\n",
       "    .dataframe tbody tr th:only-of-type {\n",
       "        vertical-align: middle;\n",
       "    }\n",
       "\n",
       "    .dataframe tbody tr th {\n",
       "        vertical-align: top;\n",
       "    }\n",
       "\n",
       "    .dataframe thead th {\n",
       "        text-align: right;\n",
       "    }\n",
       "</style>\n",
       "<table border=\"1\" class=\"dataframe\">\n",
       "  <thead>\n",
       "    <tr style=\"text-align: right;\">\n",
       "      <th></th>\n",
       "      <th>ADM0_PCODE</th>\n",
       "      <th>ADM0_EN</th>\n",
       "      <th>ADM1_PCODE</th>\n",
       "      <th>ADM1_EN</th>\n",
       "      <th>ADM1_TYPE</th>\n",
       "      <th>ADM2_PCODE</th>\n",
       "      <th>ADM2_EN</th>\n",
       "      <th>ADM2_TYPE</th>\n",
       "      <th>ADM3_PCODE</th>\n",
       "      <th>ADM3_EN</th>\n",
       "      <th>ADM3_TYPE</th>\n",
       "      <th>PROV_CODE_</th>\n",
       "      <th>OLD_PROVIN</th>\n",
       "      <th>PROV_TYPE</th>\n",
       "      <th>NOTES</th>\n",
       "      <th>SOURCE</th>\n",
       "      <th>geometry</th>\n",
       "    </tr>\n",
       "  </thead>\n",
       "  <tbody>\n",
       "    <tr>\n",
       "      <th>0</th>\n",
       "      <td>MG</td>\n",
       "      <td>Madagascar</td>\n",
       "      <td>MG11</td>\n",
       "      <td>Analamanga</td>\n",
       "      <td>Region</td>\n",
       "      <td>MG11101001A</td>\n",
       "      <td>1er Arrondissement</td>\n",
       "      <td>District</td>\n",
       "      <td>MG11101001</td>\n",
       "      <td>1er Arrondissement</td>\n",
       "      <td>Commune</td>\n",
       "      <td>1</td>\n",
       "      <td>Antananarivo</td>\n",
       "      <td>Old Provinces/Faritany dissolved in 2007</td>\n",
       "      <td>Previous district name is Antananarivo Renivoh...</td>\n",
       "      <td>Note that Communes (admin 3) have become the D...</td>\n",
       "      <td>POLYGON ((47.50556 -18.89146, 47.50563 -18.891...</td>\n",
       "    </tr>\n",
       "    <tr>\n",
       "      <th>1</th>\n",
       "      <td>MG</td>\n",
       "      <td>Madagascar</td>\n",
       "      <td>MG11</td>\n",
       "      <td>Analamanga</td>\n",
       "      <td>Region</td>\n",
       "      <td>MG11101002A</td>\n",
       "      <td>2e Arrondissement</td>\n",
       "      <td>District</td>\n",
       "      <td>MG11101002</td>\n",
       "      <td>2e Arrondissement</td>\n",
       "      <td>Commune</td>\n",
       "      <td>1</td>\n",
       "      <td>Antananarivo</td>\n",
       "      <td>Old Provinces/Faritany dissolved in 2007</td>\n",
       "      <td>Previous district name is Antananarivo Renivoh...</td>\n",
       "      <td>Note that Communes (admin 3) have become the D...</td>\n",
       "      <td>POLYGON ((47.55842 -18.91178, 47.55857 -18.911...</td>\n",
       "    </tr>\n",
       "    <tr>\n",
       "      <th>2</th>\n",
       "      <td>MG</td>\n",
       "      <td>Madagascar</td>\n",
       "      <td>MG11</td>\n",
       "      <td>Analamanga</td>\n",
       "      <td>Region</td>\n",
       "      <td>MG11101003A</td>\n",
       "      <td>3e Arrondissement</td>\n",
       "      <td>District</td>\n",
       "      <td>MG11101003</td>\n",
       "      <td>3e Arrondissement</td>\n",
       "      <td>Commune</td>\n",
       "      <td>1</td>\n",
       "      <td>Antananarivo</td>\n",
       "      <td>Old Provinces/Faritany dissolved in 2007</td>\n",
       "      <td>Previous district name is Antananarivo Renivoh...</td>\n",
       "      <td>Note that Communes (admin 3) have become the D...</td>\n",
       "      <td>POLYGON ((47.51365 -18.87834, 47.51775 -18.879...</td>\n",
       "    </tr>\n",
       "    <tr>\n",
       "      <th>3</th>\n",
       "      <td>MG</td>\n",
       "      <td>Madagascar</td>\n",
       "      <td>MG11</td>\n",
       "      <td>Analamanga</td>\n",
       "      <td>Region</td>\n",
       "      <td>MG11101004A</td>\n",
       "      <td>4e Arrondissement</td>\n",
       "      <td>District</td>\n",
       "      <td>MG11101004</td>\n",
       "      <td>4e Arrondissement</td>\n",
       "      <td>Commune</td>\n",
       "      <td>1</td>\n",
       "      <td>Antananarivo</td>\n",
       "      <td>Old Provinces/Faritany dissolved in 2007</td>\n",
       "      <td>Previous district name is Antananarivo Renivoh...</td>\n",
       "      <td>Note that Communes (admin 3) have become the D...</td>\n",
       "      <td>POLYGON ((47.50262 -18.91043, 47.50261 -18.910...</td>\n",
       "    </tr>\n",
       "    <tr>\n",
       "      <th>4</th>\n",
       "      <td>MG</td>\n",
       "      <td>Madagascar</td>\n",
       "      <td>MG11</td>\n",
       "      <td>Analamanga</td>\n",
       "      <td>Region</td>\n",
       "      <td>MG11101005A</td>\n",
       "      <td>5e Arrondissement</td>\n",
       "      <td>District</td>\n",
       "      <td>MG11101005</td>\n",
       "      <td>5e Arrondissement</td>\n",
       "      <td>Commune</td>\n",
       "      <td>1</td>\n",
       "      <td>Antananarivo</td>\n",
       "      <td>Old Provinces/Faritany dissolved in 2007</td>\n",
       "      <td>Previous district name is Antananarivo Renivoh...</td>\n",
       "      <td>Note that Communes (admin 3) have become the D...</td>\n",
       "      <td>POLYGON ((47.53500 -18.85464, 47.53518 -18.854...</td>\n",
       "    </tr>\n",
       "  </tbody>\n",
       "</table>\n",
       "</div>"
      ],
      "text/plain": [
       "  ADM0_PCODE     ADM0_EN ADM1_PCODE     ADM1_EN ADM1_TYPE   ADM2_PCODE  \\\n",
       "0         MG  Madagascar       MG11  Analamanga    Region  MG11101001A   \n",
       "1         MG  Madagascar       MG11  Analamanga    Region  MG11101002A   \n",
       "2         MG  Madagascar       MG11  Analamanga    Region  MG11101003A   \n",
       "3         MG  Madagascar       MG11  Analamanga    Region  MG11101004A   \n",
       "4         MG  Madagascar       MG11  Analamanga    Region  MG11101005A   \n",
       "\n",
       "              ADM2_EN ADM2_TYPE  ADM3_PCODE             ADM3_EN ADM3_TYPE  \\\n",
       "0  1er Arrondissement  District  MG11101001  1er Arrondissement   Commune   \n",
       "1   2e Arrondissement  District  MG11101002   2e Arrondissement   Commune   \n",
       "2   3e Arrondissement  District  MG11101003   3e Arrondissement   Commune   \n",
       "3   4e Arrondissement  District  MG11101004   4e Arrondissement   Commune   \n",
       "4   5e Arrondissement  District  MG11101005   5e Arrondissement   Commune   \n",
       "\n",
       "   PROV_CODE_    OLD_PROVIN                                 PROV_TYPE  \\\n",
       "0           1  Antananarivo  Old Provinces/Faritany dissolved in 2007   \n",
       "1           1  Antananarivo  Old Provinces/Faritany dissolved in 2007   \n",
       "2           1  Antananarivo  Old Provinces/Faritany dissolved in 2007   \n",
       "3           1  Antananarivo  Old Provinces/Faritany dissolved in 2007   \n",
       "4           1  Antananarivo  Old Provinces/Faritany dissolved in 2007   \n",
       "\n",
       "                                               NOTES  \\\n",
       "0  Previous district name is Antananarivo Renivoh...   \n",
       "1  Previous district name is Antananarivo Renivoh...   \n",
       "2  Previous district name is Antananarivo Renivoh...   \n",
       "3  Previous district name is Antananarivo Renivoh...   \n",
       "4  Previous district name is Antananarivo Renivoh...   \n",
       "\n",
       "                                              SOURCE  \\\n",
       "0  Note that Communes (admin 3) have become the D...   \n",
       "1  Note that Communes (admin 3) have become the D...   \n",
       "2  Note that Communes (admin 3) have become the D...   \n",
       "3  Note that Communes (admin 3) have become the D...   \n",
       "4  Note that Communes (admin 3) have become the D...   \n",
       "\n",
       "                                            geometry  \n",
       "0  POLYGON ((47.50556 -18.89146, 47.50563 -18.891...  \n",
       "1  POLYGON ((47.55842 -18.91178, 47.55857 -18.911...  \n",
       "2  POLYGON ((47.51365 -18.87834, 47.51775 -18.879...  \n",
       "3  POLYGON ((47.50262 -18.91043, 47.50261 -18.910...  \n",
       "4  POLYGON ((47.53500 -18.85464, 47.53518 -18.854...  "
      ]
     },
     "execution_count": 136,
     "metadata": {},
     "output_type": "execute_result"
    }
   ],
   "source": [
    "adm_gdf.head()"
   ]
  },
  {
   "cell_type": "markdown",
   "id": "71e6d6c9-22ae-4643-be1e-7073bc81801d",
   "metadata": {},
   "source": [
    "### Pivot table"
   ]
  },
  {
   "cell_type": "code",
   "execution_count": 137,
   "id": "2a9ce0fc-47b2-49dd-bd5a-206dcef1aea2",
   "metadata": {},
   "outputs": [],
   "source": [
    "adm_pivot = pd.pivot_table(pixels_all[[\"ADM3_PCODE\",\"status\", \"index\"]], index = [\"ADM3_PCODE\"], columns = [\"status\"], aggfunc=\"count\", fill_value=0)"
   ]
  },
  {
   "cell_type": "code",
   "execution_count": 138,
   "id": "dfbe9e57-a34c-4f1e-8e48-ee9679378122",
   "metadata": {},
   "outputs": [
    {
     "data": {
      "text/html": [
       "<div>\n",
       "<style scoped>\n",
       "    .dataframe tbody tr th:only-of-type {\n",
       "        vertical-align: middle;\n",
       "    }\n",
       "\n",
       "    .dataframe tbody tr th {\n",
       "        vertical-align: top;\n",
       "    }\n",
       "\n",
       "    .dataframe thead tr th {\n",
       "        text-align: left;\n",
       "    }\n",
       "\n",
       "    .dataframe thead tr:last-of-type th {\n",
       "        text-align: right;\n",
       "    }\n",
       "</style>\n",
       "<table border=\"1\" class=\"dataframe\">\n",
       "  <thead>\n",
       "    <tr>\n",
       "      <th></th>\n",
       "      <th colspan=\"2\" halign=\"left\">index</th>\n",
       "    </tr>\n",
       "    <tr>\n",
       "      <th>status</th>\n",
       "      <th>mapped</th>\n",
       "      <th>unmapped</th>\n",
       "    </tr>\n",
       "    <tr>\n",
       "      <th>ADM3_PCODE</th>\n",
       "      <th></th>\n",
       "      <th></th>\n",
       "    </tr>\n",
       "  </thead>\n",
       "  <tbody>\n",
       "    <tr>\n",
       "      <th>MG11101001</th>\n",
       "      <td>3241</td>\n",
       "      <td>965</td>\n",
       "    </tr>\n",
       "    <tr>\n",
       "      <th>MG11101002</th>\n",
       "      <td>1516</td>\n",
       "      <td>3914</td>\n",
       "    </tr>\n",
       "    <tr>\n",
       "      <th>MG11101003</th>\n",
       "      <td>1458</td>\n",
       "      <td>1740</td>\n",
       "    </tr>\n",
       "    <tr>\n",
       "      <th>MG11101004</th>\n",
       "      <td>2803</td>\n",
       "      <td>2290</td>\n",
       "    </tr>\n",
       "    <tr>\n",
       "      <th>MG11101005</th>\n",
       "      <td>3043</td>\n",
       "      <td>6098</td>\n",
       "    </tr>\n",
       "  </tbody>\n",
       "</table>\n",
       "</div>"
      ],
      "text/plain": [
       "            index         \n",
       "status     mapped unmapped\n",
       "ADM3_PCODE                \n",
       "MG11101001   3241      965\n",
       "MG11101002   1516     3914\n",
       "MG11101003   1458     1740\n",
       "MG11101004   2803     2290\n",
       "MG11101005   3043     6098"
      ]
     },
     "execution_count": 138,
     "metadata": {},
     "output_type": "execute_result"
    }
   ],
   "source": [
    "adm_pivot.head()"
   ]
  },
  {
   "cell_type": "code",
   "execution_count": 139,
   "id": "566cd664-5776-4180-b91a-6207b4667083",
   "metadata": {},
   "outputs": [
    {
     "name": "stdout",
     "output_type": "stream",
     "text": [
      "<class 'pandas.core.frame.DataFrame'>\n",
      "Index: 1579 entries, MG11101001 to MG72716350\n",
      "Data columns (total 2 columns):\n",
      " #   Column             Non-Null Count  Dtype\n",
      "---  ------             --------------  -----\n",
      " 0   (index, mapped)    1579 non-null   int64\n",
      " 1   (index, unmapped)  1579 non-null   int64\n",
      "dtypes: int64(2)\n",
      "memory usage: 37.0+ KB\n"
     ]
    }
   ],
   "source": [
    "adm_pivot.info()"
   ]
  },
  {
   "cell_type": "markdown",
   "id": "72e0507f-2faa-41bd-9e5b-72f0d4251176",
   "metadata": {},
   "source": [
    "The resulting dataframe has a multiindex, which we will fix in the next code blocks"
   ]
  },
  {
   "cell_type": "code",
   "execution_count": 140,
   "id": "e17eb74b-ebd0-42f9-b62a-ba4046cdae84",
   "metadata": {},
   "outputs": [],
   "source": [
    "# Reset the multiindex\n",
    "adm_pivot.columns = adm_pivot.columns.get_level_values(1)\n",
    "adm_pivot = adm_pivot.reset_index().reset_index()"
   ]
  },
  {
   "cell_type": "code",
   "execution_count": 141,
   "id": "bc22b8bf-ebc9-4320-8f56-54d95270f0d6",
   "metadata": {},
   "outputs": [],
   "source": [
    "# Drop the index column \n",
    "adm_pivot.drop([\"index\"],axis = 1,inplace=True)"
   ]
  },
  {
   "cell_type": "code",
   "execution_count": 142,
   "id": "eb51dddb-0d9c-41cd-b85c-bca0a25e1cea",
   "metadata": {},
   "outputs": [
    {
     "data": {
      "text/html": [
       "<div>\n",
       "<style scoped>\n",
       "    .dataframe tbody tr th:only-of-type {\n",
       "        vertical-align: middle;\n",
       "    }\n",
       "\n",
       "    .dataframe tbody tr th {\n",
       "        vertical-align: top;\n",
       "    }\n",
       "\n",
       "    .dataframe thead th {\n",
       "        text-align: right;\n",
       "    }\n",
       "</style>\n",
       "<table border=\"1\" class=\"dataframe\">\n",
       "  <thead>\n",
       "    <tr style=\"text-align: right;\">\n",
       "      <th>status</th>\n",
       "      <th>ADM3_PCODE</th>\n",
       "      <th>mapped</th>\n",
       "      <th>unmapped</th>\n",
       "    </tr>\n",
       "  </thead>\n",
       "  <tbody>\n",
       "    <tr>\n",
       "      <th>0</th>\n",
       "      <td>MG11101001</td>\n",
       "      <td>3241</td>\n",
       "      <td>965</td>\n",
       "    </tr>\n",
       "    <tr>\n",
       "      <th>1</th>\n",
       "      <td>MG11101002</td>\n",
       "      <td>1516</td>\n",
       "      <td>3914</td>\n",
       "    </tr>\n",
       "    <tr>\n",
       "      <th>2</th>\n",
       "      <td>MG11101003</td>\n",
       "      <td>1458</td>\n",
       "      <td>1740</td>\n",
       "    </tr>\n",
       "    <tr>\n",
       "      <th>3</th>\n",
       "      <td>MG11101004</td>\n",
       "      <td>2803</td>\n",
       "      <td>2290</td>\n",
       "    </tr>\n",
       "    <tr>\n",
       "      <th>4</th>\n",
       "      <td>MG11101005</td>\n",
       "      <td>3043</td>\n",
       "      <td>6098</td>\n",
       "    </tr>\n",
       "  </tbody>\n",
       "</table>\n",
       "</div>"
      ],
      "text/plain": [
       "status  ADM3_PCODE  mapped  unmapped\n",
       "0       MG11101001    3241       965\n",
       "1       MG11101002    1516      3914\n",
       "2       MG11101003    1458      1740\n",
       "3       MG11101004    2803      2290\n",
       "4       MG11101005    3043      6098"
      ]
     },
     "execution_count": 142,
     "metadata": {},
     "output_type": "execute_result"
    }
   ],
   "source": [
    "# Dataframe now has a regular index!\n",
    "adm_pivot.head()"
   ]
  },
  {
   "cell_type": "code",
   "execution_count": 143,
   "id": "748662d0-bb80-4d22-a0ab-ba8ae43dd5e5",
   "metadata": {},
   "outputs": [],
   "source": [
    "# Renaming mapped and unmapped columns\n",
    "adm_pivot.rename(columns = {\n",
    "    'mapped':'pixels_withbuilding_{}{}'.format(month,year),\n",
    "    'unmapped':'pixels_nobuilding_{}{}'.format(month,year)\n",
    "    },\n",
    "    inplace=True\n",
    ")\n",
    "\n",
    "# Adding a column for percent completeness\n",
    "adm_pivot['percentage_completeness_{}{}'.format(month,year)] = (adm_pivot['pixels_withbuilding_{}{}'.format(month,year)]/(adm_pivot['pixels_withbuilding_{}{}'.format(month,year)] + adm_pivot['pixels_nobuilding_{}{}'.format(month,year)])) * 100"
   ]
  },
  {
   "cell_type": "code",
   "execution_count": 144,
   "id": "8834abd1-8c48-4560-a8a4-209ebfe90b03",
   "metadata": {},
   "outputs": [
    {
     "data": {
      "text/html": [
       "<div>\n",
       "<style scoped>\n",
       "    .dataframe tbody tr th:only-of-type {\n",
       "        vertical-align: middle;\n",
       "    }\n",
       "\n",
       "    .dataframe tbody tr th {\n",
       "        vertical-align: top;\n",
       "    }\n",
       "\n",
       "    .dataframe thead th {\n",
       "        text-align: right;\n",
       "    }\n",
       "</style>\n",
       "<table border=\"1\" class=\"dataframe\">\n",
       "  <thead>\n",
       "    <tr style=\"text-align: right;\">\n",
       "      <th>status</th>\n",
       "      <th>ADM3_PCODE</th>\n",
       "      <th>pixels_withbuilding_november2021</th>\n",
       "      <th>pixels_nobuilding_november2021</th>\n",
       "      <th>percentage_completeness_november2021</th>\n",
       "    </tr>\n",
       "  </thead>\n",
       "  <tbody>\n",
       "    <tr>\n",
       "      <th>0</th>\n",
       "      <td>MG11101001</td>\n",
       "      <td>3241</td>\n",
       "      <td>965</td>\n",
       "      <td>77.056586</td>\n",
       "    </tr>\n",
       "    <tr>\n",
       "      <th>1</th>\n",
       "      <td>MG11101002</td>\n",
       "      <td>1516</td>\n",
       "      <td>3914</td>\n",
       "      <td>27.918969</td>\n",
       "    </tr>\n",
       "    <tr>\n",
       "      <th>2</th>\n",
       "      <td>MG11101003</td>\n",
       "      <td>1458</td>\n",
       "      <td>1740</td>\n",
       "      <td>45.590994</td>\n",
       "    </tr>\n",
       "    <tr>\n",
       "      <th>3</th>\n",
       "      <td>MG11101004</td>\n",
       "      <td>2803</td>\n",
       "      <td>2290</td>\n",
       "      <td>55.036324</td>\n",
       "    </tr>\n",
       "    <tr>\n",
       "      <th>4</th>\n",
       "      <td>MG11101005</td>\n",
       "      <td>3043</td>\n",
       "      <td>6098</td>\n",
       "      <td>33.289574</td>\n",
       "    </tr>\n",
       "  </tbody>\n",
       "</table>\n",
       "</div>"
      ],
      "text/plain": [
       "status  ADM3_PCODE  pixels_withbuilding_november2021  \\\n",
       "0       MG11101001                              3241   \n",
       "1       MG11101002                              1516   \n",
       "2       MG11101003                              1458   \n",
       "3       MG11101004                              2803   \n",
       "4       MG11101005                              3043   \n",
       "\n",
       "status  pixels_nobuilding_november2021  percentage_completeness_november2021  \n",
       "0                                  965                             77.056586  \n",
       "1                                 3914                             27.918969  \n",
       "2                                 1740                             45.590994  \n",
       "3                                 2290                             55.036324  \n",
       "4                                 6098                             33.289574  "
      ]
     },
     "execution_count": 144,
     "metadata": {},
     "output_type": "execute_result"
    }
   ],
   "source": [
    "adm_pivot.head()"
   ]
  },
  {
   "cell_type": "markdown",
   "id": "6c52302c-586f-4812-a2d1-70f9a04f120b",
   "metadata": {},
   "source": [
    "By this point, we've successfully calculated the percentage completeness for each region! Each row corresponds to a unique boundary, with the columns corresponding to mapped/unmapped pixels with corresponding percetn completeness.\n",
    "\n",
    "Finally, we will join the calculated data with the admin boundaries information. Take note of which columns you would require for the final output (usually PCODE, name, and geometry)."
   ]
  },
  {
   "cell_type": "code",
   "execution_count": 145,
   "id": "0ddf9d4c-5674-40ea-b08d-55debfd3103c",
   "metadata": {},
   "outputs": [
    {
     "data": {
      "text/html": [
       "<div>\n",
       "<style scoped>\n",
       "    .dataframe tbody tr th:only-of-type {\n",
       "        vertical-align: middle;\n",
       "    }\n",
       "\n",
       "    .dataframe tbody tr th {\n",
       "        vertical-align: top;\n",
       "    }\n",
       "\n",
       "    .dataframe thead th {\n",
       "        text-align: right;\n",
       "    }\n",
       "</style>\n",
       "<table border=\"1\" class=\"dataframe\">\n",
       "  <thead>\n",
       "    <tr style=\"text-align: right;\">\n",
       "      <th></th>\n",
       "      <th>ADM3_EN</th>\n",
       "      <th>ADM3_PCODE</th>\n",
       "      <th>geometry</th>\n",
       "    </tr>\n",
       "  </thead>\n",
       "  <tbody>\n",
       "    <tr>\n",
       "      <th>0</th>\n",
       "      <td>1er Arrondissement</td>\n",
       "      <td>MG11101001</td>\n",
       "      <td>POLYGON ((47.50556 -18.89146, 47.50563 -18.891...</td>\n",
       "    </tr>\n",
       "    <tr>\n",
       "      <th>1</th>\n",
       "      <td>2e Arrondissement</td>\n",
       "      <td>MG11101002</td>\n",
       "      <td>POLYGON ((47.55842 -18.91178, 47.55857 -18.911...</td>\n",
       "    </tr>\n",
       "    <tr>\n",
       "      <th>2</th>\n",
       "      <td>3e Arrondissement</td>\n",
       "      <td>MG11101003</td>\n",
       "      <td>POLYGON ((47.51365 -18.87834, 47.51775 -18.879...</td>\n",
       "    </tr>\n",
       "    <tr>\n",
       "      <th>3</th>\n",
       "      <td>4e Arrondissement</td>\n",
       "      <td>MG11101004</td>\n",
       "      <td>POLYGON ((47.50262 -18.91043, 47.50261 -18.910...</td>\n",
       "    </tr>\n",
       "    <tr>\n",
       "      <th>4</th>\n",
       "      <td>5e Arrondissement</td>\n",
       "      <td>MG11101005</td>\n",
       "      <td>POLYGON ((47.53500 -18.85464, 47.53518 -18.854...</td>\n",
       "    </tr>\n",
       "  </tbody>\n",
       "</table>\n",
       "</div>"
      ],
      "text/plain": [
       "              ADM3_EN  ADM3_PCODE  \\\n",
       "0  1er Arrondissement  MG11101001   \n",
       "1   2e Arrondissement  MG11101002   \n",
       "2   3e Arrondissement  MG11101003   \n",
       "3   4e Arrondissement  MG11101004   \n",
       "4   5e Arrondissement  MG11101005   \n",
       "\n",
       "                                            geometry  \n",
       "0  POLYGON ((47.50556 -18.89146, 47.50563 -18.891...  \n",
       "1  POLYGON ((47.55842 -18.91178, 47.55857 -18.911...  \n",
       "2  POLYGON ((47.51365 -18.87834, 47.51775 -18.879...  \n",
       "3  POLYGON ((47.50262 -18.91043, 47.50261 -18.910...  \n",
       "4  POLYGON ((47.53500 -18.85464, 47.53518 -18.854...  "
      ]
     },
     "execution_count": 145,
     "metadata": {},
     "output_type": "execute_result"
    }
   ],
   "source": [
    "# Create new dataframe that will store adm_gdf\n",
    "# with percentage completness output\n",
    "adm_gdf_with_output = adm_gdf\n",
    "\n",
    "# Get only the columns we need to identify region\n",
    "# Add/subtract from the columns list as needed\n",
    "adm_gdf_with_output = adm_gdf_with_output[[\n",
    "    'ADM3_EN',\n",
    "    'ADM3_PCODE',\n",
    "    'geometry'\n",
    " ]]\n",
    "\n",
    "adm_gdf_with_output.head()"
   ]
  },
  {
   "cell_type": "code",
   "execution_count": 146,
   "id": "3ba100b0-cff3-4563-88ae-6c4d67c26a3b",
   "metadata": {},
   "outputs": [],
   "source": [
    "# Left joining percentage completness values \n",
    "# to their respective regions\n",
    "adm_gdf_with_output = pd.merge(adm_gdf_with_output,adm_pivot,how=\"left\", on = \"ADM3_PCODE\")"
   ]
  },
  {
   "cell_type": "code",
   "execution_count": 147,
   "id": "03d1d8f8-8311-4538-87ed-7f08d6e4a80b",
   "metadata": {},
   "outputs": [
    {
     "data": {
      "text/html": [
       "<div>\n",
       "<style scoped>\n",
       "    .dataframe tbody tr th:only-of-type {\n",
       "        vertical-align: middle;\n",
       "    }\n",
       "\n",
       "    .dataframe tbody tr th {\n",
       "        vertical-align: top;\n",
       "    }\n",
       "\n",
       "    .dataframe thead th {\n",
       "        text-align: right;\n",
       "    }\n",
       "</style>\n",
       "<table border=\"1\" class=\"dataframe\">\n",
       "  <thead>\n",
       "    <tr style=\"text-align: right;\">\n",
       "      <th></th>\n",
       "      <th>ADM3_EN</th>\n",
       "      <th>ADM3_PCODE</th>\n",
       "      <th>geometry</th>\n",
       "      <th>pixels_withbuilding_november2021</th>\n",
       "      <th>pixels_nobuilding_november2021</th>\n",
       "      <th>percentage_completeness_november2021</th>\n",
       "    </tr>\n",
       "  </thead>\n",
       "  <tbody>\n",
       "    <tr>\n",
       "      <th>0</th>\n",
       "      <td>1er Arrondissement</td>\n",
       "      <td>MG11101001</td>\n",
       "      <td>POLYGON ((47.50556 -18.89146, 47.50563 -18.891...</td>\n",
       "      <td>3241</td>\n",
       "      <td>965</td>\n",
       "      <td>77.056586</td>\n",
       "    </tr>\n",
       "    <tr>\n",
       "      <th>1</th>\n",
       "      <td>2e Arrondissement</td>\n",
       "      <td>MG11101002</td>\n",
       "      <td>POLYGON ((47.55842 -18.91178, 47.55857 -18.911...</td>\n",
       "      <td>1516</td>\n",
       "      <td>3914</td>\n",
       "      <td>27.918969</td>\n",
       "    </tr>\n",
       "    <tr>\n",
       "      <th>2</th>\n",
       "      <td>3e Arrondissement</td>\n",
       "      <td>MG11101003</td>\n",
       "      <td>POLYGON ((47.51365 -18.87834, 47.51775 -18.879...</td>\n",
       "      <td>1458</td>\n",
       "      <td>1740</td>\n",
       "      <td>45.590994</td>\n",
       "    </tr>\n",
       "    <tr>\n",
       "      <th>3</th>\n",
       "      <td>4e Arrondissement</td>\n",
       "      <td>MG11101004</td>\n",
       "      <td>POLYGON ((47.50262 -18.91043, 47.50261 -18.910...</td>\n",
       "      <td>2803</td>\n",
       "      <td>2290</td>\n",
       "      <td>55.036324</td>\n",
       "    </tr>\n",
       "    <tr>\n",
       "      <th>4</th>\n",
       "      <td>5e Arrondissement</td>\n",
       "      <td>MG11101005</td>\n",
       "      <td>POLYGON ((47.53500 -18.85464, 47.53518 -18.854...</td>\n",
       "      <td>3043</td>\n",
       "      <td>6098</td>\n",
       "      <td>33.289574</td>\n",
       "    </tr>\n",
       "  </tbody>\n",
       "</table>\n",
       "</div>"
      ],
      "text/plain": [
       "              ADM3_EN  ADM3_PCODE  \\\n",
       "0  1er Arrondissement  MG11101001   \n",
       "1   2e Arrondissement  MG11101002   \n",
       "2   3e Arrondissement  MG11101003   \n",
       "3   4e Arrondissement  MG11101004   \n",
       "4   5e Arrondissement  MG11101005   \n",
       "\n",
       "                                            geometry  \\\n",
       "0  POLYGON ((47.50556 -18.89146, 47.50563 -18.891...   \n",
       "1  POLYGON ((47.55842 -18.91178, 47.55857 -18.911...   \n",
       "2  POLYGON ((47.51365 -18.87834, 47.51775 -18.879...   \n",
       "3  POLYGON ((47.50262 -18.91043, 47.50261 -18.910...   \n",
       "4  POLYGON ((47.53500 -18.85464, 47.53518 -18.854...   \n",
       "\n",
       "   pixels_withbuilding_november2021  pixels_nobuilding_november2021  \\\n",
       "0                              3241                             965   \n",
       "1                              1516                            3914   \n",
       "2                              1458                            1740   \n",
       "3                              2803                            2290   \n",
       "4                              3043                            6098   \n",
       "\n",
       "   percentage_completeness_november2021  \n",
       "0                             77.056586  \n",
       "1                             27.918969  \n",
       "2                             45.590994  \n",
       "3                             55.036324  \n",
       "4                             33.289574  "
      ]
     },
     "execution_count": 147,
     "metadata": {},
     "output_type": "execute_result"
    }
   ],
   "source": [
    "adm_gdf_with_output.head()"
   ]
  },
  {
   "cell_type": "code",
   "execution_count": 148,
   "id": "dedfaeda-71f0-4722-a836-32fac4e650ac",
   "metadata": {},
   "outputs": [
    {
     "name": "stdout",
     "output_type": "stream",
     "text": [
      "<class 'geopandas.geodataframe.GeoDataFrame'>\n",
      "Int64Index: 1579 entries, 0 to 1578\n",
      "Data columns (total 6 columns):\n",
      " #   Column                                Non-Null Count  Dtype   \n",
      "---  ------                                --------------  -----   \n",
      " 0   ADM3_EN                               1579 non-null   object  \n",
      " 1   ADM3_PCODE                            1579 non-null   object  \n",
      " 2   geometry                              1579 non-null   geometry\n",
      " 3   pixels_withbuilding_november2021      1579 non-null   int64   \n",
      " 4   pixels_nobuilding_november2021        1579 non-null   int64   \n",
      " 5   percentage_completeness_november2021  1579 non-null   float64 \n",
      "dtypes: float64(1), geometry(1), int64(2), object(2)\n",
      "memory usage: 86.4+ KB\n"
     ]
    }
   ],
   "source": [
    "adm_gdf_with_output.info()"
   ]
  },
  {
   "cell_type": "markdown",
   "id": "b8abd999-b778-426c-ad0e-dd855410f0a5",
   "metadata": {},
   "source": [
    "### Saving percent completeness per region"
   ]
  },
  {
   "cell_type": "code",
   "execution_count": 149,
   "id": "617fa314-ca1d-46f3-8567-ccf3f0f8d791",
   "metadata": {},
   "outputs": [
    {
     "data": {
      "text/plain": [
       "'../data/mapthegap-mdg-adm3-2021-11-23.gpkg'"
      ]
     },
     "execution_count": 149,
     "metadata": {},
     "output_type": "execute_result"
    }
   ],
   "source": [
    "# To gpkg\n",
    "filename = \"../data/mapthegap-{}-{}-{}-{}-{}.gpkg\"\\\n",
    ".format(country_code,adm_code,year,month_num,day)\n",
    "adm_gdf_with_output.to_file(filename,driver='GPKG')\n",
    "filename"
   ]
  },
  {
   "cell_type": "code",
   "execution_count": 150,
   "id": "afa5cd6a-28d2-43b4-81e1-c2e1592154ad",
   "metadata": {},
   "outputs": [
    {
     "data": {
      "text/plain": [
       "'../data/mapthegap-mdg-adm3-2021-11-23.csv'"
      ]
     },
     "execution_count": 150,
     "metadata": {},
     "output_type": "execute_result"
    }
   ],
   "source": [
    "# To csv\n",
    "filename = \"../data/mapthegap-{}-{}-{}-{}-{}.csv\"\\\n",
    ".format(country_code,adm_code,year,month_num,day)\n",
    "adm_gdf_with_output.to_csv(filename,index=False)\n",
    "filename"
   ]
  },
  {
   "cell_type": "markdown",
   "id": "cc39bc57-89ef-4beb-8557-698a15c0ac07",
   "metadata": {},
   "source": [
    "# Finish!\n",
    "By this point, you should already have the percent completeness for the whole country and per admin region.\n",
    "\n",
    "To convert this into tilesets for plotting, refer to `2_CreateTileset.ipynb`"
   ]
  },
  {
   "cell_type": "code",
   "execution_count": 2,
   "id": "42c390d0-fa19-49a2-8390-7acd179449fc",
   "metadata": {},
   "outputs": [
    {
     "name": "stdout",
     "output_type": "stream",
     "text": [
      "Copying file://../data/mapthegap-mdg-adm3-2021-11-23.gpkg [Content-Type=application/octet-stream]...\n",
      "- [1 files][ 23.9 MiB/ 23.9 MiB]                                                \n",
      "Operation completed over 1 objects/23.9 MiB.                                     \n"
     ]
    }
   ],
   "source": [
    "! gsutil cp -n ../data/mapthegap-mdg-adm3-2021-11-23.gpkg gs://tm-ardie"
   ]
  },
  {
   "cell_type": "code",
   "execution_count": 158,
   "id": "ad6efcba-0577-4a0e-9cb4-1082a5b31b65",
   "metadata": {},
   "outputs": [
    {
     "name": "stdout",
     "output_type": "stream",
     "text": [
      "AccessDeniedException: 403 jc-osm-completeness@tm-geospatial.iam.gserviceaccount.com does not have storage.objects.get access to the Google Cloud Storage object.\n"
     ]
    }
   ],
   "source": [
    "! gsutil cp -n ~/osm-completeness/data/mapthegap-mdg-adm2-2021-11-23.gpkg gs://tm-ardie/2021-07-13-osm-completeness-madagascar/"
   ]
  }
 ],
 "metadata": {
  "environment": {
   "kernel": "python3",
   "name": "common-cpu.m86",
   "type": "gcloud",
   "uri": "gcr.io/deeplearning-platform-release/base-cpu:m86"
  },
  "kernelspec": {
   "display_name": "Python 3",
   "language": "python",
   "name": "python3"
  },
  "language_info": {
   "codemirror_mode": {
    "name": "ipython",
    "version": 3
   },
   "file_extension": ".py",
   "mimetype": "text/x-python",
   "name": "python",
   "nbconvert_exporter": "python",
   "pygments_lexer": "ipython3",
   "version": "3.7.12"
  }
 },
 "nbformat": 4,
 "nbformat_minor": 5
}
