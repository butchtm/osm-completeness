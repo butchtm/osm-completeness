{
 "cells": [
  {
   "cell_type": "markdown",
   "id": "fbaf94f3-3d0a-4017-8971-2499eba506eb",
   "metadata": {},
   "source": [
    "# Create Tilesets\n",
    "\n",
    "This notebook describes the process of creating tilesets from our output geopackages.\n",
    "\n",
    "1. Convert `.gkpg` into `.geojson`\n",
    "2. Use tippecanoe to convert the `.geojson` to a `.mbtiles`"
   ]
  },
  {
   "cell_type": "markdown",
   "id": "15018e91-8d15-41b1-94df-069148f380aa",
   "metadata": {},
   "source": [
    "## Set-Up\n",
    "\n",
    "From a terminal window, install tippecanoe using the following commands. Tippecanoe is a command line tool for creating tilesets. More information about tippecanoe [here](https://github.com/mapbox/tippecanoe).\n",
    "\n",
    "```bash\n",
    "git clone https://github.com/mapbox/tippecanoe.git\n",
    "cd tippecanoe\n",
    "sudo make -j\n",
    "sudo make install\n",
    "```"
   ]
  },
  {
   "cell_type": "markdown",
   "id": "4750b8ef-f95c-4590-a6f3-41d969aa2629",
   "metadata": {},
   "source": [
    "### Other packages"
   ]
  },
  {
   "cell_type": "code",
   "execution_count": 1,
   "id": "1e61b5e7-5c92-4ba0-9d40-255dd99de8be",
   "metadata": {},
   "outputs": [],
   "source": [
    "import geopandas as gpd"
   ]
  },
  {
   "cell_type": "markdown",
   "id": "570944c5-70d3-4a8e-9ef1-b86823294ce7",
   "metadata": {},
   "source": [
    "## Convert to geojson"
   ]
  },
  {
   "cell_type": "markdown",
   "id": "8a97a4cd-446f-444b-926e-c3407150cefc",
   "metadata": {},
   "source": [
    "`filename` should point to the geopackage to be converted."
   ]
  },
  {
   "cell_type": "code",
   "execution_count": 20,
   "id": "5fb0c79e-baec-4442-a08e-a2084d732990",
   "metadata": {},
   "outputs": [],
   "source": [
    "## filenames of generated files from other notebooks\n",
    "## Uncomment if you would like to use these files\n",
    "## 1A_Methodology_phl.gpkg\n",
    "# filename = \"../data/mapthegap-phl-adm2-2021-06-28.gpkg\"\n",
    "# filename = \"../data/mapthegap-phl-adm3-2021-06-28.gpkg\"\n",
    "# filename = \"../data/mapthegap-phl-adm4-2021-06-28.gpkg\"\n",
    "\n",
    "\n",
    "## 1B_Methodology_mdg.gpkg\n",
    "# filename = \"../data/mapthegap-mdg-adm2-2021-07-12.gpkg\"\n",
    "# filename = \"../data/mapthegap-mdg-adm3-2021-07-12.gpkg\"\n",
    "\n",
    "## If you have your own .gpkg to convert, put the filename here\n",
    "# filename = \"\" # Replace this string\n",
    "\n",
    "## November 23, 2021 Update\n",
    "filename = \"../data/mapthegap-mdg-adm2-2021-11-23.gpkg\"\n",
    "# filename = \"../data/mapthegap-mdg-adm3-2021-11-23.gpkg\""
   ]
  },
  {
   "cell_type": "code",
   "execution_count": 21,
   "id": "55adefd3-6031-4963-8dc5-6c23900dc4e3",
   "metadata": {},
   "outputs": [],
   "source": [
    "gdf = gpd.read_file(filename,driver=\"GPKG\")"
   ]
  },
  {
   "cell_type": "code",
   "execution_count": 22,
   "id": "b6257993-d780-4c26-942c-52da8278875b",
   "metadata": {},
   "outputs": [
    {
     "name": "stdout",
     "output_type": "stream",
     "text": [
      "<class 'geopandas.geodataframe.GeoDataFrame'>\n",
      "RangeIndex: 119 entries, 0 to 118\n",
      "Data columns (total 14 columns):\n",
      " #   Column                                Non-Null Count  Dtype   \n",
      "---  ------                                --------------  -----   \n",
      " 0   ADM2_PCODE                            119 non-null    object  \n",
      " 1   ADM2_EN                               119 non-null    object  \n",
      " 2   ADM2_TYPE                             119 non-null    object  \n",
      " 3   pixels_withbuilding_july2021          119 non-null    int64   \n",
      " 4   pixels_nobuilding_july2021            119 non-null    int64   \n",
      " 5   percentage_completeness_july2021      119 non-null    float64 \n",
      " 6   pixels_withbuilding_jan2020           119 non-null    int64   \n",
      " 7   pixels_nobuilding_jan2020             119 non-null    int64   \n",
      " 8   percentage_completeness_jan2020       119 non-null    float64 \n",
      " 9   pixels_withbuilding_november2021      119 non-null    int64   \n",
      " 10  pixels_nobuilding_november2021        119 non-null    int64   \n",
      " 11  percentage_completeness_november2021  119 non-null    float64 \n",
      " 12  _popsum                               119 non-null    int64   \n",
      " 13  geometry                              119 non-null    geometry\n",
      "dtypes: float64(3), geometry(1), int64(7), object(3)\n",
      "memory usage: 13.1+ KB\n"
     ]
    }
   ],
   "source": [
    "gdf.info()"
   ]
  },
  {
   "cell_type": "code",
   "execution_count": 23,
   "id": "4b2ba3a4-cbbb-4887-8ebb-eace870be757",
   "metadata": {},
   "outputs": [],
   "source": [
    "# Create the geojson\n",
    "# Change 'in.geojson' to something more descriptive as needed\n",
    "gdf.to_file(\"../data/in.geojson\",driver=\"GeoJSON\")"
   ]
  },
  {
   "cell_type": "markdown",
   "id": "90736433-6fbe-4d16-bc5c-511a4dba14c4",
   "metadata": {},
   "source": [
    "## Use tippcanoe to generate tileset"
   ]
  },
  {
   "cell_type": "markdown",
   "id": "9498d330-ca69-4252-bf88-ddc663eddd9a",
   "metadata": {},
   "source": [
    "### Checking if tippecanoe is installed\n",
    "This should output `tippecanoe: must specify -o out.mbtiles or -e directory` if it is properly installed"
   ]
  },
  {
   "cell_type": "code",
   "execution_count": 18,
   "id": "1c1fb9f5-ea6b-4e00-8f9e-0316e37b3336",
   "metadata": {},
   "outputs": [
    {
     "name": "stdout",
     "output_type": "stream",
     "text": [
      "tippecanoe: must specify -o out.mbtiles or -e directory\n"
     ]
    }
   ],
   "source": [
    "! tippecanoe"
   ]
  },
  {
   "cell_type": "markdown",
   "id": "bacc1f03-6c4f-4897-8d4d-e25012cff075",
   "metadata": {},
   "source": [
    "### Run tippecanoe\n",
    "\n",
    "The next command has the following format:\n",
    "\n",
    "`!tippecanoe -zg -o <out.mbtiles> --drop-densest-as-needed -l <layername> \"../data/geojson2convert.geojson\"`\n",
    "\n",
    "Before running this code cell, make sure to change `<out.mbtiles>`  and `<layer name>`as needed. "
   ]
  },
  {
   "cell_type": "code",
   "execution_count": 24,
   "id": "faafea63-ecd2-4ca0-9312-ea03ec710c79",
   "metadata": {},
   "outputs": [
    {
     "name": "stdout",
     "output_type": "stream",
     "text": [
      "119 features, 3492453 bytes of geometry, 6551 bytes of separate metadata, 13678 bytes of string pool\n",
      "Choosing a maxzoom of -z1 for features about 221074 feet (67384 meters) apart\n",
      "Choosing a maxzoom of -z11 for resolution of about 166 feet (50 meters) within features\n",
      "  99.9%  11/1277/1155  \n"
     ]
    }
   ],
   "source": [
    "!tippecanoe -zg -f -o ../data/mapthegap-mdg-adm2-2021-11-23.mbtiles --drop-densest-as-needed -l mapthegap-layer \"../data/in.geojson\""
   ]
  },
  {
   "cell_type": "markdown",
   "id": "c2cafe7b-8f31-4024-be85-eaeee9d0890b",
   "metadata": {},
   "source": [
    "# Finish!\n",
    "\n",
    "If no default filenames were changed, the new tileset should be saved as `data/out.mbtiles`."
   ]
  },
  {
   "cell_type": "code",
   "execution_count": 25,
   "id": "d8d9e37b-0584-4154-8954-774b864a1c70",
   "metadata": {},
   "outputs": [
    {
     "name": "stdout",
     "output_type": "stream",
     "text": [
      "Copying file://../data/mapthegap-mdg-adm2-2021-11-23.mbtiles [Content-Type=application/octet-stream]...\n",
      "/ [1 files][  3.4 MiB/  3.4 MiB]                                                \n",
      "Operation completed over 1 objects/3.4 MiB.                                      \n",
      "Copying file://../data/mapthegap-mdg-adm3-2021-11-23.mbtiles [Content-Type=application/octet-stream]...\n",
      "/ [1 files][  8.2 MiB/  8.2 MiB]                                                \n",
      "Operation completed over 1 objects/8.2 MiB.                                      \n",
      "Copying file://../data/mapthegap-mdg-adm2-2021-11-23.gpkg [Content-Type=application/octet-stream]...\n",
      "- [1 files][ 32.2 MiB/ 32.2 MiB]                                                \n",
      "Operation completed over 1 objects/32.2 MiB.                                     \n",
      "Copying file://../data/mapthegap-mdg-adm3-2021-11-23.gpkg [Content-Type=application/octet-stream]...\n",
      "/ [1 files][ 24.0 MiB/ 24.0 MiB]                                                \n",
      "Operation completed over 1 objects/24.0 MiB.                                     \n"
     ]
    }
   ],
   "source": [
    "! gsutil cp ../data/mapthegap-mdg-adm2-2021-11-23.mbtiles gs://tm-ardie\n",
    "! gsutil cp ../data/mapthegap-mdg-adm3-2021-11-23.mbtiles gs://tm-ardie\n",
    "! gsutil cp ../data/mapthegap-mdg-adm2-2021-11-23.gpkg gs://tm-ardie\n",
    "! gsutil cp ../data/mapthegap-mdg-adm3-2021-11-23.gpkg gs://tm-ardie"
   ]
  },
  {
   "cell_type": "code",
   "execution_count": 10,
   "id": "aa650942-4741-4f07-a6f0-4a1aa36aad28",
   "metadata": {},
   "outputs": [
    {
     "name": "stdout",
     "output_type": "stream",
     "text": [
      "Skipping existing item: gs://tm-ardie/mapthegap-mdg-adm2-2021-11-23.mbtiles\n"
     ]
    }
   ],
   "source": []
  }
 ],
 "metadata": {
  "environment": {
   "kernel": "python3",
   "name": "common-cpu.m86",
   "type": "gcloud",
   "uri": "gcr.io/deeplearning-platform-release/base-cpu:m86"
  },
  "kernelspec": {
   "display_name": "Python 3",
   "language": "python",
   "name": "python3"
  },
  "language_info": {
   "codemirror_mode": {
    "name": "ipython",
    "version": 3
   },
   "file_extension": ".py",
   "mimetype": "text/x-python",
   "name": "python",
   "nbconvert_exporter": "python",
   "pygments_lexer": "ipython3",
   "version": "3.7.12"
  }
 },
 "nbformat": 4,
 "nbformat_minor": 5
}
