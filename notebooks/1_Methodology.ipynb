{
 "cells": [
  {
   "cell_type": "markdown",
   "metadata": {},
   "source": [
    "# Methodology"
   ]
  },
  {
   "cell_type": "markdown",
   "metadata": {},
   "source": [
    "This notebook shows the methodology for the paper \"Measuring OpenStreetMap building footprint completeness using human settlement layers\"."
   ]
  },
  {
   "cell_type": "markdown",
   "metadata": {},
   "source": [
    "## Setup"
   ]
  },
  {
   "cell_type": "markdown",
   "metadata": {},
   "source": [
    "We import all of the relevant packages as well as download the datasets.\n",
    "\n",
    "For reference, here are the original download links for the datasets:\n",
    "1. High Resolution Settlement Layer (HRSL) ([Philippines](https://data.humdata.org/dataset/philippines-high-resolution-population-density-maps-demographic-estimates)) ([Madagascar](https://data.humdata.org/dataset/highresolutionpopulationdensitymaps-mdg))\n",
    "2. Administrative Boundaries ([Philippines](https://data.humdata.org/dataset/philippines-administrative-levels-0-to-3)) ([Madagascar](https://data.humdata.org/dataset/madagascar-administrative-level-0-4-boundaries))\n",
    "3. OpenStreetMap (OSM) ([Philippines](https://download.geofabrik.de/asia/philippines.html)) ([Madagascar](https://download.geofabrik.de/africa/madagascar.html))"
   ]
  },
  {
   "cell_type": "code",
   "execution_count": 5,
   "metadata": {},
   "outputs": [
    {
     "ename": "ModuleNotFoundError",
     "evalue": "No module named 'shapely'",
     "output_type": "error",
     "traceback": [
      "\u001b[0;31m---------------------------------------------------------------------------\u001b[0m",
      "\u001b[0;31mModuleNotFoundError\u001b[0m                       Traceback (most recent call last)",
      "\u001b[0;32m/tmp/ipykernel_11416/3062362015.py\u001b[0m in \u001b[0;36m<module>\u001b[0;34m\u001b[0m\n\u001b[1;32m      3\u001b[0m \u001b[0;32mimport\u001b[0m \u001b[0mmatplotlib\u001b[0m\u001b[0;34m.\u001b[0m\u001b[0mpyplot\u001b[0m \u001b[0;32mas\u001b[0m \u001b[0mplt\u001b[0m\u001b[0;34m\u001b[0m\u001b[0;34m\u001b[0m\u001b[0m\n\u001b[1;32m      4\u001b[0m \u001b[0;34m\u001b[0m\u001b[0m\n\u001b[0;32m----> 5\u001b[0;31m \u001b[0;32mimport\u001b[0m \u001b[0mshapely\u001b[0m\u001b[0;34m\u001b[0m\u001b[0;34m\u001b[0m\u001b[0m\n\u001b[0m\u001b[1;32m      6\u001b[0m \u001b[0;32mimport\u001b[0m \u001b[0mgeopandas\u001b[0m \u001b[0;32mas\u001b[0m \u001b[0mgpd\u001b[0m\u001b[0;34m\u001b[0m\u001b[0;34m\u001b[0m\u001b[0m\n\u001b[1;32m      7\u001b[0m \u001b[0;32mimport\u001b[0m \u001b[0mrasterio\u001b[0m\u001b[0;34m\u001b[0m\u001b[0;34m\u001b[0m\u001b[0m\n",
      "\u001b[0;31mModuleNotFoundError\u001b[0m: No module named 'shapely'"
     ]
    }
   ],
   "source": [
    "import numpy as np\n",
    "import pandas as pd\n",
    "import matplotlib.pyplot as plt\n",
    "\n",
    "import shapely\n",
    "import geopandas as gpd\n",
    "import rasterio\n",
    "import rasterio.features\n",
    "\n",
    "import wget\n",
    "\n",
    "import os\n",
    "import glob\n",
    "from zipfile import ZipFile"
   ]
  },
  {
   "cell_type": "code",
   "execution_count": 6,
   "metadata": {},
   "outputs": [
    {
     "name": "stdout",
     "output_type": "stream",
     "text": [
      "/opt/conda/bin/python\n"
     ]
    }
   ],
   "source": [
    "!which python"
   ]
  },
  {
   "cell_type": "code",
   "execution_count": 3,
   "metadata": {},
   "outputs": [],
   "source": [
    "try:\n",
    "    os.mkdir(\"../download_data\")\n",
    "except Exception:\n",
    "    pass"
   ]
  },
  {
   "cell_type": "markdown",
   "metadata": {},
   "source": [
    "### HRSL download"
   ]
  },
  {
   "cell_type": "markdown",
   "metadata": {},
   "source": [
    "Uncomment the cells below if you have not yet downloaded the HRSL datasets."
   ]
  },
  {
   "cell_type": "code",
   "execution_count": 5,
   "metadata": {},
   "outputs": [],
   "source": [
    "hrsl_phl_men_url = \"https://data.humdata.org/dataset/6d9f35c0-4764-49ee-b364-329db0b7a47d/resource/5a13bb60-4506-42a5-a08a-7ccf20413179/download/phl_men_2019-06-01_geotiff.zip\"\n",
    "hrsl_phl_women_url = \"https://data.humdata.org/dataset/6d9f35c0-4764-49ee-b364-329db0b7a47d/resource/4aff438c-43d9-47d0-853f-5a6b6ae28223/download/phl_women_2019-06-01_geotiff.zip\""
   ]
  },
  {
   "cell_type": "code",
   "execution_count": 6,
   "metadata": {},
   "outputs": [
    {
     "data": {
      "text/plain": [
       "'../download_data/phl_hrsl_men_jun_2019 (1).zip'"
      ]
     },
     "execution_count": 6,
     "metadata": {},
     "output_type": "execute_result"
    }
   ],
   "source": [
    "wget.download(hrsl_phl_men_url, '../download_data/phl_hrsl_men_jun_2019.zip')"
   ]
  },
  {
   "cell_type": "code",
   "execution_count": 7,
   "metadata": {},
   "outputs": [
    {
     "data": {
      "text/plain": [
       "'../download_data/phl_hrsl_women_jun_2019 (1).zip'"
      ]
     },
     "execution_count": 7,
     "metadata": {},
     "output_type": "execute_result"
    }
   ],
   "source": [
    "wget.download(hrsl_phl_women_url, '../download_data/phl_hrsl_women_jun_2019.zip')"
   ]
  },
  {
   "cell_type": "markdown",
   "metadata": {},
   "source": [
    "### Admin boundary download"
   ]
  },
  {
   "cell_type": "markdown",
   "metadata": {},
   "source": [
    "We note that the level 4 (barangay) admin boundary dataset for the Philippines is not available in the HDX website. We provide an external download link so that our results can still be reproduced.\n",
    "\n",
    "Uncomment the cells below if you have not yet downloaded the admin boundary datasets."
   ]
  },
  {
   "cell_type": "code",
   "execution_count": 8,
   "metadata": {},
   "outputs": [],
   "source": [
    "adm_phl_url = \"https://data.humdata.org/dataset/caf116df-f984-4deb-85ca-41b349d3f313/resource/12457689-6a86-4474-8032-5ca9464d38a8/download/phl_adm_psa_namria_20200529_shp.zip\""
   ]
  },
  {
   "cell_type": "code",
   "execution_count": 9,
   "metadata": {},
   "outputs": [
    {
     "data": {
      "text/plain": [
       "'../download_data/phl_adm_all (1).zip'"
      ]
     },
     "execution_count": 9,
     "metadata": {},
     "output_type": "execute_result"
    }
   ],
   "source": [
    "wget.download(adm_phl_url, '../download_data/phl_adm_all.zip')"
   ]
  },
  {
   "cell_type": "code",
   "execution_count": 10,
   "metadata": {},
   "outputs": [],
   "source": [
    "adm4_phl_url = \"https://storage.googleapis.com/osm-completeness-thinkingmachines/phl_adm_2015_level4_barangay.gpkg.zip\""
   ]
  },
  {
   "cell_type": "code",
   "execution_count": 11,
   "metadata": {},
   "outputs": [
    {
     "data": {
      "text/plain": [
       "'../download_data/phl_adm_2015_level4_barangay.gpkg (1).zip'"
      ]
     },
     "execution_count": 11,
     "metadata": {},
     "output_type": "execute_result"
    }
   ],
   "source": [
    "wget.download(adm4_phl_url, '../download_data/phl_adm_2015_level4_barangay.gpkg.zip')"
   ]
  },
  {
   "cell_type": "markdown",
   "metadata": {},
   "source": [
    "### OSM download"
   ]
  },
  {
   "cell_type": "markdown",
   "metadata": {},
   "source": [
    "Uncomment the cells below if you have not yet downloaded the OSM datasets."
   ]
  },
  {
   "cell_type": "code",
   "execution_count": 19,
   "metadata": {},
   "outputs": [],
   "source": [
    "# #### 2020 OSM Dataset\n",
    "# osm_phl_url = \"https://storage.googleapis.com/osm-completeness-thinkingmachines/phl_osm_jan_2020_buildings.gpkg.zip\""
   ]
  },
  {
   "cell_type": "code",
   "execution_count": 13,
   "metadata": {},
   "outputs": [],
   "source": [
    "##### 2021 OSM Dataset\n",
    "osm_phl_url = \"https://download.geofabrik.de/asia/philippines-latest-free.shp.zip\""
   ]
  },
  {
   "cell_type": "code",
   "execution_count": 20,
   "metadata": {},
   "outputs": [
    {
     "data": {
      "text/plain": [
       "'../download_data/phl_osm_jan_2020_buildings.gpkg.zip'"
      ]
     },
     "execution_count": 20,
     "metadata": {},
     "output_type": "execute_result"
    }
   ],
   "source": [
    "# wget.download(osm_phl_url, '../download_data/phl_osm_jan_2020_buildings.gpkg.zip')"
   ]
  },
  {
   "cell_type": "code",
   "execution_count": 15,
   "metadata": {},
   "outputs": [
    {
     "data": {
      "text/plain": [
       "'../download_data/philippines-latest-free.shp (1).zip'"
      ]
     },
     "execution_count": 15,
     "metadata": {},
     "output_type": "execute_result"
    }
   ],
   "source": [
    "wget.download(osm_phl_url, '../download_data/philippines-latest-free.shp.zip')"
   ]
  },
  {
   "cell_type": "markdown",
   "metadata": {},
   "source": [
    "### Unzip all datasets"
   ]
  },
  {
   "cell_type": "code",
   "execution_count": 21,
   "metadata": {},
   "outputs": [],
   "source": [
    "for i in glob.glob(\"../download_data/*.zip\"):\n",
    "    if os.path.isdir(os.path.splitext(i)[0]):\n",
    "        pass\n",
    "    else:\n",
    "        with ZipFile(i) as myzip:\n",
    "            myzip.extractall(os.path.splitext(i)[0])"
   ]
  },
  {
   "cell_type": "markdown",
   "metadata": {},
   "source": [
    "## What do we want our final output to look like?"
   ]
  },
  {
   "cell_type": "code",
   "execution_count": 17,
   "metadata": {},
   "outputs": [
    {
     "data": {
      "text/plain": [
       "'../download_data/mapthegap-phl-adm4-2021-05-29 (1).csv'"
      ]
     },
     "execution_count": 17,
     "metadata": {},
     "output_type": "execute_result"
    }
   ],
   "source": [
    "wget.download('https://storage.googleapis.com/osm-completeness-thinkingmachines/mapthegap-phl-adm2-2021-05-29.csv', '../download_data/mapthegap-phl-adm2-2021-05-29.csv')\n",
    "wget.download('https://storage.googleapis.com/osm-completeness-thinkingmachines/mapthegap-phl-adm3-2021-05-29.csv', '../download_data/mapthegap-phl-adm3-2021-05-29.csv')\n",
    "wget.download('https://storage.googleapis.com/osm-completeness-thinkingmachines/mapthegap-phl-adm4-2021-05-29.csv', '../download_data/mapthegap-phl-adm4-2021-05-29.csv')"
   ]
  },
  {
   "cell_type": "code",
   "execution_count": 18,
   "metadata": {},
   "outputs": [],
   "source": [
    "province_output = pd.read_csv('../download_data/mapthegap-phl-adm2-2021-05-29.csv')"
   ]
  },
  {
   "cell_type": "code",
   "execution_count": 19,
   "metadata": {},
   "outputs": [
    {
     "data": {
      "text/html": [
       "<div>\n",
       "<style scoped>\n",
       "    .dataframe tbody tr th:only-of-type {\n",
       "        vertical-align: middle;\n",
       "    }\n",
       "\n",
       "    .dataframe tbody tr th {\n",
       "        vertical-align: top;\n",
       "    }\n",
       "\n",
       "    .dataframe thead th {\n",
       "        text-align: right;\n",
       "    }\n",
       "</style>\n",
       "<table border=\"1\" class=\"dataframe\">\n",
       "  <thead>\n",
       "    <tr style=\"text-align: right;\">\n",
       "      <th></th>\n",
       "      <th>ADM2_EN</th>\n",
       "      <th>ADM2_PCODE</th>\n",
       "      <th>ADM2_REF</th>\n",
       "      <th>ADM2ALT1EN</th>\n",
       "      <th>ADM2ALT2EN</th>\n",
       "      <th>pixels_withbuilding_june2020</th>\n",
       "      <th>pixels_nobuilding_june2020</th>\n",
       "      <th>percentage_completeness_june2020</th>\n",
       "      <th>pixels_withbuilding_may2021</th>\n",
       "      <th>pixels_nobuilding_may2021</th>\n",
       "      <th>percentage_completeness_may2021</th>\n",
       "    </tr>\n",
       "  </thead>\n",
       "  <tbody>\n",
       "    <tr>\n",
       "      <th>0</th>\n",
       "      <td>Abra</td>\n",
       "      <td>PH140100000</td>\n",
       "      <td>NaN</td>\n",
       "      <td>NaN</td>\n",
       "      <td>NaN</td>\n",
       "      <td>13790</td>\n",
       "      <td>5152</td>\n",
       "      <td>72.801183</td>\n",
       "      <td>13862</td>\n",
       "      <td>5080</td>\n",
       "      <td>73.181290</td>\n",
       "    </tr>\n",
       "    <tr>\n",
       "      <th>1</th>\n",
       "      <td>Agusan del Norte</td>\n",
       "      <td>PH160200000</td>\n",
       "      <td>NaN</td>\n",
       "      <td>NaN</td>\n",
       "      <td>NaN</td>\n",
       "      <td>4202</td>\n",
       "      <td>35688</td>\n",
       "      <td>10.533968</td>\n",
       "      <td>15586</td>\n",
       "      <td>24304</td>\n",
       "      <td>39.072449</td>\n",
       "    </tr>\n",
       "    <tr>\n",
       "      <th>2</th>\n",
       "      <td>Agusan del Sur</td>\n",
       "      <td>PH160300000</td>\n",
       "      <td>NaN</td>\n",
       "      <td>NaN</td>\n",
       "      <td>NaN</td>\n",
       "      <td>2953</td>\n",
       "      <td>38147</td>\n",
       "      <td>7.184915</td>\n",
       "      <td>3422</td>\n",
       "      <td>37678</td>\n",
       "      <td>8.326034</td>\n",
       "    </tr>\n",
       "    <tr>\n",
       "      <th>3</th>\n",
       "      <td>Aklan</td>\n",
       "      <td>PH060400000</td>\n",
       "      <td>NaN</td>\n",
       "      <td>NaN</td>\n",
       "      <td>NaN</td>\n",
       "      <td>14693</td>\n",
       "      <td>31978</td>\n",
       "      <td>31.482077</td>\n",
       "      <td>21519</td>\n",
       "      <td>25152</td>\n",
       "      <td>46.107861</td>\n",
       "    </tr>\n",
       "    <tr>\n",
       "      <th>4</th>\n",
       "      <td>Albay</td>\n",
       "      <td>PH050500000</td>\n",
       "      <td>NaN</td>\n",
       "      <td>NaN</td>\n",
       "      <td>NaN</td>\n",
       "      <td>27168</td>\n",
       "      <td>31532</td>\n",
       "      <td>46.282794</td>\n",
       "      <td>32756</td>\n",
       "      <td>25944</td>\n",
       "      <td>55.802385</td>\n",
       "    </tr>\n",
       "  </tbody>\n",
       "</table>\n",
       "</div>"
      ],
      "text/plain": [
       "            ADM2_EN   ADM2_PCODE  ADM2_REF  ADM2ALT1EN  ADM2ALT2EN  \\\n",
       "0              Abra  PH140100000       NaN         NaN         NaN   \n",
       "1  Agusan del Norte  PH160200000       NaN         NaN         NaN   \n",
       "2    Agusan del Sur  PH160300000       NaN         NaN         NaN   \n",
       "3             Aklan  PH060400000       NaN         NaN         NaN   \n",
       "4             Albay  PH050500000       NaN         NaN         NaN   \n",
       "\n",
       "   pixels_withbuilding_june2020  pixels_nobuilding_june2020  \\\n",
       "0                         13790                        5152   \n",
       "1                          4202                       35688   \n",
       "2                          2953                       38147   \n",
       "3                         14693                       31978   \n",
       "4                         27168                       31532   \n",
       "\n",
       "   percentage_completeness_june2020  pixels_withbuilding_may2021  \\\n",
       "0                         72.801183                        13862   \n",
       "1                         10.533968                        15586   \n",
       "2                          7.184915                         3422   \n",
       "3                         31.482077                        21519   \n",
       "4                         46.282794                        32756   \n",
       "\n",
       "   pixels_nobuilding_may2021  percentage_completeness_may2021  \n",
       "0                       5080                        73.181290  \n",
       "1                      24304                        39.072449  \n",
       "2                      37678                         8.326034  \n",
       "3                      25152                        46.107861  \n",
       "4                      25944                        55.802385  "
      ]
     },
     "execution_count": 19,
     "metadata": {},
     "output_type": "execute_result"
    }
   ],
   "source": [
    "province_output.head()"
   ]
  },
  {
   "cell_type": "code",
   "execution_count": 20,
   "metadata": {},
   "outputs": [],
   "source": [
    "citymuni_output = pd.read_csv('../download_data/mapthegap-phl-adm3-2021-05-29.csv')"
   ]
  },
  {
   "cell_type": "code",
   "execution_count": 21,
   "metadata": {},
   "outputs": [
    {
     "data": {
      "text/html": [
       "<div>\n",
       "<style scoped>\n",
       "    .dataframe tbody tr th:only-of-type {\n",
       "        vertical-align: middle;\n",
       "    }\n",
       "\n",
       "    .dataframe tbody tr th {\n",
       "        vertical-align: top;\n",
       "    }\n",
       "\n",
       "    .dataframe thead th {\n",
       "        text-align: right;\n",
       "    }\n",
       "</style>\n",
       "<table border=\"1\" class=\"dataframe\">\n",
       "  <thead>\n",
       "    <tr style=\"text-align: right;\">\n",
       "      <th></th>\n",
       "      <th>ADM3_EN</th>\n",
       "      <th>ADM3_PCODE</th>\n",
       "      <th>ADM3_REF</th>\n",
       "      <th>ADM3ALT1EN</th>\n",
       "      <th>ADM3ALT2EN</th>\n",
       "      <th>pixels_withbuilding_june2020</th>\n",
       "      <th>pixels_nobuilding_june2020</th>\n",
       "      <th>percentage_completeness_june2020</th>\n",
       "      <th>pixels_withbuilding_may2021</th>\n",
       "      <th>pixels_nobuilding_may2021</th>\n",
       "      <th>percentage_completeness_may2021</th>\n",
       "    </tr>\n",
       "  </thead>\n",
       "  <tbody>\n",
       "    <tr>\n",
       "      <th>0</th>\n",
       "      <td>Aborlan</td>\n",
       "      <td>PH175301000</td>\n",
       "      <td>NaN</td>\n",
       "      <td>NaN</td>\n",
       "      <td>NaN</td>\n",
       "      <td>594</td>\n",
       "      <td>3599</td>\n",
       "      <td>14.166468</td>\n",
       "      <td>652</td>\n",
       "      <td>3541</td>\n",
       "      <td>15.549726</td>\n",
       "    </tr>\n",
       "    <tr>\n",
       "      <th>1</th>\n",
       "      <td>Abra de Ilog</td>\n",
       "      <td>PH175101000</td>\n",
       "      <td>NaN</td>\n",
       "      <td>NaN</td>\n",
       "      <td>NaN</td>\n",
       "      <td>1315</td>\n",
       "      <td>729</td>\n",
       "      <td>64.334638</td>\n",
       "      <td>1316</td>\n",
       "      <td>728</td>\n",
       "      <td>64.383562</td>\n",
       "    </tr>\n",
       "    <tr>\n",
       "      <th>2</th>\n",
       "      <td>Abucay</td>\n",
       "      <td>PH030801000</td>\n",
       "      <td>NaN</td>\n",
       "      <td>NaN</td>\n",
       "      <td>NaN</td>\n",
       "      <td>1996</td>\n",
       "      <td>646</td>\n",
       "      <td>75.548827</td>\n",
       "      <td>1993</td>\n",
       "      <td>649</td>\n",
       "      <td>75.435276</td>\n",
       "    </tr>\n",
       "    <tr>\n",
       "      <th>3</th>\n",
       "      <td>Abulug</td>\n",
       "      <td>PH021501000</td>\n",
       "      <td>NaN</td>\n",
       "      <td>NaN</td>\n",
       "      <td>NaN</td>\n",
       "      <td>3396</td>\n",
       "      <td>927</td>\n",
       "      <td>78.556558</td>\n",
       "      <td>3405</td>\n",
       "      <td>918</td>\n",
       "      <td>78.764747</td>\n",
       "    </tr>\n",
       "    <tr>\n",
       "      <th>4</th>\n",
       "      <td>Abuyog</td>\n",
       "      <td>PH083701000</td>\n",
       "      <td>NaN</td>\n",
       "      <td>NaN</td>\n",
       "      <td>NaN</td>\n",
       "      <td>1456</td>\n",
       "      <td>1005</td>\n",
       "      <td>59.162942</td>\n",
       "      <td>1473</td>\n",
       "      <td>988</td>\n",
       "      <td>59.853718</td>\n",
       "    </tr>\n",
       "  </tbody>\n",
       "</table>\n",
       "</div>"
      ],
      "text/plain": [
       "        ADM3_EN   ADM3_PCODE ADM3_REF  ADM3ALT1EN  ADM3ALT2EN  \\\n",
       "0       Aborlan  PH175301000      NaN         NaN         NaN   \n",
       "1  Abra de Ilog  PH175101000      NaN         NaN         NaN   \n",
       "2        Abucay  PH030801000      NaN         NaN         NaN   \n",
       "3        Abulug  PH021501000      NaN         NaN         NaN   \n",
       "4        Abuyog  PH083701000      NaN         NaN         NaN   \n",
       "\n",
       "   pixels_withbuilding_june2020  pixels_nobuilding_june2020  \\\n",
       "0                           594                        3599   \n",
       "1                          1315                         729   \n",
       "2                          1996                         646   \n",
       "3                          3396                         927   \n",
       "4                          1456                        1005   \n",
       "\n",
       "   percentage_completeness_june2020  pixels_withbuilding_may2021  \\\n",
       "0                         14.166468                          652   \n",
       "1                         64.334638                         1316   \n",
       "2                         75.548827                         1993   \n",
       "3                         78.556558                         3405   \n",
       "4                         59.162942                         1473   \n",
       "\n",
       "   pixels_nobuilding_may2021  percentage_completeness_may2021  \n",
       "0                       3541                        15.549726  \n",
       "1                        728                        64.383562  \n",
       "2                        649                        75.435276  \n",
       "3                        918                        78.764747  \n",
       "4                        988                        59.853718  "
      ]
     },
     "execution_count": 21,
     "metadata": {},
     "output_type": "execute_result"
    }
   ],
   "source": [
    "citymuni_output.head()"
   ]
  },
  {
   "cell_type": "code",
   "execution_count": 22,
   "metadata": {},
   "outputs": [],
   "source": [
    "brgy_output = pd.read_csv('../download_data/mapthegap-phl-adm4-2021-05-29.csv')"
   ]
  },
  {
   "cell_type": "code",
   "execution_count": 23,
   "metadata": {},
   "outputs": [
    {
     "data": {
      "text/html": [
       "<div>\n",
       "<style scoped>\n",
       "    .dataframe tbody tr th:only-of-type {\n",
       "        vertical-align: middle;\n",
       "    }\n",
       "\n",
       "    .dataframe tbody tr th {\n",
       "        vertical-align: top;\n",
       "    }\n",
       "\n",
       "    .dataframe thead th {\n",
       "        text-align: right;\n",
       "    }\n",
       "</style>\n",
       "<table border=\"1\" class=\"dataframe\">\n",
       "  <thead>\n",
       "    <tr style=\"text-align: right;\">\n",
       "      <th></th>\n",
       "      <th>Reg_Code</th>\n",
       "      <th>Reg_Name</th>\n",
       "      <th>Pro_Code</th>\n",
       "      <th>Pro_Name</th>\n",
       "      <th>Mun_Code</th>\n",
       "      <th>Mun_Name</th>\n",
       "      <th>Bgy_Code</th>\n",
       "      <th>Bgy_Name</th>\n",
       "      <th>RURBAN</th>\n",
       "      <th>ADM4_PCODE_NAME</th>\n",
       "      <th>pixels_withbuilding_june2020</th>\n",
       "      <th>pixels_nobuilding_june2020</th>\n",
       "      <th>percentage_completeness_june2020</th>\n",
       "      <th>ADM4_PCODE</th>\n",
       "      <th>pixels_withbuilding_may2021</th>\n",
       "      <th>pixels_nobuilding_may2021</th>\n",
       "      <th>percentage_completeness_may2021</th>\n",
       "    </tr>\n",
       "  </thead>\n",
       "  <tbody>\n",
       "    <tr>\n",
       "      <th>0</th>\n",
       "      <td>110000000</td>\n",
       "      <td>REGION XI (DAVAO REGION)</td>\n",
       "      <td>118200000</td>\n",
       "      <td>COMPOSTELA VALLEY</td>\n",
       "      <td>118206000.0</td>\n",
       "      <td>MAWAB</td>\n",
       "      <td>118206010.0</td>\n",
       "      <td>Sawangan</td>\n",
       "      <td>R</td>\n",
       "      <td>118206010_Sawangan</td>\n",
       "      <td>3</td>\n",
       "      <td>71</td>\n",
       "      <td>4.054054</td>\n",
       "      <td>118206010.0</td>\n",
       "      <td>6</td>\n",
       "      <td>68</td>\n",
       "      <td>8.108108</td>\n",
       "    </tr>\n",
       "    <tr>\n",
       "      <th>1</th>\n",
       "      <td>180000000</td>\n",
       "      <td>NEGROS ISLAND REGION (NIR)</td>\n",
       "      <td>184500000</td>\n",
       "      <td>NEGROS OCCIDENTAL</td>\n",
       "      <td>184501000.0</td>\n",
       "      <td>BACOLOD CITY (Capital)</td>\n",
       "      <td>184501048.0</td>\n",
       "      <td>Felisa</td>\n",
       "      <td>U</td>\n",
       "      <td>184501048_Felisa</td>\n",
       "      <td>2</td>\n",
       "      <td>272</td>\n",
       "      <td>0.729927</td>\n",
       "      <td>184501048.0</td>\n",
       "      <td>3</td>\n",
       "      <td>271</td>\n",
       "      <td>1.094891</td>\n",
       "    </tr>\n",
       "    <tr>\n",
       "      <th>2</th>\n",
       "      <td>120000000</td>\n",
       "      <td>REGION XII (SOCCSKSARGEN)</td>\n",
       "      <td>126300000</td>\n",
       "      <td>SOUTH COTABATO</td>\n",
       "      <td>126311000.0</td>\n",
       "      <td>NORALA</td>\n",
       "      <td>126311020.0</td>\n",
       "      <td>Simsiman</td>\n",
       "      <td>R</td>\n",
       "      <td>126311020_Simsiman</td>\n",
       "      <td>116</td>\n",
       "      <td>90</td>\n",
       "      <td>56.310680</td>\n",
       "      <td>126311020.0</td>\n",
       "      <td>147</td>\n",
       "      <td>59</td>\n",
       "      <td>71.359223</td>\n",
       "    </tr>\n",
       "    <tr>\n",
       "      <th>3</th>\n",
       "      <td>150000000</td>\n",
       "      <td>AUTONOMOUS REGION IN MUSLIM MINDANAO (ARMM)</td>\n",
       "      <td>157000000</td>\n",
       "      <td>TAWI-TAWI</td>\n",
       "      <td>157001000.0</td>\n",
       "      <td>PANGLIMA SUGALA (BALIMBING)</td>\n",
       "      <td>157001001.0</td>\n",
       "      <td>Balimbing Proper</td>\n",
       "      <td>R</td>\n",
       "      <td>157001001_Balimbing Proper</td>\n",
       "      <td>0</td>\n",
       "      <td>93</td>\n",
       "      <td>0.000000</td>\n",
       "      <td>157001001.0</td>\n",
       "      <td>5</td>\n",
       "      <td>88</td>\n",
       "      <td>5.376344</td>\n",
       "    </tr>\n",
       "    <tr>\n",
       "      <th>4</th>\n",
       "      <td>150000000</td>\n",
       "      <td>AUTONOMOUS REGION IN MUSLIM MINDANAO (ARMM)</td>\n",
       "      <td>157000000</td>\n",
       "      <td>TAWI-TAWI</td>\n",
       "      <td>157001000.0</td>\n",
       "      <td>PANGLIMA SUGALA (BALIMBING)</td>\n",
       "      <td>157001002.0</td>\n",
       "      <td>Batu-batu (Pob.)</td>\n",
       "      <td>R</td>\n",
       "      <td>157001002_Batu-batu (Pob.)</td>\n",
       "      <td>11</td>\n",
       "      <td>182</td>\n",
       "      <td>5.699482</td>\n",
       "      <td>157001002.0</td>\n",
       "      <td>25</td>\n",
       "      <td>168</td>\n",
       "      <td>12.953368</td>\n",
       "    </tr>\n",
       "  </tbody>\n",
       "</table>\n",
       "</div>"
      ],
      "text/plain": [
       "    Reg_Code                                     Reg_Name   Pro_Code  \\\n",
       "0  110000000                     REGION XI (DAVAO REGION)  118200000   \n",
       "1  180000000                   NEGROS ISLAND REGION (NIR)  184500000   \n",
       "2  120000000                    REGION XII (SOCCSKSARGEN)  126300000   \n",
       "3  150000000  AUTONOMOUS REGION IN MUSLIM MINDANAO (ARMM)  157000000   \n",
       "4  150000000  AUTONOMOUS REGION IN MUSLIM MINDANAO (ARMM)  157000000   \n",
       "\n",
       "            Pro_Name     Mun_Code                     Mun_Name     Bgy_Code  \\\n",
       "0  COMPOSTELA VALLEY  118206000.0                        MAWAB  118206010.0   \n",
       "1  NEGROS OCCIDENTAL  184501000.0       BACOLOD CITY (Capital)  184501048.0   \n",
       "2     SOUTH COTABATO  126311000.0                       NORALA  126311020.0   \n",
       "3          TAWI-TAWI  157001000.0  PANGLIMA SUGALA (BALIMBING)  157001001.0   \n",
       "4          TAWI-TAWI  157001000.0  PANGLIMA SUGALA (BALIMBING)  157001002.0   \n",
       "\n",
       "           Bgy_Name RURBAN             ADM4_PCODE_NAME  \\\n",
       "0          Sawangan      R          118206010_Sawangan   \n",
       "1            Felisa      U            184501048_Felisa   \n",
       "2          Simsiman      R          126311020_Simsiman   \n",
       "3  Balimbing Proper      R  157001001_Balimbing Proper   \n",
       "4  Batu-batu (Pob.)      R  157001002_Batu-batu (Pob.)   \n",
       "\n",
       "   pixels_withbuilding_june2020  pixels_nobuilding_june2020  \\\n",
       "0                             3                          71   \n",
       "1                             2                         272   \n",
       "2                           116                          90   \n",
       "3                             0                          93   \n",
       "4                            11                         182   \n",
       "\n",
       "   percentage_completeness_june2020   ADM4_PCODE  pixels_withbuilding_may2021  \\\n",
       "0                          4.054054  118206010.0                            6   \n",
       "1                          0.729927  184501048.0                            3   \n",
       "2                         56.310680  126311020.0                          147   \n",
       "3                          0.000000  157001001.0                            5   \n",
       "4                          5.699482  157001002.0                           25   \n",
       "\n",
       "   pixels_nobuilding_may2021  percentage_completeness_may2021  \n",
       "0                         68                         8.108108  \n",
       "1                        271                         1.094891  \n",
       "2                         59                        71.359223  \n",
       "3                         88                         5.376344  \n",
       "4                        168                        12.953368  "
      ]
     },
     "execution_count": 23,
     "metadata": {},
     "output_type": "execute_result"
    }
   ],
   "source": [
    "brgy_output.head()"
   ]
  },
  {
   "cell_type": "markdown",
   "metadata": {},
   "source": [
    "## Get intersection of HRSL pixels and OSM buildings"
   ]
  },
  {
   "cell_type": "markdown",
   "metadata": {},
   "source": [
    "We use Facebook’s High Resolution Settlement Layer (HRSL) as a proxy ground truth for building footprints. We then measure data completeness by getting the “percentage completeness” of pixels which is computed using the total percentage of pixels within the intersection of the human settlement layer and the OSM building footprints.\n",
    "\n",
    "![](../assets/formula.png)\n",
    "\n",
    "Pixels that intersect OSM buildings are *mapped*.\n",
    "\n",
    "Pixels that do not intersect OSM buildings are *unmapped*."
   ]
  },
  {
   "cell_type": "markdown",
   "metadata": {},
   "source": [
    "### Philippines"
   ]
  },
  {
   "cell_type": "markdown",
   "metadata": {},
   "source": [
    "Uncomment the cells down below if you have not yet saved the `with_buildings` and `no_buildings` GPKG files."
   ]
  },
  {
   "cell_type": "markdown",
   "metadata": {},
   "source": [
    "#### Load HRSL dataset"
   ]
  },
  {
   "cell_type": "code",
   "execution_count": 24,
   "metadata": {},
   "outputs": [],
   "source": [
    "hrsl_phl_men = rasterio.open(\n",
    "    \"../download_data/phl_hrsl_men_jun_2019/PHL_men_2019-06-01.tif\"\n",
    ")\n",
    "\n",
    "hrsl_phl_women = rasterio.open(\n",
    "    \"../download_data/phl_hrsl_women_jun_2019/PHL_women_2019-06-01.tif\"\n",
    ")"
   ]
  },
  {
   "cell_type": "code",
   "execution_count": 25,
   "metadata": {},
   "outputs": [],
   "source": [
    "# hrsl_phl_crs = hrsl_phl_men.crs"
   ]
  },
  {
   "cell_type": "markdown",
   "metadata": {},
   "source": [
    "#### Add male and female population to get total population"
   ]
  },
  {
   "cell_type": "code",
   "execution_count": 26,
   "metadata": {},
   "outputs": [],
   "source": [
    "hrsl_phl_men_band1_mask = hrsl_phl_men.read_masks(1)"
   ]
  },
  {
   "cell_type": "code",
   "execution_count": 27,
   "metadata": {},
   "outputs": [],
   "source": [
    "hrsl_phl_women_band1_mask = hrsl_phl_women.read_masks(1)"
   ]
  },
  {
   "cell_type": "code",
   "execution_count": 28,
   "metadata": {},
   "outputs": [],
   "source": [
    "hrsl_phl_band1_mask = hrsl_phl_men_band1_mask + hrsl_phl_women_band1_mask"
   ]
  },
  {
   "cell_type": "markdown",
   "metadata": {},
   "source": [
    "#### Convert HRSL dataset from raster to vector"
   ]
  },
  {
   "cell_type": "code",
   "execution_count": 29,
   "metadata": {},
   "outputs": [],
   "source": [
    "hrsl_phl_rand = np.random.rand(\n",
    "    np.shape(hrsl_phl_band1_mask)[0], np.shape(hrsl_phl_band1_mask)[1]\n",
    ")\n",
    "hrsl_phl_rand = hrsl_phl_rand.astype(\"float32\")"
   ]
  },
  {
   "cell_type": "code",
   "execution_count": 30,
   "metadata": {},
   "outputs": [],
   "source": [
    "hrsl_phl_band1_poly = list(\n",
    "    rasterio.features.shapes(\n",
    "        hrsl_phl_rand, transform=hrsl_phl_men.transform, mask=hrsl_phl_band1_mask\n",
    "    )\n",
    ")"
   ]
  },
  {
   "cell_type": "code",
   "execution_count": 31,
   "metadata": {},
   "outputs": [],
   "source": [
    "hrsl_phl_geom = []\n",
    "for geom, value in hrsl_phl_band1_poly:\n",
    "    geom = shapely.geometry.shape(geom)\n",
    "    hrsl_phl_geom.append(geom)"
   ]
  },
  {
   "cell_type": "code",
   "execution_count": 32,
   "metadata": {},
   "outputs": [],
   "source": [
    "hrsl_phl_gdf = pd.DataFrame(hrsl_phl_geom)\n",
    "hrsl_phl_gdf = gpd.GeoDataFrame(hrsl_phl_gdf, geometry=hrsl_phl_gdf[0], crs=\"EPSG:4326\")\n",
    "hrsl_phl_gdf.drop(columns=[0], inplace=True)\n",
    "hrsl_phl_gdf.reset_index(level=0, inplace=True)"
   ]
  },
  {
   "cell_type": "code",
   "execution_count": 33,
   "metadata": {},
   "outputs": [],
   "source": [
    "## TODO: make mkdir command for ../data"
   ]
  },
  {
   "cell_type": "code",
   "execution_count": 34,
   "metadata": {},
   "outputs": [],
   "source": [
    "hrsl_phl_gdf.to_file('../data/hrsl_phl.gpkg', driver='GPKG')"
   ]
  },
  {
   "cell_type": "code",
   "execution_count": null,
   "metadata": {},
   "outputs": [],
   "source": []
  },
  {
   "cell_type": "markdown",
   "metadata": {},
   "source": [
    "#### Load OSM dataset"
   ]
  },
  {
   "cell_type": "code",
   "execution_count": 23,
   "metadata": {},
   "outputs": [],
   "source": [
    "# The 2021 zip file contains many shapefiles for points of interests, landuse, waterways, etc. \n",
    "# We are only interested in loading the building footprint data\n",
    "osm_phl = gpd.read_file(\n",
    "    \"../download_data/philippines-latest-free.shp/gis_osm_buildings_a_free_1.shp\",\n",
    "    driver=\"shp\",\n",
    ")"
   ]
  },
  {
   "cell_type": "code",
   "execution_count": 24,
   "metadata": {},
   "outputs": [
    {
     "data": {
      "text/html": [
       "<div>\n",
       "<style scoped>\n",
       "    .dataframe tbody tr th:only-of-type {\n",
       "        vertical-align: middle;\n",
       "    }\n",
       "\n",
       "    .dataframe tbody tr th {\n",
       "        vertical-align: top;\n",
       "    }\n",
       "\n",
       "    .dataframe thead th {\n",
       "        text-align: right;\n",
       "    }\n",
       "</style>\n",
       "<table border=\"1\" class=\"dataframe\">\n",
       "  <thead>\n",
       "    <tr style=\"text-align: right;\">\n",
       "      <th></th>\n",
       "      <th>osm_id</th>\n",
       "      <th>code</th>\n",
       "      <th>fclass</th>\n",
       "      <th>name</th>\n",
       "      <th>type</th>\n",
       "      <th>geometry</th>\n",
       "    </tr>\n",
       "  </thead>\n",
       "  <tbody>\n",
       "    <tr>\n",
       "      <th>0</th>\n",
       "      <td>4350725</td>\n",
       "      <td>1500</td>\n",
       "      <td>building</td>\n",
       "      <td>None</td>\n",
       "      <td>None</td>\n",
       "      <td>POLYGON ((120.99286 14.59423, 120.99300 14.594...</td>\n",
       "    </tr>\n",
       "    <tr>\n",
       "      <th>1</th>\n",
       "      <td>4392200</td>\n",
       "      <td>1500</td>\n",
       "      <td>building</td>\n",
       "      <td>None</td>\n",
       "      <td>None</td>\n",
       "      <td>POLYGON ((121.09786 14.63354, 121.09815 14.633...</td>\n",
       "    </tr>\n",
       "    <tr>\n",
       "      <th>2</th>\n",
       "      <td>4418475</td>\n",
       "      <td>1500</td>\n",
       "      <td>building</td>\n",
       "      <td>Greenbelt 3</td>\n",
       "      <td>None</td>\n",
       "      <td>POLYGON ((121.02102 14.55166, 121.02105 14.552...</td>\n",
       "    </tr>\n",
       "    <tr>\n",
       "      <th>3</th>\n",
       "      <td>4872564</td>\n",
       "      <td>1500</td>\n",
       "      <td>building</td>\n",
       "      <td>Manila Film Center</td>\n",
       "      <td>None</td>\n",
       "      <td>POLYGON ((120.98150 14.55072, 120.98236 14.551...</td>\n",
       "    </tr>\n",
       "    <tr>\n",
       "      <th>4</th>\n",
       "      <td>4913806</td>\n",
       "      <td>1500</td>\n",
       "      <td>building</td>\n",
       "      <td>None</td>\n",
       "      <td>None</td>\n",
       "      <td>POLYGON ((121.00756 14.45639, 121.00758 14.456...</td>\n",
       "    </tr>\n",
       "    <tr>\n",
       "      <th>...</th>\n",
       "      <td>...</td>\n",
       "      <td>...</td>\n",
       "      <td>...</td>\n",
       "      <td>...</td>\n",
       "      <td>...</td>\n",
       "      <td>...</td>\n",
       "    </tr>\n",
       "    <tr>\n",
       "      <th>9501609</th>\n",
       "      <td>955087886</td>\n",
       "      <td>1500</td>\n",
       "      <td>building</td>\n",
       "      <td>None</td>\n",
       "      <td>None</td>\n",
       "      <td>POLYGON ((124.59483 12.07848, 124.59488 12.078...</td>\n",
       "    </tr>\n",
       "    <tr>\n",
       "      <th>9501610</th>\n",
       "      <td>955087887</td>\n",
       "      <td>1500</td>\n",
       "      <td>building</td>\n",
       "      <td>None</td>\n",
       "      <td>None</td>\n",
       "      <td>POLYGON ((124.59450 12.07758, 124.59457 12.077...</td>\n",
       "    </tr>\n",
       "    <tr>\n",
       "      <th>9501611</th>\n",
       "      <td>955087888</td>\n",
       "      <td>1500</td>\n",
       "      <td>building</td>\n",
       "      <td>None</td>\n",
       "      <td>None</td>\n",
       "      <td>POLYGON ((124.59394 12.07685, 124.59402 12.076...</td>\n",
       "    </tr>\n",
       "    <tr>\n",
       "      <th>9501612</th>\n",
       "      <td>955087889</td>\n",
       "      <td>1500</td>\n",
       "      <td>building</td>\n",
       "      <td>None</td>\n",
       "      <td>None</td>\n",
       "      <td>POLYGON ((124.59396 12.07692, 124.59405 12.076...</td>\n",
       "    </tr>\n",
       "    <tr>\n",
       "      <th>9501613</th>\n",
       "      <td>955087890</td>\n",
       "      <td>1500</td>\n",
       "      <td>building</td>\n",
       "      <td>None</td>\n",
       "      <td>None</td>\n",
       "      <td>POLYGON ((124.59420 12.07620, 124.59426 12.076...</td>\n",
       "    </tr>\n",
       "  </tbody>\n",
       "</table>\n",
       "<p>9501614 rows × 6 columns</p>\n",
       "</div>"
      ],
      "text/plain": [
       "            osm_id  code    fclass                name  type  \\\n",
       "0          4350725  1500  building                None  None   \n",
       "1          4392200  1500  building                None  None   \n",
       "2          4418475  1500  building         Greenbelt 3  None   \n",
       "3          4872564  1500  building  Manila Film Center  None   \n",
       "4          4913806  1500  building                None  None   \n",
       "...            ...   ...       ...                 ...   ...   \n",
       "9501609  955087886  1500  building                None  None   \n",
       "9501610  955087887  1500  building                None  None   \n",
       "9501611  955087888  1500  building                None  None   \n",
       "9501612  955087889  1500  building                None  None   \n",
       "9501613  955087890  1500  building                None  None   \n",
       "\n",
       "                                                  geometry  \n",
       "0        POLYGON ((120.99286 14.59423, 120.99300 14.594...  \n",
       "1        POLYGON ((121.09786 14.63354, 121.09815 14.633...  \n",
       "2        POLYGON ((121.02102 14.55166, 121.02105 14.552...  \n",
       "3        POLYGON ((120.98150 14.55072, 120.98236 14.551...  \n",
       "4        POLYGON ((121.00756 14.45639, 121.00758 14.456...  \n",
       "...                                                    ...  \n",
       "9501609  POLYGON ((124.59483 12.07848, 124.59488 12.078...  \n",
       "9501610  POLYGON ((124.59450 12.07758, 124.59457 12.077...  \n",
       "9501611  POLYGON ((124.59394 12.07685, 124.59402 12.076...  \n",
       "9501612  POLYGON ((124.59396 12.07692, 124.59405 12.076...  \n",
       "9501613  POLYGON ((124.59420 12.07620, 124.59426 12.076...  \n",
       "\n",
       "[9501614 rows x 6 columns]"
      ]
     },
     "execution_count": 24,
     "metadata": {},
     "output_type": "execute_result"
    }
   ],
   "source": [
    "osm_phl"
   ]
  },
  {
   "cell_type": "code",
   "execution_count": 25,
   "metadata": {},
   "outputs": [],
   "source": [
    "osm_phl.to_file('../data/philippines-latest-free.gpkg',driver = 'GPKG')"
   ]
  },
  {
   "cell_type": "markdown",
   "metadata": {},
   "source": [
    "#### Get mapped pixels"
   ]
  },
  {
   "cell_type": "code",
   "execution_count": 5,
   "metadata": {},
   "outputs": [],
   "source": [
    "# Just run this so you don't have to rerun everything up top\n",
    "hrsl_phl_gdf = gpd.read_file('../data/hrsl_phl.gpkg', driver='GPKG')\n",
    "osm_phl = gpd.read_file('../data/philippines-latest-free.gpkg',driver = 'GPKG')"
   ]
  },
  {
   "cell_type": "code",
   "execution_count": 33,
   "metadata": {},
   "outputs": [],
   "source": [
    "phl_pixels_with_buildings = gpd.sjoin(\n",
    "    hrsl_phl_gdf, osm_phl, how=\"inner\", op=\"intersects\"\n",
    ")"
   ]
  },
  {
   "cell_type": "code",
   "execution_count": 34,
   "metadata": {},
   "outputs": [
    {
     "name": "stdout",
     "output_type": "stream",
     "text": [
      "<class 'geopandas.geodataframe.GeoDataFrame'>\n",
      "Int64Index: 7769975 entries, 1 to 5515916\n",
      "Data columns (total 8 columns):\n",
      " #   Column       Dtype   \n",
      "---  ------       -----   \n",
      " 0   index        int64   \n",
      " 1   geometry     geometry\n",
      " 2   index_right  int64   \n",
      " 3   osm_id       object  \n",
      " 4   code         int64   \n",
      " 5   fclass       object  \n",
      " 6   name         object  \n",
      " 7   type         object  \n",
      "dtypes: geometry(1), int64(3), object(4)\n",
      "memory usage: 533.5+ MB\n"
     ]
    }
   ],
   "source": [
    "# Uncomment .head() commands in final output\n",
    "phl_pixels_with_buildings.info()"
   ]
  },
  {
   "cell_type": "code",
   "execution_count": 35,
   "metadata": {},
   "outputs": [],
   "source": [
    "phl_pixels_with_buildings = phl_pixels_with_buildings.drop_duplicates(subset='index')"
   ]
  },
  {
   "cell_type": "code",
   "execution_count": 37,
   "metadata": {},
   "outputs": [],
   "source": [
    "phl_pixels_with_buildings.drop(columns=['index_right', 'osm_id', 'code', 'fclass', 'name', 'type'], inplace=True)"
   ]
  },
  {
   "cell_type": "code",
   "execution_count": 38,
   "metadata": {},
   "outputs": [
    {
     "name": "stdout",
     "output_type": "stream",
     "text": [
      "<class 'geopandas.geodataframe.GeoDataFrame'>\n",
      "Int64Index: 2155197 entries, 1 to 5515916\n",
      "Data columns (total 2 columns):\n",
      " #   Column    Dtype   \n",
      "---  ------    -----   \n",
      " 0   index     int64   \n",
      " 1   geometry  geometry\n",
      "dtypes: geometry(1), int64(1)\n",
      "memory usage: 49.3 MB\n"
     ]
    }
   ],
   "source": [
    "# Uncomment .head() commands in final output\n",
    "phl_pixels_with_buildings.info()"
   ]
  },
  {
   "cell_type": "code",
   "execution_count": 39,
   "metadata": {},
   "outputs": [],
   "source": [
    "phl_pixels_with_buildings.to_file('../data/phl_pixels_with_buildings.gpkg', driver='GPKG')"
   ]
  },
  {
   "cell_type": "markdown",
   "metadata": {},
   "source": [
    "#### Get unmapped pixels"
   ]
  },
  {
   "cell_type": "code",
   "execution_count": 4,
   "metadata": {},
   "outputs": [],
   "source": [
    "# Just run this so you don't have to rerun everything up top\n",
    "phl_pixels_with_buildings = gpd.read_file(\n",
    "    \"../data/phl_pixels_with_buildings.gpkg\", driver=\"GPKG\"\n",
    ")"
   ]
  },
  {
   "cell_type": "code",
   "execution_count": 6,
   "metadata": {},
   "outputs": [],
   "source": [
    "phl_pixels_no_buildings = pd.merge(hrsl_phl_gdf, phl_pixels_with_buildings, how='outer', indicator=True)"
   ]
  },
  {
   "cell_type": "code",
   "execution_count": 7,
   "metadata": {},
   "outputs": [],
   "source": [
    "phl_pixels_no_buildings = phl_pixels_no_buildings[phl_pixels_no_buildings['_merge'] == 'left_only']"
   ]
  },
  {
   "cell_type": "code",
   "execution_count": 8,
   "metadata": {},
   "outputs": [],
   "source": [
    "phl_pixels_no_buildings.drop(columns=['_merge'], inplace=True)"
   ]
  },
  {
   "cell_type": "code",
   "execution_count": 9,
   "metadata": {},
   "outputs": [],
   "source": [
    "phl_pixels_no_buildings.to_file('../data/phl_pixels_no_buildings.gpkg', driver='GPKG')"
   ]
  },
  {
   "cell_type": "markdown",
   "metadata": {},
   "source": [
    "#### Calculate percentage completeness"
   ]
  },
  {
   "cell_type": "markdown",
   "metadata": {},
   "source": [
    "In 2020, it was 31.39%. What is it now?"
   ]
  },
  {
   "cell_type": "code",
   "execution_count": 10,
   "metadata": {},
   "outputs": [
    {
     "data": {
      "text/plain": [
       "39.072296358124056"
      ]
     },
     "execution_count": 10,
     "metadata": {},
     "output_type": "execute_result"
    }
   ],
   "source": [
    "len(phl_pixels_with_buildings) / (len(phl_pixels_with_buildings) + len(phl_pixels_no_buildings)) * 100"
   ]
  },
  {
   "cell_type": "markdown",
   "metadata": {},
   "source": [
    "## Aggregate to different admin boundaries"
   ]
  },
  {
   "cell_type": "markdown",
   "metadata": {},
   "source": [
    "### Philippines"
   ]
  },
  {
   "cell_type": "markdown",
   "metadata": {},
   "source": [
    "#### Turn mapped pixels from a polygon layer to a point layer"
   ]
  },
  {
   "cell_type": "code",
   "execution_count": 5,
   "metadata": {},
   "outputs": [],
   "source": [
    "# Just run this so you don't have to rerun everything up top\n",
    "phl_pixels_with_buildings = gpd.read_file(\n",
    "    \"../data/phl_pixels_with_buildings.gpkg\", driver=\"GPKG\"\n",
    ")"
   ]
  },
  {
   "cell_type": "code",
   "execution_count": 3,
   "metadata": {},
   "outputs": [
    {
     "name": "stderr",
     "output_type": "stream",
     "text": [
      "/opt/conda/lib/python3.7/site-packages/ipykernel_launcher.py:1: UserWarning: Geometry is in a geographic CRS. Results from 'centroid' are likely incorrect. Use 'GeoSeries.to_crs()' to re-project geometries to a projected CRS before this operation.\n",
      "\n",
      "  \"\"\"Entry point for launching an IPython kernel.\n"
     ]
    }
   ],
   "source": [
    "# The centroid command will give a warning but we may safely ignore it\n",
    "phl_pixels_with_buildings[\"geometry\"] = phl_pixels_with_buildings[\"geometry\"].centroid"
   ]
  },
  {
   "cell_type": "markdown",
   "metadata": {},
   "source": [
    "#### Turn unmapped pixels from a polygon layer to a point layer"
   ]
  },
  {
   "cell_type": "code",
   "execution_count": 4,
   "metadata": {},
   "outputs": [],
   "source": [
    "# Just run this so you don't have to rerun everything up top\n",
    "phl_pixels_no_buildings = gpd.read_file(\n",
    "    \"../data/phl_pixels_no_buildings.gpkg\", driver=\"GPKG\"\n",
    ")"
   ]
  },
  {
   "cell_type": "code",
   "execution_count": 5,
   "metadata": {},
   "outputs": [
    {
     "name": "stderr",
     "output_type": "stream",
     "text": [
      "/opt/conda/lib/python3.7/site-packages/ipykernel_launcher.py:1: UserWarning: Geometry is in a geographic CRS. Results from 'centroid' are likely incorrect. Use 'GeoSeries.to_crs()' to re-project geometries to a projected CRS before this operation.\n",
      "\n",
      "  \"\"\"Entry point for launching an IPython kernel.\n"
     ]
    }
   ],
   "source": [
    "phl_pixels_no_buildings[\"geometry\"] = phl_pixels_no_buildings[\"geometry\"].centroid"
   ]
  },
  {
   "cell_type": "markdown",
   "metadata": {},
   "source": [
    "#### Load level 4 admin boundary"
   ]
  },
  {
   "cell_type": "code",
   "execution_count": 3,
   "metadata": {},
   "outputs": [],
   "source": [
    "phl_adm4 = gpd.read_file(\n",
    "    \"../download_data/phl_adm_2015_level4_barangay.gpkg/phl_adm_2015_level4_barangay.gpkg\"\n",
    ")"
   ]
  },
  {
   "cell_type": "code",
   "execution_count": 5,
   "metadata": {},
   "outputs": [
    {
     "data": {
      "text/plain": [
       "Reg_Code       18\n",
       "Reg_Name       18\n",
       "Pro_Code       87\n",
       "Pro_Name       87\n",
       "Mun_Code     1648\n",
       "Mun_Name     1445\n",
       "Bgy_Code    42037\n",
       "Bgy_Name    27092\n",
       "RURBAN          4\n",
       "geometry    42058\n",
       "dtype: int64"
      ]
     },
     "execution_count": 5,
     "metadata": {},
     "output_type": "execute_result"
    }
   ],
   "source": [
    "phl_adm4.nunique()"
   ]
  },
  {
   "cell_type": "markdown",
   "metadata": {},
   "source": [
    "#### Create index for level 4 admin boundary\n",
    "\n",
    "As shown by `nunique()` result, `Bgy_Code` and `geometry` are not 1:1, indicating that barangay codes cannot be used as a unique index. We work around this by adding a new column combining `Bgy_Code` and `Bgy_Name`"
   ]
  },
  {
   "cell_type": "code",
   "execution_count": 7,
   "metadata": {},
   "outputs": [],
   "source": [
    "# Create new column indicating both the pcode and name of the barangay\n",
    "phl_adm4[\"ADM4_PCODE_NAME\"] = phl_adm4[\"Bgy_Code\"] + \"_\" + phl_adm4[\"Bgy_Name\"]"
   ]
  },
  {
   "cell_type": "markdown",
   "metadata": {},
   "source": [
    "#### Find intersection of mapped pixels and level 4 admin boundary"
   ]
  },
  {
   "cell_type": "code",
   "execution_count": 8,
   "metadata": {},
   "outputs": [],
   "source": [
    "# Get all the pixels that are found within the level 4 admin boundaries\n",
    "phl_pixels_with_buildings_sjoin_adm4 = gpd.sjoin(\n",
    "    phl_pixels_with_buildings, phl_adm4, how=\"left\", op=\"within\"\n",
    ")"
   ]
  },
  {
   "cell_type": "code",
   "execution_count": 9,
   "metadata": {},
   "outputs": [],
   "source": [
    "# Remove all columns besides index, geometry, RURBAN, and ADM4_PCODE_NAME\n",
    "phl_pixels_with_buildings_sjoin_adm4.drop(\n",
    "    columns=[\n",
    "        \"index_right\",\n",
    "        \"Reg_Code\",\n",
    "        \"Reg_Name\",\n",
    "        \"Pro_Code\",\n",
    "        \"Pro_Name\",\n",
    "        \"Mun_Code\",\n",
    "        \"Mun_Name\",\n",
    "        \"Bgy_Code\",\n",
    "        \"Bgy_Name\",\n",
    "    ],\n",
    "    inplace=True,\n",
    ")"
   ]
  },
  {
   "cell_type": "code",
   "execution_count": 10,
   "metadata": {},
   "outputs": [],
   "source": [
    "# Save to file\n",
    "phl_pixels_with_buildings_sjoin_adm4.to_file(\n",
    "    \"../data/phl_pixels_with_buildings_sjoin_adm4.gpkg\", driver=\"GPKG\"\n",
    ")"
   ]
  },
  {
   "cell_type": "markdown",
   "metadata": {},
   "source": [
    "#### Find intersection of unmapped pixels and level 4 admin boundary"
   ]
  },
  {
   "cell_type": "code",
   "execution_count": 11,
   "metadata": {},
   "outputs": [],
   "source": [
    "phl_pixels_no_buildings_sjoin_adm4 = gpd.sjoin(\n",
    "    phl_pixels_no_buildings, phl_adm4, how=\"left\", op=\"within\"\n",
    ")"
   ]
  },
  {
   "cell_type": "code",
   "execution_count": 12,
   "metadata": {},
   "outputs": [],
   "source": [
    "phl_pixels_no_buildings_sjoin_adm4.drop(\n",
    "    columns=[\n",
    "        \"index_right\",\n",
    "        \"Reg_Code\",\n",
    "        \"Reg_Name\",\n",
    "        \"Pro_Code\",\n",
    "        \"Pro_Name\",\n",
    "        \"Mun_Code\",\n",
    "        \"Mun_Name\",\n",
    "        \"Bgy_Code\",\n",
    "        \"Bgy_Name\",\n",
    "    ],\n",
    "    inplace=True,\n",
    ")"
   ]
  },
  {
   "cell_type": "code",
   "execution_count": 27,
   "metadata": {},
   "outputs": [
    {
     "data": {
      "text/html": [
       "<div>\n",
       "<style scoped>\n",
       "    .dataframe tbody tr th:only-of-type {\n",
       "        vertical-align: middle;\n",
       "    }\n",
       "\n",
       "    .dataframe tbody tr th {\n",
       "        vertical-align: top;\n",
       "    }\n",
       "\n",
       "    .dataframe thead th {\n",
       "        text-align: right;\n",
       "    }\n",
       "</style>\n",
       "<table border=\"1\" class=\"dataframe\">\n",
       "  <thead>\n",
       "    <tr style=\"text-align: right;\">\n",
       "      <th></th>\n",
       "      <th>index</th>\n",
       "      <th>geometry</th>\n",
       "      <th>RURBAN</th>\n",
       "      <th>ADM4_PCODE_NAME</th>\n",
       "    </tr>\n",
       "  </thead>\n",
       "  <tbody>\n",
       "    <tr>\n",
       "      <th>0</th>\n",
       "      <td>1</td>\n",
       "      <td>POINT (121.84083 20.79833)</td>\n",
       "      <td>R</td>\n",
       "      <td>020902010_Santa Rosa (Kaynatuan)</td>\n",
       "    </tr>\n",
       "    <tr>\n",
       "      <th>1</th>\n",
       "      <td>3</td>\n",
       "      <td>POINT (121.84389 20.79083)</td>\n",
       "      <td>R</td>\n",
       "      <td>020902010_Santa Rosa (Kaynatuan)</td>\n",
       "    </tr>\n",
       "    <tr>\n",
       "      <th>2</th>\n",
       "      <td>4</td>\n",
       "      <td>POINT (121.84389 20.79056)</td>\n",
       "      <td>R</td>\n",
       "      <td>020902010_Santa Rosa (Kaynatuan)</td>\n",
       "    </tr>\n",
       "    <tr>\n",
       "      <th>3</th>\n",
       "      <td>5</td>\n",
       "      <td>POINT (121.84222 20.79028)</td>\n",
       "      <td>R</td>\n",
       "      <td>020902010_Santa Rosa (Kaynatuan)</td>\n",
       "    </tr>\n",
       "    <tr>\n",
       "      <th>4</th>\n",
       "      <td>8</td>\n",
       "      <td>POINT (121.84306 20.79000)</td>\n",
       "      <td>R</td>\n",
       "      <td>020902010_Santa Rosa (Kaynatuan)</td>\n",
       "    </tr>\n",
       "  </tbody>\n",
       "</table>\n",
       "</div>"
      ],
      "text/plain": [
       "   index                    geometry RURBAN                   ADM4_PCODE_NAME\n",
       "0      1  POINT (121.84083 20.79833)      R  020902010_Santa Rosa (Kaynatuan)\n",
       "1      3  POINT (121.84389 20.79083)      R  020902010_Santa Rosa (Kaynatuan)\n",
       "2      4  POINT (121.84389 20.79056)      R  020902010_Santa Rosa (Kaynatuan)\n",
       "3      5  POINT (121.84222 20.79028)      R  020902010_Santa Rosa (Kaynatuan)\n",
       "4      8  POINT (121.84306 20.79000)      R  020902010_Santa Rosa (Kaynatuan)"
      ]
     },
     "execution_count": 27,
     "metadata": {},
     "output_type": "execute_result"
    }
   ],
   "source": [
    "phl_pixels_with_buildings_sjoin_adm4.head()"
   ]
  },
  {
   "cell_type": "code",
   "execution_count": 13,
   "metadata": {},
   "outputs": [],
   "source": [
    "phl_pixels_no_buildings_sjoin_adm4.to_file(\n",
    "    \"../data/phl_pixels_no_buildings_sjoin_adm4.gpkg\", driver=\"GPKG\"\n",
    ")"
   ]
  },
  {
   "cell_type": "markdown",
   "metadata": {},
   "source": [
    "#### Load level 3 admin boundary"
   ]
  },
  {
   "cell_type": "code",
   "execution_count": 14,
   "metadata": {},
   "outputs": [],
   "source": [
    "phl_adm3 = gpd.read_file(\n",
    "    \"../download_data/phl_adm_all/phl_admbnda_adm3_psa_namria_20200529.shp\"\n",
    ")"
   ]
  },
  {
   "cell_type": "markdown",
   "metadata": {},
   "source": [
    "#### Find intersection of mapped pixels and level 3 admin boundary"
   ]
  },
  {
   "cell_type": "code",
   "execution_count": 15,
   "metadata": {},
   "outputs": [],
   "source": [
    "phl_pixels_with_buildings_sjoin_adm3 = gpd.sjoin(\n",
    "    phl_pixels_with_buildings, phl_adm3, how=\"left\", op=\"within\"\n",
    ")"
   ]
  },
  {
   "cell_type": "code",
   "execution_count": 16,
   "metadata": {},
   "outputs": [],
   "source": [
    "phl_pixels_with_buildings_sjoin_adm3.drop(\n",
    "    columns=[\n",
    "        \"index_right\",\n",
    "        \"Shape_Leng\",\n",
    "        \"Shape_Area\",\n",
    "        \"ADM3_EN\",\n",
    "        \"ADM3_REF\",\n",
    "        \"ADM3ALT1EN\",\n",
    "        \"ADM3ALT2EN\",\n",
    "        \"ADM2_EN\",\n",
    "        \"ADM2_PCODE\",\n",
    "        \"ADM1_EN\",\n",
    "        \"ADM1_PCODE\",\n",
    "        \"ADM0_EN\",\n",
    "        \"ADM0_PCODE\",\n",
    "        \"date\",\n",
    "        \"validOn\",\n",
    "        \"validTo\",\n",
    "    ],\n",
    "    inplace=True,\n",
    ")"
   ]
  },
  {
   "cell_type": "code",
   "execution_count": 17,
   "metadata": {},
   "outputs": [],
   "source": [
    "phl_pixels_with_buildings_sjoin_adm3.to_file(\n",
    "    \"../data/phl_pixels_with_buildings_sjoin_adm3.gpkg\", driver=\"GPKG\"\n",
    ")"
   ]
  },
  {
   "cell_type": "markdown",
   "metadata": {},
   "source": [
    "#### Find intersection of unmapped pixels and level 3 admin boundary"
   ]
  },
  {
   "cell_type": "code",
   "execution_count": 18,
   "metadata": {},
   "outputs": [],
   "source": [
    "phl_pixels_no_buildings_sjoin_adm3 = gpd.sjoin(\n",
    "    phl_pixels_no_buildings, phl_adm3, how=\"left\", op=\"within\"\n",
    ")"
   ]
  },
  {
   "cell_type": "code",
   "execution_count": 19,
   "metadata": {},
   "outputs": [],
   "source": [
    "phl_pixels_no_buildings_sjoin_adm3.drop(\n",
    "    columns=[\n",
    "        \"index_right\",\n",
    "        \"Shape_Leng\",\n",
    "        \"Shape_Area\",\n",
    "        \"ADM3_EN\",\n",
    "        \"ADM3_REF\",\n",
    "        \"ADM3ALT1EN\",\n",
    "        \"ADM3ALT2EN\",\n",
    "        \"ADM2_EN\",\n",
    "        \"ADM2_PCODE\",\n",
    "        \"ADM1_EN\",\n",
    "        \"ADM1_PCODE\",\n",
    "        \"ADM0_EN\",\n",
    "        \"ADM0_PCODE\",\n",
    "        \"date\",\n",
    "        \"validOn\",\n",
    "        \"validTo\",\n",
    "    ],\n",
    "    inplace=True,\n",
    ")"
   ]
  },
  {
   "cell_type": "code",
   "execution_count": 20,
   "metadata": {},
   "outputs": [],
   "source": [
    "phl_pixels_no_buildings_sjoin_adm3.to_file(\n",
    "    \"../data/phl_pixels_no_buildings_sjoin_adm3.gpkg\", driver=\"GPKG\"\n",
    ")"
   ]
  },
  {
   "cell_type": "markdown",
   "metadata": {},
   "source": [
    "#### Load level 2 admin boundary"
   ]
  },
  {
   "cell_type": "code",
   "execution_count": 21,
   "metadata": {},
   "outputs": [],
   "source": [
    "phl_adm2 = gpd.read_file(\n",
    "    \"../download_data/phl_adm_all/phl_admbnda_adm2_psa_namria_20200529.shp\"\n",
    ")"
   ]
  },
  {
   "cell_type": "markdown",
   "metadata": {},
   "source": [
    "#### Find intersection of mapped pixels and level 2 admin boundary"
   ]
  },
  {
   "cell_type": "code",
   "execution_count": 29,
   "metadata": {},
   "outputs": [],
   "source": [
    "phl_pixels_with_buildings_sjoin_adm2 = gpd.sjoin(\n",
    "    phl_pixels_with_buildings, phl_adm2, how=\"left\", op=\"within\"\n",
    ")"
   ]
  },
  {
   "cell_type": "code",
   "execution_count": 31,
   "metadata": {},
   "outputs": [],
   "source": [
    "phl_pixels_with_buildings_sjoin_adm2.drop(\n",
    "    columns=[\n",
    "        \"index_right\",\n",
    "        \"Shape_Leng\",\n",
    "        \"Shape_Area\",\n",
    "        \"ADM2_EN\",\n",
    "        \"ADM2_REF\",\n",
    "        \"ADM2ALT1EN\",\n",
    "        \"ADM2ALT2EN\",\n",
    "        \"ADM1_EN\",\n",
    "        \"ADM1_PCODE\",\n",
    "        \"ADM0_EN\",\n",
    "        \"ADM0_PCODE\",\n",
    "        \"date\",\n",
    "        \"validOn\",\n",
    "        \"validTo\",\n",
    "    ],\n",
    "    inplace=True,\n",
    ")"
   ]
  },
  {
   "cell_type": "code",
   "execution_count": 34,
   "metadata": {},
   "outputs": [],
   "source": [
    "phl_pixels_with_buildings_sjoin_adm2.to_file(\n",
    "    \"../data/phl_pixels_with_buildings_sjoin_adm2.gpkg\", driver=\"GPKG\"\n",
    ")"
   ]
  },
  {
   "cell_type": "markdown",
   "metadata": {},
   "source": [
    "#### Find intersection of unmapped pixels and level 2 admin boundary"
   ]
  },
  {
   "cell_type": "code",
   "execution_count": 35,
   "metadata": {},
   "outputs": [],
   "source": [
    "phl_pixels_no_buildings_sjoin_adm2 = gpd.sjoin(\n",
    "    phl_pixels_no_buildings, phl_adm2, how=\"left\", op=\"within\"\n",
    ")"
   ]
  },
  {
   "cell_type": "code",
   "execution_count": 36,
   "metadata": {},
   "outputs": [],
   "source": [
    "phl_pixels_no_buildings_sjoin_adm2.drop(\n",
    "    columns=[\n",
    "        \"index_right\",\n",
    "        \"Shape_Leng\",\n",
    "        \"Shape_Area\",\n",
    "        \"ADM2_EN\",\n",
    "        \"ADM2_REF\",\n",
    "        \"ADM2ALT1EN\",\n",
    "        \"ADM2ALT2EN\",\n",
    "        \"ADM1_EN\",\n",
    "        \"ADM1_PCODE\",\n",
    "        \"ADM0_EN\",\n",
    "        \"ADM0_PCODE\",\n",
    "        \"date\",\n",
    "        \"validOn\",\n",
    "        \"validTo\",\n",
    "    ],\n",
    "    inplace=True,\n",
    ")"
   ]
  },
  {
   "cell_type": "code",
   "execution_count": 38,
   "metadata": {},
   "outputs": [],
   "source": [
    "phl_pixels_no_buildings_sjoin_adm2.to_file(\n",
    "    \"../data/phl_pixels_no_buildings_sjoin_adm2.gpkg\", driver=\"GPKG\"\n",
    ")"
   ]
  },
  {
   "cell_type": "markdown",
   "metadata": {},
   "source": [
    "#### Merge and concatenate dataframes"
   ]
  },
  {
   "cell_type": "markdown",
   "metadata": {},
   "source": [
    "Uncomment the cell below if you have not yet loaded these variables."
   ]
  },
  {
   "cell_type": "code",
   "execution_count": 16,
   "metadata": {},
   "outputs": [],
   "source": [
    "# # You can run this so you don't have to rerun everything up top\n",
    "# phl_pixels_with_buildings_sjoin_adm4 = gpd.read_file(\n",
    "#     \"../data/phl_pixels_with_buildings_sjoin_adm4.gpkg\", driver=\"GPKG\"\n",
    "# )\n",
    "# phl_pixels_with_buildings_sjoin_adm3 = gpd.read_file(\n",
    "#     \"../data/phl_pixels_with_buildings_sjoin_adm3.gpkg\", driver=\"GPKG\"\n",
    "# )\n",
    "# phl_pixels_with_buildings_sjoin_adm2 = gpd.read_file(\n",
    "#     \"../data/phl_pixels_with_buildings_sjoin_adm2.gpkg\", driver=\"GPKG\"\n",
    "# )\n",
    "# phl_pixels_no_buildings_sjoin_adm4 = gpd.read_file(\n",
    "#     \"../data/phl_pixels_no_buildings_sjoin_adm4.gpkg\", driver=\"GPKG\"\n",
    "# )\n",
    "# phl_pixels_no_buildings_sjoin_adm3 = gpd.read_file(\n",
    "#     \"../data/phl_pixels_no_buildings_sjoin_adm3.gpkg\", driver=\"GPKG\"\n",
    "# )\n",
    "# phl_pixels_no_buildings_sjoin_adm2 = gpd.read_file(\n",
    "#     \"../data/phl_pixels_no_buildings_sjoin_adm2.gpkg\", driver=\"GPKG\"\n",
    "# )"
   ]
  },
  {
   "cell_type": "code",
   "execution_count": 49,
   "metadata": {},
   "outputs": [
    {
     "data": {
      "text/html": [
       "<div>\n",
       "<style scoped>\n",
       "    .dataframe tbody tr th:only-of-type {\n",
       "        vertical-align: middle;\n",
       "    }\n",
       "\n",
       "    .dataframe tbody tr th {\n",
       "        vertical-align: top;\n",
       "    }\n",
       "\n",
       "    .dataframe thead th {\n",
       "        text-align: right;\n",
       "    }\n",
       "</style>\n",
       "<table border=\"1\" class=\"dataframe\">\n",
       "  <thead>\n",
       "    <tr style=\"text-align: right;\">\n",
       "      <th></th>\n",
       "      <th>index</th>\n",
       "      <th>ADM2_PCODE</th>\n",
       "      <th>geometry</th>\n",
       "    </tr>\n",
       "  </thead>\n",
       "  <tbody>\n",
       "    <tr>\n",
       "      <th>0</th>\n",
       "      <td>1</td>\n",
       "      <td>PH020900000</td>\n",
       "      <td>POINT (121.84083 20.79833)</td>\n",
       "    </tr>\n",
       "    <tr>\n",
       "      <th>1</th>\n",
       "      <td>3</td>\n",
       "      <td>PH020900000</td>\n",
       "      <td>POINT (121.84389 20.79083)</td>\n",
       "    </tr>\n",
       "    <tr>\n",
       "      <th>2</th>\n",
       "      <td>4</td>\n",
       "      <td>PH020900000</td>\n",
       "      <td>POINT (121.84389 20.79056)</td>\n",
       "    </tr>\n",
       "    <tr>\n",
       "      <th>3</th>\n",
       "      <td>5</td>\n",
       "      <td>PH020900000</td>\n",
       "      <td>POINT (121.84222 20.79028)</td>\n",
       "    </tr>\n",
       "    <tr>\n",
       "      <th>4</th>\n",
       "      <td>8</td>\n",
       "      <td>PH020900000</td>\n",
       "      <td>POINT (121.84306 20.79000)</td>\n",
       "    </tr>\n",
       "    <tr>\n",
       "      <th>...</th>\n",
       "      <td>...</td>\n",
       "      <td>...</td>\n",
       "      <td>...</td>\n",
       "    </tr>\n",
       "    <tr>\n",
       "      <th>2155192</th>\n",
       "      <td>5515845</td>\n",
       "      <td>PH157000000</td>\n",
       "      <td>POINT (119.47556 4.66139)</td>\n",
       "    </tr>\n",
       "    <tr>\n",
       "      <th>2155193</th>\n",
       "      <td>5515841</td>\n",
       "      <td>PH157000000</td>\n",
       "      <td>POINT (119.39306 4.66139)</td>\n",
       "    </tr>\n",
       "    <tr>\n",
       "      <th>2155194</th>\n",
       "      <td>5515843</td>\n",
       "      <td>PH157000000</td>\n",
       "      <td>POINT (119.39472 4.66139)</td>\n",
       "    </tr>\n",
       "    <tr>\n",
       "      <th>2155195</th>\n",
       "      <td>5515846</td>\n",
       "      <td>PH157000000</td>\n",
       "      <td>POINT (119.47556 4.66111)</td>\n",
       "    </tr>\n",
       "    <tr>\n",
       "      <th>2155196</th>\n",
       "      <td>5515916</td>\n",
       "      <td>PH157000000</td>\n",
       "      <td>POINT (119.46778 4.58833)</td>\n",
       "    </tr>\n",
       "  </tbody>\n",
       "</table>\n",
       "<p>2155197 rows × 3 columns</p>\n",
       "</div>"
      ],
      "text/plain": [
       "           index   ADM2_PCODE                    geometry\n",
       "0              1  PH020900000  POINT (121.84083 20.79833)\n",
       "1              3  PH020900000  POINT (121.84389 20.79083)\n",
       "2              4  PH020900000  POINT (121.84389 20.79056)\n",
       "3              5  PH020900000  POINT (121.84222 20.79028)\n",
       "4              8  PH020900000  POINT (121.84306 20.79000)\n",
       "...          ...          ...                         ...\n",
       "2155192  5515845  PH157000000   POINT (119.47556 4.66139)\n",
       "2155193  5515841  PH157000000   POINT (119.39306 4.66139)\n",
       "2155194  5515843  PH157000000   POINT (119.39472 4.66139)\n",
       "2155195  5515846  PH157000000   POINT (119.47556 4.66111)\n",
       "2155196  5515916  PH157000000   POINT (119.46778 4.58833)\n",
       "\n",
       "[2155197 rows x 3 columns]"
      ]
     },
     "execution_count": 49,
     "metadata": {},
     "output_type": "execute_result"
    }
   ],
   "source": [
    "phl_pixels_with_buildings_sjoin_adm2.head()"
   ]
  },
  {
   "cell_type": "code",
   "execution_count": 50,
   "metadata": {},
   "outputs": [
    {
     "data": {
      "text/html": [
       "<div>\n",
       "<style scoped>\n",
       "    .dataframe tbody tr th:only-of-type {\n",
       "        vertical-align: middle;\n",
       "    }\n",
       "\n",
       "    .dataframe tbody tr th {\n",
       "        vertical-align: top;\n",
       "    }\n",
       "\n",
       "    .dataframe thead th {\n",
       "        text-align: right;\n",
       "    }\n",
       "</style>\n",
       "<table border=\"1\" class=\"dataframe\">\n",
       "  <thead>\n",
       "    <tr style=\"text-align: right;\">\n",
       "      <th></th>\n",
       "      <th>index</th>\n",
       "      <th>ADM3_PCODE</th>\n",
       "      <th>geometry</th>\n",
       "    </tr>\n",
       "  </thead>\n",
       "  <tbody>\n",
       "    <tr>\n",
       "      <th>0</th>\n",
       "      <td>1</td>\n",
       "      <td>PH020902000</td>\n",
       "      <td>POINT (121.84083 20.79833)</td>\n",
       "    </tr>\n",
       "    <tr>\n",
       "      <th>1</th>\n",
       "      <td>3</td>\n",
       "      <td>PH020902000</td>\n",
       "      <td>POINT (121.84389 20.79083)</td>\n",
       "    </tr>\n",
       "    <tr>\n",
       "      <th>2</th>\n",
       "      <td>4</td>\n",
       "      <td>PH020902000</td>\n",
       "      <td>POINT (121.84389 20.79056)</td>\n",
       "    </tr>\n",
       "    <tr>\n",
       "      <th>3</th>\n",
       "      <td>5</td>\n",
       "      <td>PH020902000</td>\n",
       "      <td>POINT (121.84222 20.79028)</td>\n",
       "    </tr>\n",
       "    <tr>\n",
       "      <th>4</th>\n",
       "      <td>8</td>\n",
       "      <td>PH020902000</td>\n",
       "      <td>POINT (121.84306 20.79000)</td>\n",
       "    </tr>\n",
       "  </tbody>\n",
       "</table>\n",
       "</div>"
      ],
      "text/plain": [
       "   index   ADM3_PCODE                    geometry\n",
       "0      1  PH020902000  POINT (121.84083 20.79833)\n",
       "1      3  PH020902000  POINT (121.84389 20.79083)\n",
       "2      4  PH020902000  POINT (121.84389 20.79056)\n",
       "3      5  PH020902000  POINT (121.84222 20.79028)\n",
       "4      8  PH020902000  POINT (121.84306 20.79000)"
      ]
     },
     "execution_count": 50,
     "metadata": {},
     "output_type": "execute_result"
    }
   ],
   "source": [
    "phl_pixels_with_buildings_sjoin_adm3.head()"
   ]
  },
  {
   "cell_type": "code",
   "execution_count": 51,
   "metadata": {},
   "outputs": [
    {
     "data": {
      "text/html": [
       "<div>\n",
       "<style scoped>\n",
       "    .dataframe tbody tr th:only-of-type {\n",
       "        vertical-align: middle;\n",
       "    }\n",
       "\n",
       "    .dataframe tbody tr th {\n",
       "        vertical-align: top;\n",
       "    }\n",
       "\n",
       "    .dataframe thead th {\n",
       "        text-align: right;\n",
       "    }\n",
       "</style>\n",
       "<table border=\"1\" class=\"dataframe\">\n",
       "  <thead>\n",
       "    <tr style=\"text-align: right;\">\n",
       "      <th></th>\n",
       "      <th>index</th>\n",
       "      <th>RURBAN</th>\n",
       "      <th>ADM4_PCODE_NAME</th>\n",
       "      <th>geometry</th>\n",
       "    </tr>\n",
       "  </thead>\n",
       "  <tbody>\n",
       "    <tr>\n",
       "      <th>0</th>\n",
       "      <td>1</td>\n",
       "      <td>R</td>\n",
       "      <td>020902010_Santa Rosa (Kaynatuan)</td>\n",
       "      <td>POINT (121.84083 20.79833)</td>\n",
       "    </tr>\n",
       "    <tr>\n",
       "      <th>1</th>\n",
       "      <td>3</td>\n",
       "      <td>R</td>\n",
       "      <td>020902010_Santa Rosa (Kaynatuan)</td>\n",
       "      <td>POINT (121.84389 20.79083)</td>\n",
       "    </tr>\n",
       "    <tr>\n",
       "      <th>2</th>\n",
       "      <td>4</td>\n",
       "      <td>R</td>\n",
       "      <td>020902010_Santa Rosa (Kaynatuan)</td>\n",
       "      <td>POINT (121.84389 20.79056)</td>\n",
       "    </tr>\n",
       "    <tr>\n",
       "      <th>3</th>\n",
       "      <td>5</td>\n",
       "      <td>R</td>\n",
       "      <td>020902010_Santa Rosa (Kaynatuan)</td>\n",
       "      <td>POINT (121.84222 20.79028)</td>\n",
       "    </tr>\n",
       "    <tr>\n",
       "      <th>4</th>\n",
       "      <td>8</td>\n",
       "      <td>R</td>\n",
       "      <td>020902010_Santa Rosa (Kaynatuan)</td>\n",
       "      <td>POINT (121.84306 20.79000)</td>\n",
       "    </tr>\n",
       "  </tbody>\n",
       "</table>\n",
       "</div>"
      ],
      "text/plain": [
       "   index RURBAN                   ADM4_PCODE_NAME                    geometry\n",
       "0      1      R  020902010_Santa Rosa (Kaynatuan)  POINT (121.84083 20.79833)\n",
       "1      3      R  020902010_Santa Rosa (Kaynatuan)  POINT (121.84389 20.79083)\n",
       "2      4      R  020902010_Santa Rosa (Kaynatuan)  POINT (121.84389 20.79056)\n",
       "3      5      R  020902010_Santa Rosa (Kaynatuan)  POINT (121.84222 20.79028)\n",
       "4      8      R  020902010_Santa Rosa (Kaynatuan)  POINT (121.84306 20.79000)"
      ]
     },
     "execution_count": 51,
     "metadata": {},
     "output_type": "execute_result"
    }
   ],
   "source": [
    "phl_pixels_with_buildings_sjoin_adm4.head()"
   ]
  },
  {
   "cell_type": "markdown",
   "metadata": {},
   "source": [
    "Merging and concatenating for level 2/3/4 admin boundaries."
   ]
  },
  {
   "cell_type": "code",
   "execution_count": 21,
   "metadata": {},
   "outputs": [],
   "source": [
    "# Merging adm3 boundaries with adm4\n",
    "phl_pixels_with_buildings_sjoin = phl_pixels_with_buildings_sjoin_adm3.merge(\n",
    "    phl_pixels_with_buildings_sjoin_adm4[[\"index\", \"RURBAN\", \"ADM4_PCODE_NAME\"]],\n",
    "    how=\"left\",\n",
    "    left_on=\"index\",\n",
    "    right_on=\"index\",\n",
    ")\n",
    "\n",
    "# Additionally merging adm2 to adm3 and adm4\n",
    "phl_pixels_with_buildings_sjoin = phl_pixels_with_buildings_sjoin.merge(\n",
    "    phl_pixels_with_buildings_sjoin_adm2[[\"index\", \"ADM2_PCODE\"]],\n",
    "    how=\"left\",\n",
    "    left_on=\"index\",\n",
    "    right_on=\"index\",\n",
    ")"
   ]
  },
  {
   "cell_type": "code",
   "execution_count": 26,
   "metadata": {},
   "outputs": [],
   "source": [
    "# Drop nan values in the dataframe\n",
    "phl_pixels_with_buildings_sjoin.dropna(\n",
    "    subset=[\"ADM3_PCODE\", \"RURBAN\", \"ADM4_PCODE_NAME\",\"ADM2_PCODE\"], inplace=True\n",
    ")"
   ]
  },
  {
   "cell_type": "code",
   "execution_count": 28,
   "metadata": {},
   "outputs": [],
   "source": [
    "# Adding a column to indicate that these pixels are mapped\n",
    "phl_pixels_with_buildings_sjoin[\"status\"] = \"mapped\""
   ]
  },
  {
   "cell_type": "code",
   "execution_count": 31,
   "metadata": {},
   "outputs": [],
   "source": [
    "# Merging adm3 boundaries with adm4\n",
    "phl_pixels_no_buildings_sjoin = phl_pixels_no_buildings_sjoin_adm3.merge(\n",
    "    phl_pixels_no_buildings_sjoin_adm4[[\"index\", \"RURBAN\", \"ADM4_PCODE_NAME\"]],\n",
    "    how=\"left\",\n",
    "    left_on=\"index\",\n",
    "    right_on=\"index\",\n",
    ")\n",
    "\n",
    "# Additionally merging adm2 to adm3 and adm4\n",
    "phl_pixels_no_buildings_sjoin = phl_pixels_no_buildings_sjoin.merge(\n",
    "    phl_pixels_no_buildings_sjoin_adm2[[\"index\", \"ADM2_PCODE\"]],\n",
    "    how=\"left\",\n",
    "    left_on=\"index\",\n",
    "    right_on=\"index\",\n",
    ")"
   ]
  },
  {
   "cell_type": "code",
   "execution_count": 32,
   "metadata": {},
   "outputs": [],
   "source": [
    "# Drop nan values in the dataframe\n",
    "phl_pixels_no_buildings_sjoin.dropna(\n",
    "    subset=[\"ADM3_PCODE\", \"RURBAN\", \"ADM4_PCODE_NAME\", \"ADM2_PCODE\"], inplace=True\n",
    ")"
   ]
  },
  {
   "cell_type": "code",
   "execution_count": 33,
   "metadata": {},
   "outputs": [],
   "source": [
    "# Adding a column to indicate that these pixels are unmapped\n",
    "phl_pixels_no_buildings_sjoin[\"status\"] = \"unmapped\""
   ]
  },
  {
   "cell_type": "code",
   "execution_count": 44,
   "metadata": {},
   "outputs": [],
   "source": [
    "# Join the mapped and unppaed pixels together\n",
    "phl_pixels_all = pd.concat(\n",
    "    [phl_pixels_with_buildings_sjoin, phl_pixels_no_buildings_sjoin]\n",
    ")"
   ]
  },
  {
   "cell_type": "markdown",
   "metadata": {},
   "source": [
    "The final output of this notebook should look like this!"
   ]
  },
  {
   "cell_type": "code",
   "execution_count": 45,
   "metadata": {},
   "outputs": [
    {
     "data": {
      "text/html": [
       "<div>\n",
       "<style scoped>\n",
       "    .dataframe tbody tr th:only-of-type {\n",
       "        vertical-align: middle;\n",
       "    }\n",
       "\n",
       "    .dataframe tbody tr th {\n",
       "        vertical-align: top;\n",
       "    }\n",
       "\n",
       "    .dataframe thead th {\n",
       "        text-align: right;\n",
       "    }\n",
       "</style>\n",
       "<table border=\"1\" class=\"dataframe\">\n",
       "  <thead>\n",
       "    <tr style=\"text-align: right;\">\n",
       "      <th></th>\n",
       "      <th>index</th>\n",
       "      <th>ADM3_PCODE</th>\n",
       "      <th>geometry</th>\n",
       "      <th>RURBAN</th>\n",
       "      <th>ADM4_PCODE_NAME</th>\n",
       "      <th>ADM2_PCODE</th>\n",
       "      <th>status</th>\n",
       "    </tr>\n",
       "  </thead>\n",
       "  <tbody>\n",
       "    <tr>\n",
       "      <th>0</th>\n",
       "      <td>1</td>\n",
       "      <td>PH020902000</td>\n",
       "      <td>POINT (121.84083 20.79833)</td>\n",
       "      <td>R</td>\n",
       "      <td>020902010_Santa Rosa (Kaynatuan)</td>\n",
       "      <td>PH020900000</td>\n",
       "      <td>mapped</td>\n",
       "    </tr>\n",
       "    <tr>\n",
       "      <th>1</th>\n",
       "      <td>3</td>\n",
       "      <td>PH020902000</td>\n",
       "      <td>POINT (121.84389 20.79083)</td>\n",
       "      <td>R</td>\n",
       "      <td>020902010_Santa Rosa (Kaynatuan)</td>\n",
       "      <td>PH020900000</td>\n",
       "      <td>mapped</td>\n",
       "    </tr>\n",
       "    <tr>\n",
       "      <th>2</th>\n",
       "      <td>4</td>\n",
       "      <td>PH020902000</td>\n",
       "      <td>POINT (121.84389 20.79056)</td>\n",
       "      <td>R</td>\n",
       "      <td>020902010_Santa Rosa (Kaynatuan)</td>\n",
       "      <td>PH020900000</td>\n",
       "      <td>mapped</td>\n",
       "    </tr>\n",
       "    <tr>\n",
       "      <th>3</th>\n",
       "      <td>5</td>\n",
       "      <td>PH020902000</td>\n",
       "      <td>POINT (121.84222 20.79028)</td>\n",
       "      <td>R</td>\n",
       "      <td>020902010_Santa Rosa (Kaynatuan)</td>\n",
       "      <td>PH020900000</td>\n",
       "      <td>mapped</td>\n",
       "    </tr>\n",
       "    <tr>\n",
       "      <th>4</th>\n",
       "      <td>8</td>\n",
       "      <td>PH020902000</td>\n",
       "      <td>POINT (121.84306 20.79000)</td>\n",
       "      <td>R</td>\n",
       "      <td>020902010_Santa Rosa (Kaynatuan)</td>\n",
       "      <td>PH020900000</td>\n",
       "      <td>mapped</td>\n",
       "    </tr>\n",
       "  </tbody>\n",
       "</table>\n",
       "</div>"
      ],
      "text/plain": [
       "   index   ADM3_PCODE                    geometry RURBAN  \\\n",
       "0      1  PH020902000  POINT (121.84083 20.79833)      R   \n",
       "1      3  PH020902000  POINT (121.84389 20.79083)      R   \n",
       "2      4  PH020902000  POINT (121.84389 20.79056)      R   \n",
       "3      5  PH020902000  POINT (121.84222 20.79028)      R   \n",
       "4      8  PH020902000  POINT (121.84306 20.79000)      R   \n",
       "\n",
       "                    ADM4_PCODE_NAME   ADM2_PCODE  status  \n",
       "0  020902010_Santa Rosa (Kaynatuan)  PH020900000  mapped  \n",
       "1  020902010_Santa Rosa (Kaynatuan)  PH020900000  mapped  \n",
       "2  020902010_Santa Rosa (Kaynatuan)  PH020900000  mapped  \n",
       "3  020902010_Santa Rosa (Kaynatuan)  PH020900000  mapped  \n",
       "4  020902010_Santa Rosa (Kaynatuan)  PH020900000  mapped  "
      ]
     },
     "execution_count": 45,
     "metadata": {},
     "output_type": "execute_result"
    }
   ],
   "source": [
    "phl_pixels_all.head()"
   ]
  },
  {
   "cell_type": "code",
   "execution_count": 46,
   "metadata": {},
   "outputs": [],
   "source": [
    "# Save all columns (including geometry) to gkpg\n",
    "phl_pixels_all.to_file(\"../data/phl_pixels_all.gpkg\", driver=\"GPKG\")"
   ]
  },
  {
   "cell_type": "code",
   "execution_count": 47,
   "metadata": {},
   "outputs": [],
   "source": [
    "# Drop geometry column\n",
    "phl_pixels_all.drop(columns=[\"geometry\"], inplace=True)"
   ]
  },
  {
   "cell_type": "code",
   "execution_count": 48,
   "metadata": {},
   "outputs": [],
   "source": [
    "# Save remaining columns as csv \n",
    "phl_pixels_all.to_csv(\"../data/phl_pixels_all.csv\", index=False)"
   ]
  },
  {
   "cell_type": "markdown",
   "metadata": {},
   "source": [
    "## Madagascar\n",
    "\n",
    "The following code follows the same steps for Madagascar, and saves the output to `mdg_pixels_all.to_csv`"
   ]
  },
  {
   "cell_type": "markdown",
   "metadata": {},
   "source": [
    "### HRSL download"
   ]
  },
  {
   "cell_type": "markdown",
   "metadata": {},
   "source": [
    "Uncomment the cells below if you have not yet downloaded the HRSL datasets."
   ]
  },
  {
   "cell_type": "code",
   "execution_count": 8,
   "metadata": {},
   "outputs": [],
   "source": [
    "hrsl_mdg_url = \"https://data.humdata.org/dataset/9e7ff424-7b9c-42cc-b869-5756fcad0956/resource/1fafdd04-8e0b-4c2a-b4dc-8f3ff39e3015/download/population_mdg_2018-10-01.zip\""
   ]
  },
  {
   "cell_type": "code",
   "execution_count": 15,
   "metadata": {},
   "outputs": [
    {
     "data": {
      "text/plain": [
       "'../download_data/mdg_hrsl_oct_2018.zip'"
      ]
     },
     "execution_count": 15,
     "metadata": {},
     "output_type": "execute_result"
    }
   ],
   "source": [
    "wget.download(hrsl_mdg_url, '../download_data/mdg_hrsl_oct_2018.zip')"
   ]
  },
  {
   "cell_type": "markdown",
   "metadata": {},
   "source": [
    "### Admin boundary download"
   ]
  },
  {
   "cell_type": "markdown",
   "metadata": {},
   "source": [
    "Uncomment the cells below if you have not yet downloaded the admin boundary datasets."
   ]
  },
  {
   "cell_type": "code",
   "execution_count": 40,
   "metadata": {},
   "outputs": [],
   "source": [
    "adm_mdg_url = \"https://data.humdata.org/dataset/26fa506b-0727-4d9d-a590-d2abee21ee22/resource/ed94d52e-349e-41be-80cb-62dc0435bd34/download/mdg_adm_bngrc_ocha_20181031_shp.zip\""
   ]
  },
  {
   "cell_type": "code",
   "execution_count": 43,
   "metadata": {},
   "outputs": [
    {
     "data": {
      "text/plain": [
       "'../download_data/mdg_adm_all.zip'"
      ]
     },
     "execution_count": 43,
     "metadata": {},
     "output_type": "execute_result"
    }
   ],
   "source": [
    "wget.download(adm_mdg_url, '../download_data/mdg_adm_all.zip')"
   ]
  },
  {
   "cell_type": "markdown",
   "metadata": {},
   "source": [
    "### OSM download"
   ]
  },
  {
   "cell_type": "markdown",
   "metadata": {},
   "source": [
    "Uncomment the cells below if you have not yet downloaded the OSM datasets."
   ]
  },
  {
   "cell_type": "code",
   "execution_count": 65,
   "metadata": {},
   "outputs": [],
   "source": [
    "##### 2020 OSM Dataset\n",
    "osm_mdg_url = \"https://storage.googleapis.com/osm-completeness-thinkingmachines/mdg_osm_jan_2020_buildings.gpkg.zip\""
   ]
  },
  {
   "cell_type": "code",
   "execution_count": 66,
   "metadata": {},
   "outputs": [
    {
     "data": {
      "text/plain": [
       "'../download_data/mdg_osm_jan_2020_buildings.gpkg.zip'"
      ]
     },
     "execution_count": 66,
     "metadata": {},
     "output_type": "execute_result"
    }
   ],
   "source": [
    "wget.download(osm_mdg_url, '../download_data/mdg_osm_jan_2020_buildings.gpkg.zip')"
   ]
  },
  {
   "cell_type": "code",
   "execution_count": 10,
   "metadata": {},
   "outputs": [],
   "source": [
    "##### 2021 OSM Dataset\n",
    "# osm_mdg_url = \"https://download.geofabrik.de/africa/madagascar-latest-free.shp.zip\""
   ]
  },
  {
   "cell_type": "code",
   "execution_count": 11,
   "metadata": {},
   "outputs": [
    {
     "data": {
      "text/plain": [
       "'../download_data/madagascar-latest-free.shp.zip'"
      ]
     },
     "execution_count": 11,
     "metadata": {},
     "output_type": "execute_result"
    }
   ],
   "source": [
    "# wget.download(osm_mdg_url, '../download_data/madagascar-latest-free.shp.zip')"
   ]
  },
  {
   "cell_type": "markdown",
   "metadata": {},
   "source": [
    "### Unzip all datasets"
   ]
  },
  {
   "cell_type": "code",
   "execution_count": 67,
   "metadata": {},
   "outputs": [],
   "source": [
    "for i in glob.glob(\"../download_data/*.zip\"):\n",
    "    if os.path.isdir(os.path.splitext(i)[0]):\n",
    "        pass\n",
    "    else:\n",
    "        with ZipFile(i) as myzip:\n",
    "            myzip.extractall(os.path.splitext(i)[0])"
   ]
  },
  {
   "cell_type": "markdown",
   "metadata": {},
   "source": [
    "### Get intersection of HRSL pixels and OSM Buildings"
   ]
  },
  {
   "cell_type": "markdown",
   "metadata": {},
   "source": [
    "#### Load HRSL dataset"
   ]
  },
  {
   "cell_type": "markdown",
   "metadata": {},
   "source": [
    "Note: unlike Philippines, Madagascar has no separate male and female layers, so the \"Add male and female population to get total population\" step is skipped"
   ]
  },
  {
   "cell_type": "code",
   "execution_count": 3,
   "metadata": {},
   "outputs": [],
   "source": [
    "hrsl_mdg = rasterio.open(\n",
    "    \"../download_data/mdg_hrsl_oct_2018/population_mdg_2018-10-01.tif\"\n",
    ")"
   ]
  },
  {
   "cell_type": "code",
   "execution_count": 69,
   "metadata": {},
   "outputs": [],
   "source": [
    "hrsl_mdg_band1_mask = hrsl_mdg.read_masks(1)"
   ]
  },
  {
   "cell_type": "markdown",
   "metadata": {},
   "source": [
    "#### Convert HRSL dataset from raster to vector"
   ]
  },
  {
   "cell_type": "code",
   "execution_count": 70,
   "metadata": {},
   "outputs": [],
   "source": [
    "hrsl_mdg_rand = np.random.rand(\n",
    "    np.shape(hrsl_mdg_band1_mask)[0], np.shape(hrsl_mdg_band1_mask)[1]\n",
    ")\n",
    "hrsl_mdg_rand = hrsl_mdg_rand.astype(\"float32\")"
   ]
  },
  {
   "cell_type": "code",
   "execution_count": 71,
   "metadata": {},
   "outputs": [],
   "source": [
    "hrsl_mdg_band1_poly = list(\n",
    "    rasterio.features.shapes(\n",
    "        hrsl_mdg_rand, transform=hrsl_mdg.transform, mask=hrsl_mdg_band1_mask\n",
    "    )\n",
    ")"
   ]
  },
  {
   "cell_type": "code",
   "execution_count": 72,
   "metadata": {},
   "outputs": [],
   "source": [
    "hrsl_mdg_geom = []\n",
    "for geom, value in hrsl_mdg_band1_poly:\n",
    "    geom = shapely.geometry.shape(geom)\n",
    "    hrsl_mdg_geom.append(geom)"
   ]
  },
  {
   "cell_type": "code",
   "execution_count": 73,
   "metadata": {},
   "outputs": [],
   "source": [
    "hrsl_mdg_gdf = pd.DataFrame(hrsl_mdg_geom)\n",
    "hrsl_mdg_gdf = gpd.GeoDataFrame(hrsl_mdg_gdf, geometry=hrsl_mdg_gdf[0], crs=\"EPSG:4326\")\n",
    "hrsl_mdg_gdf.drop(columns=[0], inplace=True)\n",
    "hrsl_mdg_gdf.reset_index(level=0, inplace=True)"
   ]
  },
  {
   "cell_type": "code",
   "execution_count": 74,
   "metadata": {},
   "outputs": [],
   "source": [
    "hrsl_mdg_gdf.to_file('../data/hrsl_mdg.gpkg', driver='GPKG')"
   ]
  },
  {
   "cell_type": "markdown",
   "metadata": {},
   "source": [
    "#### Load OSM dataset"
   ]
  },
  {
   "cell_type": "code",
   "execution_count": 75,
   "metadata": {},
   "outputs": [],
   "source": [
    "# 2020 OSM File\n",
    "osm_mdg = gpd.read_file(\n",
    "    \"../download_data/mdg_osm_jan_2020_buildings.gpkg/mdg_osm_jan_2020_buildings.gpkg\",\n",
    "    driver=\"GPKG\",\n",
    ")"
   ]
  },
  {
   "cell_type": "code",
   "execution_count": 28,
   "metadata": {},
   "outputs": [],
   "source": [
    "# The 2021 zip file contains many shapefiles for points of interests, landuse, waterways, etc. \n",
    "# We are only interested in loading the building footprint data\n",
    "# osm_mdg = gpd.read_file(\n",
    "#     \"../download_data/madagascar-latest-free.shp/gis_osm_buildings_a_free_1.shp\",\n",
    "#     driver=\"shp\",\n",
    "# )"
   ]
  },
  {
   "cell_type": "code",
   "execution_count": 29,
   "metadata": {},
   "outputs": [],
   "source": [
    "osm_mdg.to_file('../data/madagascar-latest-free.gpkg',driver = 'GPKG')"
   ]
  },
  {
   "cell_type": "markdown",
   "metadata": {},
   "source": [
    "#### Get mapped pixels"
   ]
  },
  {
   "cell_type": "code",
   "execution_count": 30,
   "metadata": {},
   "outputs": [],
   "source": [
    "# Just run this so you don't have to rerun everything up top\n",
    "hrsl_mdg_gdf = gpd.read_file('../data/hrsl_mdg.gpkg', driver='GPKG')"
   ]
  },
  {
   "cell_type": "code",
   "execution_count": 30,
   "metadata": {},
   "outputs": [],
   "source": [
    "# 2021 OSM File\n",
    "osm_mdg = gpd.read_file('../data/madagascar-latest-free.gpkg',driver = 'GPKG')"
   ]
  },
  {
   "cell_type": "code",
   "execution_count": 76,
   "metadata": {},
   "outputs": [],
   "source": [
    "mdg_pixels_with_buildings = gpd.sjoin(\n",
    "    hrsl_mdg_gdf, osm_mdg, how=\"inner\", op=\"intersects\"\n",
    ")"
   ]
  },
  {
   "cell_type": "code",
   "execution_count": 77,
   "metadata": {},
   "outputs": [],
   "source": [
    "mdg_pixels_with_buildings = mdg_pixels_with_buildings.drop_duplicates(subset='index')"
   ]
  },
  {
   "cell_type": "code",
   "execution_count": 78,
   "metadata": {},
   "outputs": [],
   "source": [
    "mdg_pixels_with_buildings.drop(columns=['index_right', 'osm_id', 'code', 'fclass', 'name', 'type'], inplace=True)"
   ]
  },
  {
   "cell_type": "code",
   "execution_count": 79,
   "metadata": {},
   "outputs": [],
   "source": [
    "# 2020\n",
    "mdg_pixels_with_buildings.to_file('../data/mdg_pixels_with_buildings_jan2020.gpkg', driver='GPKG')"
   ]
  },
  {
   "cell_type": "code",
   "execution_count": 46,
   "metadata": {},
   "outputs": [],
   "source": [
    "# 2021\n",
    "# mdg_pixels_with_buildings.to_file('../data/mdg_pixels_with_buildings.gpkg', driver='GPKG')"
   ]
  },
  {
   "cell_type": "markdown",
   "metadata": {},
   "source": [
    "#### Get unmapped pixels"
   ]
  },
  {
   "cell_type": "code",
   "execution_count": 80,
   "metadata": {},
   "outputs": [],
   "source": [
    "mdg_pixels_no_buildings = pd.merge(hrsl_mdg_gdf, mdg_pixels_with_buildings, how='outer', indicator=True)"
   ]
  },
  {
   "cell_type": "code",
   "execution_count": 81,
   "metadata": {},
   "outputs": [],
   "source": [
    "mdg_pixels_no_buildings = mdg_pixels_no_buildings[mdg_pixels_no_buildings['_merge'] == 'left_only']"
   ]
  },
  {
   "cell_type": "code",
   "execution_count": 82,
   "metadata": {},
   "outputs": [],
   "source": [
    "mdg_pixels_no_buildings.drop(columns=['_merge'], inplace=True)"
   ]
  },
  {
   "cell_type": "code",
   "execution_count": 83,
   "metadata": {},
   "outputs": [],
   "source": [
    "# 2020\n",
    "mdg_pixels_no_buildings.to_file('../data/mdg_pixels_no_buildings_jan2020.gpkg', driver='GPKG')"
   ]
  },
  {
   "cell_type": "code",
   "execution_count": 38,
   "metadata": {},
   "outputs": [],
   "source": [
    "# 2021\n",
    "# mdg_pixels_no_buildings.to_file('../data/mdg_pixels_no_buildings.gpkg', driver='GPKG')"
   ]
  },
  {
   "cell_type": "markdown",
   "metadata": {},
   "source": [
    "#### Calculate percent completeness"
   ]
  },
  {
   "cell_type": "code",
   "execution_count": 84,
   "metadata": {},
   "outputs": [
    {
     "data": {
      "text/plain": [
       "10.89030131380777"
      ]
     },
     "execution_count": 84,
     "metadata": {},
     "output_type": "execute_result"
    }
   ],
   "source": [
    "len(mdg_pixels_with_buildings) / (len(mdg_pixels_with_buildings) + len(mdg_pixels_no_buildings)) * 100"
   ]
  },
  {
   "cell_type": "markdown",
   "metadata": {},
   "source": [
    "### Aggregate to different admin boundaries"
   ]
  },
  {
   "cell_type": "markdown",
   "metadata": {},
   "source": [
    "#### Turn mapped pixels from a polygon layer to a point layer"
   ]
  },
  {
   "cell_type": "code",
   "execution_count": 8,
   "metadata": {},
   "outputs": [],
   "source": [
    "# # 2020\n",
    "# # Just run this so you don't have to rerun everything up top\n",
    "# mdg_pixels_with_buildings = gpd.read_file(\n",
    "#     \"../data/mdg_pixels_with_buildings_jan2020.gpkg\", driver=\"GPKG\"\n",
    "# )"
   ]
  },
  {
   "cell_type": "code",
   "execution_count": 8,
   "metadata": {},
   "outputs": [],
   "source": [
    "# # 2021\n",
    "# # Just run this so you don't have to rerun everything up top\n",
    "# mdg_pixels_with_buildings = gpd.read_file(\n",
    "#     \"../data/mdg_pixels_with_buildings.gpkg\", driver=\"GPKG\"\n",
    "# )"
   ]
  },
  {
   "cell_type": "code",
   "execution_count": 85,
   "metadata": {},
   "outputs": [
    {
     "name": "stderr",
     "output_type": "stream",
     "text": [
      "/opt/conda/lib/python3.7/site-packages/ipykernel_launcher.py:1: UserWarning: Geometry is in a geographic CRS. Results from 'centroid' are likely incorrect. Use 'GeoSeries.to_crs()' to re-project geometries to a projected CRS before this operation.\n",
      "\n",
      "  \"\"\"Entry point for launching an IPython kernel.\n"
     ]
    }
   ],
   "source": [
    "mdg_pixels_with_buildings[\"geometry\"] = mdg_pixels_with_buildings[\"geometry\"].centroid"
   ]
  },
  {
   "cell_type": "markdown",
   "metadata": {},
   "source": [
    "#### Turn unmapped pixels from a polygon layer to a point layer"
   ]
  },
  {
   "cell_type": "code",
   "execution_count": 10,
   "metadata": {},
   "outputs": [],
   "source": [
    "# # 2020\n",
    "# # Just run this so you don't have to rerun everything up top\n",
    "# mdg_pixels_no_buildings = gpd.read_file(\n",
    "#     \"../data/mdg_pixels_no_buildings_jan2020.gpkg\", driver=\"GPKG\"\n",
    "# )"
   ]
  },
  {
   "cell_type": "code",
   "execution_count": 10,
   "metadata": {},
   "outputs": [],
   "source": [
    "# # 2021\n",
    "# # Just run this so you don't have to rerun everything up top\n",
    "# mdg_pixels_no_buildings = gpd.read_file(\n",
    "#     \"../data/mdg_pixels_no_buildings.gpkg\", driver=\"GPKG\"\n",
    "# )"
   ]
  },
  {
   "cell_type": "code",
   "execution_count": 86,
   "metadata": {},
   "outputs": [
    {
     "name": "stderr",
     "output_type": "stream",
     "text": [
      "/opt/conda/lib/python3.7/site-packages/ipykernel_launcher.py:1: UserWarning: Geometry is in a geographic CRS. Results from 'centroid' are likely incorrect. Use 'GeoSeries.to_crs()' to re-project geometries to a projected CRS before this operation.\n",
      "\n",
      "  \"\"\"Entry point for launching an IPython kernel.\n"
     ]
    }
   ],
   "source": [
    "mdg_pixels_no_buildings[\"geometry\"] = mdg_pixels_no_buildings[\"geometry\"].centroid"
   ]
  },
  {
   "cell_type": "markdown",
   "metadata": {},
   "source": [
    "#### Load level 4 admin boundary"
   ]
  },
  {
   "cell_type": "code",
   "execution_count": 12,
   "metadata": {},
   "outputs": [],
   "source": [
    "mdg_adm4 = gpd.read_file(\n",
    "    \"../download_data/mdg_adm_all/mdg_admbnda_adm4_BNGRC_OCHA_20181031.shp\"\n",
    ")"
   ]
  },
  {
   "cell_type": "code",
   "execution_count": 44,
   "metadata": {},
   "outputs": [
    {
     "data": {
      "text/html": [
       "<div>\n",
       "<style scoped>\n",
       "    .dataframe tbody tr th:only-of-type {\n",
       "        vertical-align: middle;\n",
       "    }\n",
       "\n",
       "    .dataframe tbody tr th {\n",
       "        vertical-align: top;\n",
       "    }\n",
       "\n",
       "    .dataframe thead th {\n",
       "        text-align: right;\n",
       "    }\n",
       "</style>\n",
       "<table border=\"1\" class=\"dataframe\">\n",
       "  <thead>\n",
       "    <tr style=\"text-align: right;\">\n",
       "      <th></th>\n",
       "      <th>ADM0_PCODE</th>\n",
       "      <th>ADM0_EN</th>\n",
       "      <th>ADM1_PCODE</th>\n",
       "      <th>ADM1_EN</th>\n",
       "      <th>ADM1_TYPE</th>\n",
       "      <th>ADM2_PCODE</th>\n",
       "      <th>ADM2_EN</th>\n",
       "      <th>ADM2_TYPE</th>\n",
       "      <th>ADM3_PCODE</th>\n",
       "      <th>ADM3_EN</th>\n",
       "      <th>ADM3_TYPE</th>\n",
       "      <th>ADM4_PCODE</th>\n",
       "      <th>ADM4_EN</th>\n",
       "      <th>ADM4_TYPE</th>\n",
       "      <th>PROV_CODE_</th>\n",
       "      <th>OLD_PROVIN</th>\n",
       "      <th>PROV_TYPE</th>\n",
       "      <th>NOTES</th>\n",
       "      <th>SOURCE</th>\n",
       "      <th>geometry</th>\n",
       "    </tr>\n",
       "  </thead>\n",
       "  <tbody>\n",
       "    <tr>\n",
       "      <th>0</th>\n",
       "      <td>MG</td>\n",
       "      <td>Madagascar</td>\n",
       "      <td>MG22</td>\n",
       "      <td>Amoron I Mania</td>\n",
       "      <td>Region</td>\n",
       "      <td>MG22203</td>\n",
       "      <td>Ambositra</td>\n",
       "      <td>District</td>\n",
       "      <td>MG22203090</td>\n",
       "      <td>Andina</td>\n",
       "      <td>Commune</td>\n",
       "      <td>MG22203090008</td>\n",
       "      <td>Ampasina</td>\n",
       "      <td>Fokontany</td>\n",
       "      <td>2</td>\n",
       "      <td>Fianarantsoa</td>\n",
       "      <td>Old Provinces/Faritany dissolved in 2007</td>\n",
       "      <td>None</td>\n",
       "      <td>BNGRC (National Disaster Management Office) Fo...</td>\n",
       "      <td>POLYGON ((47.10540 -20.51447, 47.11485 -20.514...</td>\n",
       "    </tr>\n",
       "    <tr>\n",
       "      <th>1</th>\n",
       "      <td>MG</td>\n",
       "      <td>Madagascar</td>\n",
       "      <td>MG22</td>\n",
       "      <td>Amoron I Mania</td>\n",
       "      <td>Region</td>\n",
       "      <td>MG22203</td>\n",
       "      <td>Ambositra</td>\n",
       "      <td>District</td>\n",
       "      <td>MG22203090</td>\n",
       "      <td>Andina</td>\n",
       "      <td>Commune</td>\n",
       "      <td>MG22203090011</td>\n",
       "      <td>Antanifotsy</td>\n",
       "      <td>Fokontany</td>\n",
       "      <td>2</td>\n",
       "      <td>Fianarantsoa</td>\n",
       "      <td>Old Provinces/Faritany dissolved in 2007</td>\n",
       "      <td>None</td>\n",
       "      <td>BNGRC (National Disaster Management Office) Fo...</td>\n",
       "      <td>POLYGON ((47.13580 -20.54133, 47.13600 -20.544...</td>\n",
       "    </tr>\n",
       "    <tr>\n",
       "      <th>2</th>\n",
       "      <td>MG</td>\n",
       "      <td>Madagascar</td>\n",
       "      <td>MG24</td>\n",
       "      <td>Ihorombe</td>\n",
       "      <td>Region</td>\n",
       "      <td>MG24216</td>\n",
       "      <td>Ihosy</td>\n",
       "      <td>District</td>\n",
       "      <td>MG24216192</td>\n",
       "      <td>Andiolava</td>\n",
       "      <td>Commune</td>\n",
       "      <td>MG24216192006</td>\n",
       "      <td>Amboloando</td>\n",
       "      <td>Fokontany</td>\n",
       "      <td>2</td>\n",
       "      <td>Fianarantsoa</td>\n",
       "      <td>Old Provinces/Faritany dissolved in 2007</td>\n",
       "      <td>None</td>\n",
       "      <td>BNGRC (National Disaster Management Office) Fo...</td>\n",
       "      <td>POLYGON ((45.58350 -22.53003, 45.59102 -22.534...</td>\n",
       "    </tr>\n",
       "    <tr>\n",
       "      <th>3</th>\n",
       "      <td>MG</td>\n",
       "      <td>Madagascar</td>\n",
       "      <td>MG24</td>\n",
       "      <td>Ihorombe</td>\n",
       "      <td>Region</td>\n",
       "      <td>MG24216</td>\n",
       "      <td>Ihosy</td>\n",
       "      <td>District</td>\n",
       "      <td>MG24216192</td>\n",
       "      <td>Andiolava</td>\n",
       "      <td>Commune</td>\n",
       "      <td>MG24216192002</td>\n",
       "      <td>Vatambe Nanarena</td>\n",
       "      <td>Fokontany</td>\n",
       "      <td>2</td>\n",
       "      <td>Fianarantsoa</td>\n",
       "      <td>Old Provinces/Faritany dissolved in 2007</td>\n",
       "      <td>None</td>\n",
       "      <td>BNGRC (National Disaster Management Office) Fo...</td>\n",
       "      <td>POLYGON ((45.51825 -22.27433, 45.51900 -22.274...</td>\n",
       "    </tr>\n",
       "    <tr>\n",
       "      <th>4</th>\n",
       "      <td>MG</td>\n",
       "      <td>Madagascar</td>\n",
       "      <td>MG24</td>\n",
       "      <td>Ihorombe</td>\n",
       "      <td>Region</td>\n",
       "      <td>MG24216</td>\n",
       "      <td>Ihosy</td>\n",
       "      <td>District</td>\n",
       "      <td>MG24216192</td>\n",
       "      <td>Andiolava</td>\n",
       "      <td>Commune</td>\n",
       "      <td>MG24216192003</td>\n",
       "      <td>Vohimary</td>\n",
       "      <td>Fokontany</td>\n",
       "      <td>2</td>\n",
       "      <td>Fianarantsoa</td>\n",
       "      <td>Old Provinces/Faritany dissolved in 2007</td>\n",
       "      <td>None</td>\n",
       "      <td>BNGRC (National Disaster Management Office) Fo...</td>\n",
       "      <td>POLYGON ((45.62246 -22.40084, 45.62173 -22.414...</td>\n",
       "    </tr>\n",
       "  </tbody>\n",
       "</table>\n",
       "</div>"
      ],
      "text/plain": [
       "  ADM0_PCODE     ADM0_EN ADM1_PCODE         ADM1_EN ADM1_TYPE ADM2_PCODE  \\\n",
       "0         MG  Madagascar       MG22  Amoron I Mania    Region    MG22203   \n",
       "1         MG  Madagascar       MG22  Amoron I Mania    Region    MG22203   \n",
       "2         MG  Madagascar       MG24        Ihorombe    Region    MG24216   \n",
       "3         MG  Madagascar       MG24        Ihorombe    Region    MG24216   \n",
       "4         MG  Madagascar       MG24        Ihorombe    Region    MG24216   \n",
       "\n",
       "     ADM2_EN ADM2_TYPE  ADM3_PCODE    ADM3_EN ADM3_TYPE     ADM4_PCODE  \\\n",
       "0  Ambositra  District  MG22203090     Andina   Commune  MG22203090008   \n",
       "1  Ambositra  District  MG22203090     Andina   Commune  MG22203090011   \n",
       "2      Ihosy  District  MG24216192  Andiolava   Commune  MG24216192006   \n",
       "3      Ihosy  District  MG24216192  Andiolava   Commune  MG24216192002   \n",
       "4      Ihosy  District  MG24216192  Andiolava   Commune  MG24216192003   \n",
       "\n",
       "            ADM4_EN  ADM4_TYPE  PROV_CODE_    OLD_PROVIN  \\\n",
       "0          Ampasina  Fokontany           2  Fianarantsoa   \n",
       "1       Antanifotsy  Fokontany           2  Fianarantsoa   \n",
       "2        Amboloando  Fokontany           2  Fianarantsoa   \n",
       "3  Vatambe Nanarena  Fokontany           2  Fianarantsoa   \n",
       "4          Vohimary  Fokontany           2  Fianarantsoa   \n",
       "\n",
       "                                  PROV_TYPE NOTES  \\\n",
       "0  Old Provinces/Faritany dissolved in 2007  None   \n",
       "1  Old Provinces/Faritany dissolved in 2007  None   \n",
       "2  Old Provinces/Faritany dissolved in 2007  None   \n",
       "3  Old Provinces/Faritany dissolved in 2007  None   \n",
       "4  Old Provinces/Faritany dissolved in 2007  None   \n",
       "\n",
       "                                              SOURCE  \\\n",
       "0  BNGRC (National Disaster Management Office) Fo...   \n",
       "1  BNGRC (National Disaster Management Office) Fo...   \n",
       "2  BNGRC (National Disaster Management Office) Fo...   \n",
       "3  BNGRC (National Disaster Management Office) Fo...   \n",
       "4  BNGRC (National Disaster Management Office) Fo...   \n",
       "\n",
       "                                            geometry  \n",
       "0  POLYGON ((47.10540 -20.51447, 47.11485 -20.514...  \n",
       "1  POLYGON ((47.13580 -20.54133, 47.13600 -20.544...  \n",
       "2  POLYGON ((45.58350 -22.53003, 45.59102 -22.534...  \n",
       "3  POLYGON ((45.51825 -22.27433, 45.51900 -22.274...  \n",
       "4  POLYGON ((45.62246 -22.40084, 45.62173 -22.414...  "
      ]
     },
     "execution_count": 44,
     "metadata": {},
     "output_type": "execute_result"
    }
   ],
   "source": [
    "mdg_adm4.head()"
   ]
  },
  {
   "cell_type": "code",
   "execution_count": 87,
   "metadata": {},
   "outputs": [
    {
     "data": {
      "text/plain": [
       "ADM0_PCODE        1\n",
       "ADM0_EN           1\n",
       "ADM1_PCODE       22\n",
       "ADM1_EN          22\n",
       "ADM1_TYPE         1\n",
       "ADM2_PCODE      119\n",
       "ADM2_EN         119\n",
       "ADM2_TYPE         1\n",
       "ADM3_PCODE     1579\n",
       "ADM3_EN        1429\n",
       "ADM3_TYPE         1\n",
       "ADM4_PCODE    17465\n",
       "ADM4_EN       10977\n",
       "ADM4_TYPE         1\n",
       "PROV_CODE_        6\n",
       "OLD_PROVIN        6\n",
       "PROV_TYPE         1\n",
       "NOTES             1\n",
       "SOURCE           10\n",
       "geometry      17465\n",
       "dtype: int64"
      ]
     },
     "execution_count": 87,
     "metadata": {},
     "output_type": "execute_result"
    }
   ],
   "source": [
    "mdg_adm4.nunique()"
   ]
  },
  {
   "cell_type": "markdown",
   "metadata": {},
   "source": [
    "Note: Unlike the PH boundaries, Madagascar has unique PCODES for each ADM4 region, so no need to create a unique index for level 4"
   ]
  },
  {
   "cell_type": "markdown",
   "metadata": {},
   "source": [
    "#### Find intersection of mapped pixels and level 4 admin boundary"
   ]
  },
  {
   "cell_type": "code",
   "execution_count": 88,
   "metadata": {},
   "outputs": [],
   "source": [
    "mdg_pixels_with_buildings_sjoin_adm4 = gpd.sjoin(\n",
    "    mdg_pixels_with_buildings, mdg_adm4, how=\"left\", op=\"within\"\n",
    ")"
   ]
  },
  {
   "cell_type": "code",
   "execution_count": 89,
   "metadata": {},
   "outputs": [],
   "source": [
    "mdg_pixels_with_buildings_sjoin_adm4.drop(\n",
    "    columns=[\n",
    "        'index_right', \n",
    "        'ADM0_PCODE',\n",
    "        'ADM0_EN',\n",
    "        'ADM1_EN',\n",
    "        'ADM1_TYPE',\n",
    "        'ADM2_EN',\n",
    "        'ADM2_TYPE',\n",
    "        'ADM3_EN',\n",
    "        'ADM3_TYPE',\n",
    "        'ADM4_EN',\n",
    "        'ADM4_TYPE',\n",
    "        'PROV_CODE_',\n",
    "        'OLD_PROVIN',\n",
    "        'PROV_TYPE',\n",
    "        'NOTES',\n",
    "        'SOURCE'\n",
    "    ],\n",
    "    inplace=True,\n",
    ")"
   ]
  },
  {
   "cell_type": "code",
   "execution_count": 90,
   "metadata": {},
   "outputs": [
    {
     "data": {
      "text/html": [
       "<div>\n",
       "<style scoped>\n",
       "    .dataframe tbody tr th:only-of-type {\n",
       "        vertical-align: middle;\n",
       "    }\n",
       "\n",
       "    .dataframe tbody tr th {\n",
       "        vertical-align: top;\n",
       "    }\n",
       "\n",
       "    .dataframe thead th {\n",
       "        text-align: right;\n",
       "    }\n",
       "</style>\n",
       "<table border=\"1\" class=\"dataframe\">\n",
       "  <thead>\n",
       "    <tr style=\"text-align: right;\">\n",
       "      <th></th>\n",
       "      <th>index</th>\n",
       "      <th>geometry</th>\n",
       "      <th>ADM1_PCODE</th>\n",
       "      <th>ADM2_PCODE</th>\n",
       "      <th>ADM3_PCODE</th>\n",
       "      <th>ADM4_PCODE</th>\n",
       "    </tr>\n",
       "  </thead>\n",
       "  <tbody>\n",
       "    <tr>\n",
       "      <th>1</th>\n",
       "      <td>1</td>\n",
       "      <td>POINT (49.27167 -11.95611)</td>\n",
       "      <td>MG71</td>\n",
       "      <td>MG71713</td>\n",
       "      <td>MG71713170</td>\n",
       "      <td>MG71713170002</td>\n",
       "    </tr>\n",
       "    <tr>\n",
       "      <th>5</th>\n",
       "      <td>5</td>\n",
       "      <td>POINT (49.25278 -11.99111)</td>\n",
       "      <td>MG71</td>\n",
       "      <td>MG71713</td>\n",
       "      <td>MG71713170</td>\n",
       "      <td>MG71713170002</td>\n",
       "    </tr>\n",
       "    <tr>\n",
       "      <th>6</th>\n",
       "      <td>6</td>\n",
       "      <td>POINT (49.22861 -12.04611)</td>\n",
       "      <td>MG71</td>\n",
       "      <td>MG71713</td>\n",
       "      <td>MG71713170</td>\n",
       "      <td>MG71713170001</td>\n",
       "    </tr>\n",
       "    <tr>\n",
       "      <th>7</th>\n",
       "      <td>7</td>\n",
       "      <td>POINT (49.22861 -12.04639)</td>\n",
       "      <td>MG71</td>\n",
       "      <td>MG71713</td>\n",
       "      <td>MG71713170</td>\n",
       "      <td>MG71713170001</td>\n",
       "    </tr>\n",
       "    <tr>\n",
       "      <th>9</th>\n",
       "      <td>9</td>\n",
       "      <td>POINT (49.23278 -12.05417)</td>\n",
       "      <td>MG71</td>\n",
       "      <td>MG71713</td>\n",
       "      <td>MG71713170</td>\n",
       "      <td>MG71713170001</td>\n",
       "    </tr>\n",
       "  </tbody>\n",
       "</table>\n",
       "</div>"
      ],
      "text/plain": [
       "   index                    geometry ADM1_PCODE ADM2_PCODE  ADM3_PCODE  \\\n",
       "1      1  POINT (49.27167 -11.95611)       MG71    MG71713  MG71713170   \n",
       "5      5  POINT (49.25278 -11.99111)       MG71    MG71713  MG71713170   \n",
       "6      6  POINT (49.22861 -12.04611)       MG71    MG71713  MG71713170   \n",
       "7      7  POINT (49.22861 -12.04639)       MG71    MG71713  MG71713170   \n",
       "9      9  POINT (49.23278 -12.05417)       MG71    MG71713  MG71713170   \n",
       "\n",
       "      ADM4_PCODE  \n",
       "1  MG71713170002  \n",
       "5  MG71713170002  \n",
       "6  MG71713170001  \n",
       "7  MG71713170001  \n",
       "9  MG71713170001  "
      ]
     },
     "execution_count": 90,
     "metadata": {},
     "output_type": "execute_result"
    }
   ],
   "source": [
    "mdg_pixels_with_buildings_sjoin_adm4.head()"
   ]
  },
  {
   "cell_type": "code",
   "execution_count": 91,
   "metadata": {},
   "outputs": [],
   "source": [
    "# 2020\n",
    "mdg_pixels_with_buildings_sjoin_adm4.to_file(\n",
    "    \"../data/mdg_pixels_with_buildings_sjoin_adm4_jan2020.gpkg\", driver=\"GPKG\"\n",
    ")"
   ]
  },
  {
   "cell_type": "code",
   "execution_count": 26,
   "metadata": {},
   "outputs": [],
   "source": [
    "# # 2021\n",
    "# mdg_pixels_with_buildings_sjoin_adm4.to_file(\n",
    "#     \"../data/mdg_pixels_with_buildings_sjoin_adm4.gpkg\", driver=\"GPKG\"\n",
    "# )"
   ]
  },
  {
   "cell_type": "markdown",
   "metadata": {},
   "source": [
    "#### Find intersection of unmapped pixels and level 4 admin boundary"
   ]
  },
  {
   "cell_type": "code",
   "execution_count": 92,
   "metadata": {},
   "outputs": [],
   "source": [
    "mdg_pixels_no_buildings_sjoin_adm4 = gpd.sjoin(\n",
    "    mdg_pixels_no_buildings, mdg_adm4, how=\"left\", op=\"within\"\n",
    ")"
   ]
  },
  {
   "cell_type": "code",
   "execution_count": 93,
   "metadata": {},
   "outputs": [],
   "source": [
    "mdg_pixels_no_buildings_sjoin_adm4.drop(\n",
    "    columns=[\n",
    "        'index_right', \n",
    "        'ADM0_PCODE',\n",
    "        'ADM0_EN',\n",
    "        'ADM1_EN',\n",
    "        'ADM1_TYPE',\n",
    "        'ADM2_EN',\n",
    "        'ADM2_TYPE',\n",
    "        'ADM3_EN',\n",
    "        'ADM3_TYPE',\n",
    "        'ADM4_EN',\n",
    "        'ADM4_TYPE',\n",
    "        'PROV_CODE_',\n",
    "        'OLD_PROVIN',\n",
    "        'PROV_TYPE',\n",
    "        'NOTES',\n",
    "        'SOURCE'\n",
    "    ],\n",
    "    inplace=True,\n",
    ")"
   ]
  },
  {
   "cell_type": "code",
   "execution_count": 94,
   "metadata": {},
   "outputs": [
    {
     "name": "stdout",
     "output_type": "stream",
     "text": [
      "<class 'geopandas.geodataframe.GeoDataFrame'>\n",
      "Int64Index: 1411110 entries, 0 to 1583564\n",
      "Data columns (total 6 columns):\n",
      " #   Column      Non-Null Count    Dtype   \n",
      "---  ------      --------------    -----   \n",
      " 0   index       1411110 non-null  int64   \n",
      " 1   geometry    1411110 non-null  geometry\n",
      " 2   ADM1_PCODE  1410004 non-null  object  \n",
      " 3   ADM2_PCODE  1410004 non-null  object  \n",
      " 4   ADM3_PCODE  1410004 non-null  object  \n",
      " 5   ADM4_PCODE  1410004 non-null  object  \n",
      "dtypes: geometry(1), int64(1), object(4)\n",
      "memory usage: 75.4+ MB\n"
     ]
    }
   ],
   "source": [
    "mdg_pixels_no_buildings_sjoin_adm4.info()"
   ]
  },
  {
   "cell_type": "code",
   "execution_count": 95,
   "metadata": {},
   "outputs": [],
   "source": [
    "# # 2020\n",
    "mdg_pixels_no_buildings_sjoin_adm4.to_file(\n",
    "    \"../data/mdg_pixels_no_buildings_sjoin_adm4_jan2020.gpkg\", driver=\"GPKG\"\n",
    ")"
   ]
  },
  {
   "cell_type": "code",
   "execution_count": 27,
   "metadata": {},
   "outputs": [],
   "source": [
    "# # 2021\n",
    "# mdg_pixels_no_buildings_sjoin_adm4.to_file(\n",
    "#     \"../data/mdg_pixels_no_buildings_sjoin_adm4.gpkg\", driver=\"GPKG\"\n",
    "# )"
   ]
  },
  {
   "cell_type": "markdown",
   "metadata": {},
   "source": [
    "### Saving final output"
   ]
  },
  {
   "cell_type": "code",
   "execution_count": 11,
   "metadata": {},
   "outputs": [],
   "source": [
    "# # 2020\n",
    "# # Just run this so you don't have to rerun everything up top\n",
    "mdg_pixels_no_buildings_sjoin_adm4 = gpd.read_file(\n",
    "    \"../data/mdg_pixels_no_buildings_sjoin_adm4_jan2020.gpkg\", driver=\"GPKG\"\n",
    ")\n",
    "mdg_pixels_with_buildings_sjoin_adm4 = gpd.read_file(\n",
    "    \"../data/mdg_pixels_with_buildings_sjoin_adm4_jan2020.gpkg\", driver=\"GPKG\"\n",
    ")"
   ]
  },
  {
   "cell_type": "code",
   "execution_count": 12,
   "metadata": {},
   "outputs": [],
   "source": [
    "# Drop nan values in the dataframe\n",
    "mdg_pixels_no_buildings_sjoin_adm4.dropna(\n",
    "    subset=[\"ADM4_PCODE\",\"ADM3_PCODE\",\"ADM2_PCODE\",\"ADM1_PCODE\"], inplace=True\n",
    ")\n",
    "\n",
    "mdg_pixels_with_buildings_sjoin_adm4.dropna(\n",
    "    subset=[\"ADM4_PCODE\",\"ADM3_PCODE\",\"ADM2_PCODE\",\"ADM1_PCODE\"], inplace=True\n",
    ")"
   ]
  },
  {
   "cell_type": "code",
   "execution_count": 13,
   "metadata": {},
   "outputs": [],
   "source": [
    "# Adding a column to indicate that these pixels are mapped/unmapped\n",
    "mdg_pixels_with_buildings_sjoin_adm4[\"status\"] = \"mapped\"\n",
    "mdg_pixels_no_buildings_sjoin_adm4[\"status\"] = \"unmapped\""
   ]
  },
  {
   "cell_type": "code",
   "execution_count": 14,
   "metadata": {},
   "outputs": [],
   "source": [
    "# Join the mapped and unppaed pixels together\n",
    "mdg_pixels_all = pd.concat(\n",
    "    [mdg_pixels_with_buildings_sjoin_adm4, mdg_pixels_no_buildings_sjoin_adm4]\n",
    ")"
   ]
  },
  {
   "cell_type": "markdown",
   "metadata": {},
   "source": [
    "Final output for Madagascar should be as follows:"
   ]
  },
  {
   "cell_type": "code",
   "execution_count": 15,
   "metadata": {},
   "outputs": [
    {
     "data": {
      "text/html": [
       "<div>\n",
       "<style scoped>\n",
       "    .dataframe tbody tr th:only-of-type {\n",
       "        vertical-align: middle;\n",
       "    }\n",
       "\n",
       "    .dataframe tbody tr th {\n",
       "        vertical-align: top;\n",
       "    }\n",
       "\n",
       "    .dataframe thead th {\n",
       "        text-align: right;\n",
       "    }\n",
       "</style>\n",
       "<table border=\"1\" class=\"dataframe\">\n",
       "  <thead>\n",
       "    <tr style=\"text-align: right;\">\n",
       "      <th></th>\n",
       "      <th>index</th>\n",
       "      <th>ADM1_PCODE</th>\n",
       "      <th>ADM2_PCODE</th>\n",
       "      <th>ADM3_PCODE</th>\n",
       "      <th>ADM4_PCODE</th>\n",
       "      <th>geometry</th>\n",
       "      <th>status</th>\n",
       "    </tr>\n",
       "  </thead>\n",
       "  <tbody>\n",
       "    <tr>\n",
       "      <th>0</th>\n",
       "      <td>1</td>\n",
       "      <td>MG71</td>\n",
       "      <td>MG71713</td>\n",
       "      <td>MG71713170</td>\n",
       "      <td>MG71713170002</td>\n",
       "      <td>POINT (49.27167 -11.95611)</td>\n",
       "      <td>mapped</td>\n",
       "    </tr>\n",
       "    <tr>\n",
       "      <th>1</th>\n",
       "      <td>5</td>\n",
       "      <td>MG71</td>\n",
       "      <td>MG71713</td>\n",
       "      <td>MG71713170</td>\n",
       "      <td>MG71713170002</td>\n",
       "      <td>POINT (49.25278 -11.99111)</td>\n",
       "      <td>mapped</td>\n",
       "    </tr>\n",
       "    <tr>\n",
       "      <th>2</th>\n",
       "      <td>6</td>\n",
       "      <td>MG71</td>\n",
       "      <td>MG71713</td>\n",
       "      <td>MG71713170</td>\n",
       "      <td>MG71713170001</td>\n",
       "      <td>POINT (49.22861 -12.04611)</td>\n",
       "      <td>mapped</td>\n",
       "    </tr>\n",
       "    <tr>\n",
       "      <th>3</th>\n",
       "      <td>7</td>\n",
       "      <td>MG71</td>\n",
       "      <td>MG71713</td>\n",
       "      <td>MG71713170</td>\n",
       "      <td>MG71713170001</td>\n",
       "      <td>POINT (49.22861 -12.04639)</td>\n",
       "      <td>mapped</td>\n",
       "    </tr>\n",
       "    <tr>\n",
       "      <th>4</th>\n",
       "      <td>9</td>\n",
       "      <td>MG71</td>\n",
       "      <td>MG71713</td>\n",
       "      <td>MG71713170</td>\n",
       "      <td>MG71713170001</td>\n",
       "      <td>POINT (49.23278 -12.05417)</td>\n",
       "      <td>mapped</td>\n",
       "    </tr>\n",
       "  </tbody>\n",
       "</table>\n",
       "</div>"
      ],
      "text/plain": [
       "   index ADM1_PCODE ADM2_PCODE  ADM3_PCODE     ADM4_PCODE  \\\n",
       "0      1       MG71    MG71713  MG71713170  MG71713170002   \n",
       "1      5       MG71    MG71713  MG71713170  MG71713170002   \n",
       "2      6       MG71    MG71713  MG71713170  MG71713170001   \n",
       "3      7       MG71    MG71713  MG71713170  MG71713170001   \n",
       "4      9       MG71    MG71713  MG71713170  MG71713170001   \n",
       "\n",
       "                     geometry  status  \n",
       "0  POINT (49.27167 -11.95611)  mapped  \n",
       "1  POINT (49.25278 -11.99111)  mapped  \n",
       "2  POINT (49.22861 -12.04611)  mapped  \n",
       "3  POINT (49.22861 -12.04639)  mapped  \n",
       "4  POINT (49.23278 -12.05417)  mapped  "
      ]
     },
     "execution_count": 15,
     "metadata": {},
     "output_type": "execute_result"
    }
   ],
   "source": [
    "mdg_pixels_all.head()"
   ]
  },
  {
   "cell_type": "code",
   "execution_count": 16,
   "metadata": {},
   "outputs": [],
   "source": [
    "# 2020\n",
    "# Save all columns (including geometry) to gkpg\n",
    "mdg_pixels_all.to_file(\"../data/mdg_pixels_all_jan2020.gpkg\", driver=\"GPKG\")"
   ]
  },
  {
   "cell_type": "code",
   "execution_count": 17,
   "metadata": {},
   "outputs": [],
   "source": [
    "# 2020\n",
    "# Drop geometry column\n",
    "mdg_pixels_all.drop(columns=[\"geometry\"], inplace=True)"
   ]
  },
  {
   "cell_type": "code",
   "execution_count": 18,
   "metadata": {},
   "outputs": [],
   "source": [
    "# 2020\n",
    "# Save remaining columns as csv \n",
    "mdg_pixels_all.to_csv(\"../data/mdg_pixels_all_jan2020.csv\", index=False)"
   ]
  },
  {
   "cell_type": "code",
   "execution_count": 20,
   "metadata": {},
   "outputs": [
    {
     "name": "stdout",
     "output_type": "stream",
     "text": [
      "Copying file:///home/jupyter/osm-completeness/data/mdg_pixels_all.gpkg [Content-Type=application/octet-stream]...\n",
      "==> NOTE: You are uploading one or more large file(s), which would run          \n",
      "significantly faster if you enable parallel composite uploads. This\n",
      "feature can be enabled by editing the\n",
      "\"parallel_composite_upload_threshold\" value in your .boto\n",
      "configuration file. However, note that if you do this large files will\n",
      "be uploaded as `composite objects\n",
      "<https://cloud.google.com/storage/docs/composite-objects>`_,which\n",
      "means that any user who downloads such objects will need to have a\n",
      "compiled crcmod installed (see \"gsutil help crcmod\"). This is because\n",
      "without a compiled crcmod, computing checksums on composite objects is\n",
      "so slow that gsutil disables downloads of composite objects.\n",
      "\n",
      "| [1 files][222.1 MiB/222.1 MiB]                                                \n",
      "Operation completed over 1 objects/222.1 MiB.                                    \n"
     ]
    }
   ],
   "source": [
    "! gsutil cp ~/osm-completeness/data/mdg_pixels_all.gpkg gs://tm-ardie/2021-07-13-osm-completeness-madagascar/"
   ]
  },
  {
   "cell_type": "code",
   "execution_count": 22,
   "metadata": {},
   "outputs": [
    {
     "data": {
      "text/html": [
       "<div>\n",
       "<style scoped>\n",
       "    .dataframe tbody tr th:only-of-type {\n",
       "        vertical-align: middle;\n",
       "    }\n",
       "\n",
       "    .dataframe tbody tr th {\n",
       "        vertical-align: top;\n",
       "    }\n",
       "\n",
       "    .dataframe thead th {\n",
       "        text-align: right;\n",
       "    }\n",
       "</style>\n",
       "<table border=\"1\" class=\"dataframe\">\n",
       "  <thead>\n",
       "    <tr style=\"text-align: right;\">\n",
       "      <th></th>\n",
       "      <th>index</th>\n",
       "      <th>ADM1_PCODE</th>\n",
       "      <th>ADM2_PCODE</th>\n",
       "      <th>ADM3_PCODE</th>\n",
       "      <th>ADM4_PCODE</th>\n",
       "      <th>status</th>\n",
       "      <th>geometry</th>\n",
       "    </tr>\n",
       "  </thead>\n",
       "  <tbody>\n",
       "    <tr>\n",
       "      <th>0</th>\n",
       "      <td>1</td>\n",
       "      <td>MG71</td>\n",
       "      <td>MG71713</td>\n",
       "      <td>MG71713170</td>\n",
       "      <td>MG71713170002</td>\n",
       "      <td>mapped</td>\n",
       "      <td>POINT (49.27167 -11.95611)</td>\n",
       "    </tr>\n",
       "    <tr>\n",
       "      <th>1</th>\n",
       "      <td>5</td>\n",
       "      <td>MG71</td>\n",
       "      <td>MG71713</td>\n",
       "      <td>MG71713170</td>\n",
       "      <td>MG71713170002</td>\n",
       "      <td>mapped</td>\n",
       "      <td>POINT (49.25278 -11.99111)</td>\n",
       "    </tr>\n",
       "    <tr>\n",
       "      <th>2</th>\n",
       "      <td>6</td>\n",
       "      <td>MG71</td>\n",
       "      <td>MG71713</td>\n",
       "      <td>MG71713170</td>\n",
       "      <td>MG71713170001</td>\n",
       "      <td>mapped</td>\n",
       "      <td>POINT (49.22861 -12.04611)</td>\n",
       "    </tr>\n",
       "    <tr>\n",
       "      <th>3</th>\n",
       "      <td>7</td>\n",
       "      <td>MG71</td>\n",
       "      <td>MG71713</td>\n",
       "      <td>MG71713170</td>\n",
       "      <td>MG71713170001</td>\n",
       "      <td>mapped</td>\n",
       "      <td>POINT (49.22861 -12.04639)</td>\n",
       "    </tr>\n",
       "    <tr>\n",
       "      <th>4</th>\n",
       "      <td>9</td>\n",
       "      <td>MG71</td>\n",
       "      <td>MG71713</td>\n",
       "      <td>MG71713170</td>\n",
       "      <td>MG71713170001</td>\n",
       "      <td>mapped</td>\n",
       "      <td>POINT (49.23278 -12.05417)</td>\n",
       "    </tr>\n",
       "  </tbody>\n",
       "</table>\n",
       "</div>"
      ],
      "text/plain": [
       "   index ADM1_PCODE ADM2_PCODE  ADM3_PCODE     ADM4_PCODE  status  \\\n",
       "0      1       MG71    MG71713  MG71713170  MG71713170002  mapped   \n",
       "1      5       MG71    MG71713  MG71713170  MG71713170002  mapped   \n",
       "2      6       MG71    MG71713  MG71713170  MG71713170001  mapped   \n",
       "3      7       MG71    MG71713  MG71713170  MG71713170001  mapped   \n",
       "4      9       MG71    MG71713  MG71713170  MG71713170001  mapped   \n",
       "\n",
       "                     geometry  \n",
       "0  POINT (49.27167 -11.95611)  \n",
       "1  POINT (49.25278 -11.99111)  \n",
       "2  POINT (49.22861 -12.04611)  \n",
       "3  POINT (49.22861 -12.04639)  \n",
       "4  POINT (49.23278 -12.05417)  "
      ]
     },
     "execution_count": 22,
     "metadata": {},
     "output_type": "execute_result"
    }
   ],
   "source": [
    "test_gdf = gpd.read_file(\"../data/mdg_pixels_all.gpkg\",driver='GPKG')\n",
    "test_gdf.head()"
   ]
  },
  {
   "cell_type": "code",
   "execution_count": 62,
   "metadata": {},
   "outputs": [],
   "source": [
    "# 2021\n",
    "# Save all columns (including geometry) to gkpg\n",
    "# mdg_pixels_all.to_file(\"../data/mdg_pixels_all.gpkg\", driver=\"GPKG\")"
   ]
  },
  {
   "cell_type": "code",
   "execution_count": 63,
   "metadata": {},
   "outputs": [],
   "source": [
    "# 2021\n",
    "# Drop geometry column\n",
    "# mdg_pixels_all.drop(columns=[\"geometry\"], inplace=True)"
   ]
  },
  {
   "cell_type": "code",
   "execution_count": 64,
   "metadata": {},
   "outputs": [],
   "source": [
    "# 2021\n",
    "# Save remaining columns as csv \n",
    "# mdg_pixels_all.to_csv(\"../data/mdg_pixels_all.csv\", index=False)"
   ]
  },
  {
   "cell_type": "code",
   "execution_count": null,
   "metadata": {},
   "outputs": [],
   "source": [
    "1+1"
   ]
  }
 ],
 "metadata": {
  "environment": {
   "kernel": "python3",
   "name": "common-cpu.m86",
   "type": "gcloud",
   "uri": "gcr.io/deeplearning-platform-release/base-cpu:m86"
  },
  "kernelspec": {
   "display_name": "Python 3",
   "language": "python",
   "name": "python3"
  },
  "language_info": {
   "codemirror_mode": {
    "name": "ipython",
    "version": 3
   },
   "file_extension": ".py",
   "mimetype": "text/x-python",
   "name": "python",
   "nbconvert_exporter": "python",
   "pygments_lexer": "ipython3",
   "version": "3.7.12"
  }
 },
 "nbformat": 4,
 "nbformat_minor": 4
}
